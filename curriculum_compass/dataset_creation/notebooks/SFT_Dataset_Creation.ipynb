{
 "cells": [
  {
   "cell_type": "code",
   "execution_count": null,
   "id": "8ad526b1-8048-4043-9a84-3142d0c1c704",
   "metadata": {},
   "outputs": [],
   "source": [
    "seed_query_list = [\n",
    "    \"What courses are being offered for the {semester} semester?\",\n",
    "    \"Which professor is taking the course {course_name}?\",\n",
    "    \"What are the courses available related to {topic}?\",\n",
    "    \"Can you please suggest online courses to take?\",\n",
    "    \"Can you suggest research or seminar-based courses?\",\n",
    "    \"Can you suggest courses without exams?\",\n",
    "    \"Can you suggest courses which are not too hectic and easy to get good grades?\",\n",
    "    \"What are the class timings for the course {course_name}?\",\n",
    "    \"Are there any prerequisite courses for {course_name}?\",\n",
    "    \"Has the course {course_name} been offered in the past? If so, could you summarize the reviews?\",\n",
    "    \"How's the course {course_name} based on the reviews?\",\n",
    "    \"How difficult is the course {course_name}?\",\n",
    "    \"What courses are being offered by Professor {professor_name}?\",\n",
    "    \"How is Professor {professor_name} in terms of grading?\"\n",
    "]\n",
    "\n",
    "semester = \"Spring 2025\"\n",
    "\n",
    "topics = [\n",
    "    \"Machine Learning\",\n",
    "    \"Deep Learning\",\n",
    "    \"Data Science\",\n",
    "    \"Computer Systems\",\n",
    "    \"Programming\",\n",
    "    \"Development\"\n",
    "]\n",
    "\n",
    "course_name = [\n",
    "    'Foundations of Artificial Intelligence',\n",
    "    'Algorithms',\n",
    "    'Programming Design Paradigm',\n",
    "    'Pattern Recognition and Computer Vision',\n",
    "    'Natural Language Processing',\n",
    "    'Deep Learning',\n",
    "    'Machine Learning',\n",
    "    'Information Retrieval',\n",
    "    'Computer Systems',\n",
    "    'Database Management',\n",
    "    'Recitation for CS5010',\n",
    "    'Foundations of Software Engineering',\n",
    "    'Reinforcement Learning',\n",
    "    'Computer/Human Interaction',\n",
    "    'Web Development',\n",
    "    'Compilers',\n",
    "    'Mobile Application Development',\n",
    "    'Discrete Structures',\n",
    "    'Data Mining Techniques',\n",
    "    'Fundamentals of Cloud Computing',\n",
    "    'Object-Oriented Design',\n",
    "    'Computer Systems'\n",
    "]"
   ]
  }
 ],
 "metadata": {
  "kernelspec": {
   "display_name": "Python 3 (ipykernel)",
   "language": "python",
   "name": "python3"
  },
  "language_info": {
   "codemirror_mode": {
    "name": "ipython",
    "version": 3
   },
   "file_extension": ".py",
   "mimetype": "text/x-python",
   "name": "python",
   "nbconvert_exporter": "python",
   "pygments_lexer": "ipython3",
   "version": "3.10.14"
  }
 },
 "nbformat": 4,
 "nbformat_minor": 5
}
