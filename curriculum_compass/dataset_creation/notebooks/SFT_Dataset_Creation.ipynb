{
 "cells": [
  {
   "cell_type": "code",
   "execution_count": 1,
   "id": "6e40fda7-1b80-4f8b-b2f0-ed027f9e9c53",
   "metadata": {},
   "outputs": [],
   "source": [
    "import numpy as np\n",
    "import pandas as pd\n",
    "\n",
    "seed = 3\n",
    "np.random.seed(seed)"
   ]
  },
  {
   "cell_type": "code",
   "execution_count": 2,
   "id": "d835c555-7cca-4d20-9c87-3bbfc80c3de9",
   "metadata": {},
   "outputs": [
    {
     "data": {
      "text/html": [
       "<div>\n",
       "<style scoped>\n",
       "    .dataframe tbody tr th:only-of-type {\n",
       "        vertical-align: middle;\n",
       "    }\n",
       "\n",
       "    .dataframe tbody tr th {\n",
       "        vertical-align: top;\n",
       "    }\n",
       "\n",
       "    .dataframe thead th {\n",
       "        text-align: right;\n",
       "    }\n",
       "</style>\n",
       "<table border=\"1\" class=\"dataframe\">\n",
       "  <thead>\n",
       "    <tr style=\"text-align: right;\">\n",
       "      <th></th>\n",
       "      <th>CRN</th>\n",
       "      <th>Campus Description</th>\n",
       "      <th>Course Title</th>\n",
       "      <th>Subject Course</th>\n",
       "      <th>Faculty Name</th>\n",
       "      <th>Course Description</th>\n",
       "      <th>Term</th>\n",
       "      <th>Begin Time</th>\n",
       "      <th>End Time</th>\n",
       "      <th>Days</th>\n",
       "      <th>Prerequisites</th>\n",
       "    </tr>\n",
       "  </thead>\n",
       "  <tbody>\n",
       "    <tr>\n",
       "      <th>0</th>\n",
       "      <td>34154</td>\n",
       "      <td>Online</td>\n",
       "      <td>Computer Science and Its Applications</td>\n",
       "      <td>CS1100</td>\n",
       "      <td>Lieberherr, Karl</td>\n",
       "      <td>Introduces students to the field of computer s...</td>\n",
       "      <td>Spring 2025</td>\n",
       "      <td>NaN</td>\n",
       "      <td>NaN</td>\n",
       "      <td>NaN</td>\n",
       "      <td>[]</td>\n",
       "    </tr>\n",
       "  </tbody>\n",
       "</table>\n",
       "</div>"
      ],
      "text/plain": [
       "     CRN Campus Description                           Course Title  \\\n",
       "0  34154             Online  Computer Science and Its Applications   \n",
       "\n",
       "  Subject Course      Faculty Name  \\\n",
       "0         CS1100  Lieberherr, Karl   \n",
       "\n",
       "                                  Course Description         Term  Begin Time  \\\n",
       "0  Introduces students to the field of computer s...  Spring 2025         NaN   \n",
       "\n",
       "   End Time Days Prerequisites  \n",
       "0       NaN  NaN            []  "
      ]
     },
     "execution_count": 2,
     "metadata": {},
     "output_type": "execute_result"
    }
   ],
   "source": [
    "DATA_URL = \"../../data_pipeline/notebooks/data/courses.csv\"\n",
    "\n",
    "courses_df = pd.read_csv(DATA_URL)\n",
    "courses_df.head(1)"
   ]
  },
  {
   "cell_type": "code",
   "execution_count": 3,
   "id": "59f9587c-3258-4911-a952-c2115042dc52",
   "metadata": {},
   "outputs": [],
   "source": [
    "n_profs = 50\n",
    "\n",
    "professors = courses_df[\"Faculty Name\"].unique()\n",
    "professors = np.random.choice(professors, size=n_profs, replace=False)"
   ]
  },
  {
   "cell_type": "code",
   "execution_count": 4,
   "id": "44af567f-e697-48b8-81ca-8aaf77c88938",
   "metadata": {},
   "outputs": [],
   "source": [
    "semester = \"Spring 2025\"\n",
    "\n",
    "topics = [\n",
    "    \"Machine Learning\",\n",
    "    \"Deep Learning\",\n",
    "    \"Data Science\",\n",
    "    \"Computer Systems\",\n",
    "    \"Programming\",\n",
    "    \"Development\"\n",
    "]\n",
    "\n",
    "course_names = [\n",
    "    'Foundations of Artificial Intelligence',\n",
    "    'Algorithms',\n",
    "    'Programming Design Paradigm',\n",
    "    'Pattern Recognition and Computer Vision',\n",
    "    'Natural Language Processing',\n",
    "    'Deep Learning',\n",
    "    'Machine Learning',\n",
    "    'Information Retrieval',\n",
    "    'Computer Systems',\n",
    "    'Database Management',\n",
    "    'Recitation for CS5010',\n",
    "    'Foundations of Software Engineering',\n",
    "    'Reinforcement Learning',\n",
    "    'Computer/Human Interaction',\n",
    "    'Web Development',\n",
    "    'Compilers',\n",
    "    'Mobile Application Development',\n",
    "    'Discrete Structures',\n",
    "    'Data Mining Techniques',\n",
    "    'Fundamentals of Cloud Computing',\n",
    "    'Object-Oriented Design',\n",
    "    'Computer Systems'\n",
    "]"
   ]
  },
  {
   "cell_type": "code",
   "execution_count": 5,
   "id": "8ad526b1-8048-4043-9a84-3142d0c1c704",
   "metadata": {},
   "outputs": [],
   "source": [
    "seed_query_list = [\n",
    "    \"What courses are being offered for the {semester} semester?\",\n",
    "    \"Which professor is taking the course {course_name}?\",\n",
    "    \"What are the courses available related to {topic}?\",\n",
    "    \"Can you please suggest online courses to take?\",\n",
    "    \"Can you suggest research or seminar-based courses?\",\n",
    "    \"Can you suggest courses without exams?\",\n",
    "    \"Can you suggest courses which are not too hectic and easy to get good grades?\",\n",
    "    \"What are the class timings for the course {course_name}?\",\n",
    "    \"Are there any prerequisite courses for {course_name}?\",\n",
    "    \"Has the course {course_name} been offered in the past? If so, could you summarize the reviews?\",\n",
    "    \"How's the course {course_name} based on the reviews?\",\n",
    "    \"How difficult is the course {course_name}?\",\n",
    "    \"What courses are being offered by Professor {professor_name}?\",\n",
    "    \"How is Professor {professor_name} in terms of grading?\"\n",
    "]"
   ]
  },
  {
   "cell_type": "code",
   "execution_count": 6,
   "id": "a5afa887-4d18-4606-80f3-12dfbf88e9a5",
   "metadata": {},
   "outputs": [],
   "source": [
    "sft_dataset_creator_system_prompt = \"\"\"\n",
    "You are Qwen, a SFT Dataset creation tool. Given a question and context related to the question, you generate responses based on them.\n",
    "\n",
    "Output Format:\n",
    "Question:\n",
    "{question}\n",
    "Context:\n",
    "{context}\n",
    "Response:\n",
    "{generated_response}\n",
    "\"\"\"\n",
    "\n",
    "prompt = \"Context:\\n{context}\\n\\nQuery: {query}\\n\\nAnswer:\"\n",
    "\n",
    "variant_system_prompt = \"\"\"\n",
    "You are Qwen, an LLM to help generate multiple variants of a question.\n",
    "\n",
    "Given a question and the context, rephrase it in 10 different ways without altering it's meaning.\n",
    "The rephrased question should have the same semantic meaning with different tone, style, etc.\n",
    "\n",
    "Output Format:\n",
    "\n",
    "The output should be in the following format.\n",
    "{\n",
    "    \"question\": [new_question_1, new_question_2, ..., new_question_10]\n",
    "}\n",
    "\"\"\""
   ]
  },
  {
   "cell_type": "code",
   "execution_count": 24,
   "id": "71b60dee-194d-4e63-9568-cdb1704a4696",
   "metadata": {},
   "outputs": [
    {
     "data": {
      "application/vnd.jupyter.widget-view+json": {
       "model_id": "c491a97178f24a14a05c1ede3daf4330",
       "version_major": 2,
       "version_minor": 0
      },
      "text/plain": [
       "VBox(children=(HTML(value='<center> <img\\nsrc=https://huggingface.co/front/assets/huggingface_logo-noborder.sv…"
      ]
     },
     "metadata": {},
     "output_type": "display_data"
    }
   ],
   "source": [
    "from huggingface_hub import notebook_login\n",
    "notebook_login()"
   ]
  },
  {
   "cell_type": "code",
   "execution_count": 8,
   "id": "1d48f040-c304-431b-bbcd-a70b739e7d5f",
   "metadata": {},
   "outputs": [
    {
     "name": "stdout",
     "output_type": "stream",
     "text": [
      "Current allocated GPU memory: 0.00 MB\n",
      "Current cached GPU memory: 0.00 MB\n"
     ]
    }
   ],
   "source": [
    "import torch\n",
    "import gc\n",
    "\n",
    "def free_gpu_memory():\n",
    "    # Clear unused objects by forcing garbage collection\n",
    "    gc.collect()\n",
    "\n",
    "    # Empty the CUDA cache to release unused GPU memory\n",
    "    torch.cuda.empty_cache()\n",
    "\n",
    "    # Print current GPU memory usage for monitoring\n",
    "    print(f\"Current allocated GPU memory: {torch.cuda.memory_allocated() / 1024**2:.2f} MB\")\n",
    "    print(f\"Current cached GPU memory: {torch.cuda.memory_reserved() / 1024**2:.2f} MB\")\n",
    "\n",
    "free_gpu_memory()"
   ]
  },
  {
   "cell_type": "code",
   "execution_count": 9,
   "id": "b3ad5813-7772-4ba4-af35-a6582c990f04",
   "metadata": {},
   "outputs": [],
   "source": [
    "from transformers import AutoModelForCausalLM, AutoTokenizer\n",
    "import torch\n",
    "\n",
    "def generate_response(system_prompt, user_prompt, model_name=\"Qwen/Qwen2.5-3B-Instruct\"):\n",
    "    # Load the model and tokenizer\n",
    "    model = AutoModelForCausalLM.from_pretrained(\n",
    "        model_name,\n",
    "        torch_dtype=\"auto\",\n",
    "        device_map=\"auto\"\n",
    "    )\n",
    "    tokenizer = AutoTokenizer.from_pretrained(model_name)\n",
    "\n",
    "    # Prepare the message and text for generation\n",
    "    messages = [\n",
    "        {\"role\": \"system\", \"content\": system_prompt},\n",
    "        {\"role\": \"user\", \"content\": user_prompt}\n",
    "    ]\n",
    "    \n",
    "    text = tokenizer.apply_chat_template(\n",
    "        messages,\n",
    "        tokenize=False,\n",
    "        add_generation_prompt=True\n",
    "    )\n",
    "\n",
    "    # Tokenize the input and move to appropriate device\n",
    "    model_inputs = tokenizer([text], return_tensors=\"pt\").to(model.device)\n",
    "\n",
    "    # Generate the output\n",
    "    generated_ids = model.generate(\n",
    "        **model_inputs,\n",
    "        max_new_tokens=512\n",
    "    )\n",
    "\n",
    "    # Decode and return the response\n",
    "    generated_ids = [\n",
    "        output_ids[len(input_ids):] for input_ids, output_ids in zip(model_inputs.input_ids, generated_ids)\n",
    "    ]\n",
    "    \n",
    "    response = tokenizer.batch_decode(generated_ids, skip_special_tokens=True)[0]\n",
    "    return response"
   ]
  },
  {
   "cell_type": "code",
   "execution_count": 10,
   "id": "b2a3a375-6b95-422b-9a02-8c9bf99c9acd",
   "metadata": {},
   "outputs": [],
   "source": [
    "# from time import time\n",
    "\n",
    "# system_prompt = \"You are Qwen, the useful LLM\"\n",
    "# prompt = \"Give me a short introduction to large language model.\"\n",
    "\n",
    "# start_time = time()\n",
    "# response = generate_response(system_prompt, prompt)\n",
    "# print(response)\n",
    "# end_time = time()\n",
    "\n",
    "# print(f\"Took {end_time - start_time} secs.\")"
   ]
  },
  {
   "cell_type": "code",
   "execution_count": 11,
   "id": "b22a4136-dadf-47e1-b4f3-2589d84f5583",
   "metadata": {
    "scrolled": true
   },
   "outputs": [],
   "source": [
    "# questions = []\n",
    "\n",
    "# for seed_query in seed_query_list:\n",
    "#     if \"professor_name\" in seed_query:\n",
    "#         for professor_name in professors:\n",
    "#             new_seed_query = seed_query.format(professor_name=professor_name)\n",
    "            \n",
    "#             # Make multiple variants of the same question\n",
    "#             variant_response = generate_response(variant_system_prompt, new_seed_query)\n",
    "#             variant_response = json.loads(variant_response)[\"question\"]\n",
    "#             questions.extend(variant_response)\n",
    "\n",
    "#     elif \"semester\" in seed_query:\n",
    "#         new_seed_query = seed_query.format(semester=semester)\n",
    "\n",
    "#         # Make multiple variants of the same question\n",
    "#         variant_response = generate_response(variant_system_prompt, new_seed_query)\n",
    "#         variant_response = json.loads(variant_response)[\"question\"]\n",
    "#         questions.extend(variant_response)\n",
    "\n",
    "#     elif \"course_name\" in seed_query:\n",
    "#         for course_name in course_names:\n",
    "#             new_seed_query = seed_query.format(course_name=course_name)\n",
    "\n",
    "#             # Make multiple variants of the same question\n",
    "#             variant_response = generate_response(variant_system_prompt, new_seed_query)\n",
    "#             variant_response = json.loads(variant_response)[\"question\"]\n",
    "#             questions.extend(variant_response)\n",
    "\n",
    "#     elif \"topic\" in seed_query:\n",
    "#         for topic in topics:\n",
    "#             new_seed_query = seed_query.format(topic=topic)\n",
    "\n",
    "#             # Make multiple variants of the same question\n",
    "#             variant_response = generate_response(variant_system_prompt, new_seed_query)\n",
    "#             variant_response = json.loads(variant_response)[\"question\"]\n",
    "#             questions.extend(variant_response)\n",
    "\n",
    "#     else:\n",
    "#         # Make multiple variants of the same question\n",
    "#         variant_response = generate_response(variant_system_prompt, seed_query)\n",
    "#         variant_response = json.loads(variant_response)[\"question\"]\n",
    "#         questions.extend(variant_response)"
   ]
  },
  {
   "cell_type": "code",
   "execution_count": 12,
   "id": "7456345d-e3c1-4f9f-a0dc-a8a3f4ac243b",
   "metadata": {},
   "outputs": [],
   "source": [
    "# import pickle\n",
    "\n",
    "# with open('questions.pkl', 'wb') as file:\n",
    "#     pickle.dump(questions, file)"
   ]
  },
  {
   "cell_type": "code",
   "execution_count": 13,
   "id": "477a0c49-69a0-4ad4-bfa7-91526484a6a5",
   "metadata": {},
   "outputs": [
    {
     "data": {
      "text/plain": [
       "2430"
      ]
     },
     "execution_count": 13,
     "metadata": {},
     "output_type": "execute_result"
    }
   ],
   "source": [
    "import pickle\n",
    "\n",
    "with open(\"questions.pkl\", \"rb\") as file:\n",
    "    questions = pickle.load(file)\n",
    "\n",
    "len(questions)"
   ]
  },
  {
   "cell_type": "code",
   "execution_count": 14,
   "id": "9e0f0fc1-84eb-47a4-b859-a03711a356fd",
   "metadata": {},
   "outputs": [
    {
     "name": "stderr",
     "output_type": "stream",
     "text": [
      "/home/sampath.ki/emnlp/conda_env/lib/python3.10/site-packages/torchvision/io/image.py:13: UserWarning: Failed to load image Python extension: '/home/sampath.ki/emnlp/conda_env/lib/python3.10/site-packages/torchvision/image.so: undefined symbol: _ZN3c1017RegisterOperatorsD1Ev'If you don't plan on using image functionality from `torchvision.io`, you can ignore this warning. Otherwise, there might be something wrong with your environment. Did you have `libjpeg` or `libpng` installed before building `torchvision` from source?\n",
      "  warn(\n",
      "/home/sampath.ki/emnlp/conda_env/lib/python3.10/site-packages/torchvision/datapoints/__init__.py:12: UserWarning: The torchvision.datapoints and torchvision.transforms.v2 namespaces are still Beta. While we do not expect major breaking changes, some APIs may still change according to user feedback. Please submit any feedback you may have in this issue: https://github.com/pytorch/vision/issues/6753, and you can also check out https://github.com/pytorch/vision/issues/7319 to learn more about the APIs that we suspect might involve future changes. You can silence this warning by calling torchvision.disable_beta_transforms_warning().\n",
      "  warnings.warn(_BETA_TRANSFORMS_WARNING)\n",
      "/home/sampath.ki/emnlp/conda_env/lib/python3.10/site-packages/torchvision/transforms/v2/__init__.py:54: UserWarning: The torchvision.datapoints and torchvision.transforms.v2 namespaces are still Beta. While we do not expect major breaking changes, some APIs may still change according to user feedback. Please submit any feedback you may have in this issue: https://github.com/pytorch/vision/issues/6753, and you can also check out https://github.com/pytorch/vision/issues/7319 to learn more about the APIs that we suspect might involve future changes. You can silence this warning by calling torchvision.disable_beta_transforms_warning().\n",
      "  warnings.warn(_BETA_TRANSFORMS_WARNING)\n",
      "\n",
      "A module that was compiled using NumPy 1.x cannot be run in\n",
      "NumPy 2.2.1 as it may crash. To support both 1.x and 2.x\n",
      "versions of NumPy, modules must be compiled with NumPy 2.0.\n",
      "Some module may need to rebuild instead e.g. with 'pybind11>=2.12'.\n",
      "\n",
      "If you are a user of the module, the easiest solution will be to\n",
      "downgrade to 'numpy<2' or try to upgrade the affected module.\n",
      "We expect that some modules will need time to support NumPy 2.\n",
      "\n",
      "Traceback (most recent call last):  File \"/home/sampath.ki/emnlp/conda_env/lib/python3.10/runpy.py\", line 196, in _run_module_as_main\n",
      "    return _run_code(code, main_globals, None,\n",
      "  File \"/home/sampath.ki/emnlp/conda_env/lib/python3.10/runpy.py\", line 86, in _run_code\n",
      "    exec(code, run_globals)\n",
      "  File \"/home/sampath.ki/emnlp/conda_env/lib/python3.10/site-packages/ipykernel_launcher.py\", line 18, in <module>\n",
      "    app.launch_new_instance()\n",
      "  File \"/home/sampath.ki/emnlp/conda_env/lib/python3.10/site-packages/traitlets/config/application.py\", line 1075, in launch_instance\n",
      "    app.start()\n",
      "  File \"/home/sampath.ki/emnlp/conda_env/lib/python3.10/site-packages/ipykernel/kernelapp.py\", line 739, in start\n",
      "    self.io_loop.start()\n",
      "  File \"/home/sampath.ki/emnlp/conda_env/lib/python3.10/site-packages/tornado/platform/asyncio.py\", line 205, in start\n",
      "    self.asyncio_loop.run_forever()\n",
      "  File \"/home/sampath.ki/emnlp/conda_env/lib/python3.10/asyncio/base_events.py\", line 603, in run_forever\n",
      "    self._run_once()\n",
      "  File \"/home/sampath.ki/emnlp/conda_env/lib/python3.10/asyncio/base_events.py\", line 1909, in _run_once\n",
      "    handle._run()\n",
      "  File \"/home/sampath.ki/emnlp/conda_env/lib/python3.10/asyncio/events.py\", line 80, in _run\n",
      "    self._context.run(self._callback, *self._args)\n",
      "  File \"/home/sampath.ki/emnlp/conda_env/lib/python3.10/site-packages/ipykernel/kernelbase.py\", line 545, in dispatch_queue\n",
      "    await self.process_one()\n",
      "  File \"/home/sampath.ki/emnlp/conda_env/lib/python3.10/site-packages/ipykernel/kernelbase.py\", line 534, in process_one\n",
      "    await dispatch(*args)\n",
      "  File \"/home/sampath.ki/emnlp/conda_env/lib/python3.10/site-packages/ipykernel/kernelbase.py\", line 437, in dispatch_shell\n",
      "    await result\n",
      "  File \"/home/sampath.ki/emnlp/conda_env/lib/python3.10/site-packages/ipykernel/ipkernel.py\", line 362, in execute_request\n",
      "    await super().execute_request(stream, ident, parent)\n",
      "  File \"/home/sampath.ki/emnlp/conda_env/lib/python3.10/site-packages/ipykernel/kernelbase.py\", line 778, in execute_request\n",
      "    reply_content = await reply_content\n",
      "  File \"/home/sampath.ki/emnlp/conda_env/lib/python3.10/site-packages/ipykernel/ipkernel.py\", line 449, in do_execute\n",
      "    res = shell.run_cell(\n",
      "  File \"/home/sampath.ki/emnlp/conda_env/lib/python3.10/site-packages/ipykernel/zmqshell.py\", line 549, in run_cell\n",
      "    return super().run_cell(*args, **kwargs)\n",
      "  File \"/home/sampath.ki/emnlp/conda_env/lib/python3.10/site-packages/IPython/core/interactiveshell.py\", line 3075, in run_cell\n",
      "    result = self._run_cell(\n",
      "  File \"/home/sampath.ki/emnlp/conda_env/lib/python3.10/site-packages/IPython/core/interactiveshell.py\", line 3130, in _run_cell\n",
      "    result = runner(coro)\n",
      "  File \"/home/sampath.ki/emnlp/conda_env/lib/python3.10/site-packages/IPython/core/async_helpers.py\", line 128, in _pseudo_sync_runner\n",
      "    coro.send(None)\n",
      "  File \"/home/sampath.ki/emnlp/conda_env/lib/python3.10/site-packages/IPython/core/interactiveshell.py\", line 3334, in run_cell_async\n",
      "    has_raised = await self.run_ast_nodes(code_ast.body, cell_name,\n",
      "  File \"/home/sampath.ki/emnlp/conda_env/lib/python3.10/site-packages/IPython/core/interactiveshell.py\", line 3517, in run_ast_nodes\n",
      "    if await self.run_code(code, result, async_=asy):\n",
      "  File \"/home/sampath.ki/emnlp/conda_env/lib/python3.10/site-packages/IPython/core/interactiveshell.py\", line 3577, in run_code\n",
      "    exec(code_obj, self.user_global_ns, self.user_ns)\n",
      "  File \"/tmp/ipykernel_128540/3280629566.py\", line 3, in <module>\n",
      "    from curriculum_compass.naive_rag.utils import get_device\n",
      "  File \"/home/sampath.ki/course-registration-chatbot/curriculum_compass/naive_rag/utils.py\", line 4, in <module>\n",
      "    import chromadb\n",
      "  File \"/home/sampath.ki/emnlp/conda_env/lib/python3.10/site-packages/chromadb/__init__.py\", line 3, in <module>\n",
      "    from chromadb.api.client import Client as ClientCreator\n",
      "  File \"/home/sampath.ki/emnlp/conda_env/lib/python3.10/site-packages/chromadb/api/__init__.py\", line 34, in <module>\n",
      "    from chromadb.api.models.Collection import Collection\n",
      "  File \"/home/sampath.ki/emnlp/conda_env/lib/python3.10/site-packages/chromadb/api/models/Collection.py\", line 3, in <module>\n",
      "    from chromadb.api.models.CollectionCommon import CollectionCommon\n",
      "  File \"/home/sampath.ki/emnlp/conda_env/lib/python3.10/site-packages/chromadb/api/models/CollectionCommon.py\", line 100, in <module>\n",
      "    class CollectionCommon(Generic[ClientT]):\n",
      "  File \"/home/sampath.ki/emnlp/conda_env/lib/python3.10/site-packages/chromadb/api/models/CollectionCommon.py\", line 112, in CollectionCommon\n",
      "    ] = ef.DefaultEmbeddingFunction(),  # type: ignore\n",
      "  File \"/home/sampath.ki/emnlp/conda_env/lib/python3.10/site-packages/chromadb/utils/embedding_functions/__init__.py\", line 57, in DefaultEmbeddingFunction\n",
      "    ONNXMiniLM_L6_V2(),  # type: ignore[name-defined] # noqa: F821\n",
      "  File \"/home/sampath.ki/emnlp/conda_env/lib/python3.10/site-packages/chromadb/utils/embedding_functions/onnx_mini_lm_l6_v2.py\", line 63, in __init__\n",
      "    self.ort = importlib.import_module(\"onnxruntime\")\n",
      "  File \"/home/sampath.ki/emnlp/conda_env/lib/python3.10/importlib/__init__.py\", line 126, in import_module\n",
      "    return _bootstrap._gcd_import(name[level:], package, level)\n",
      "  File \"/home/sampath.ki/emnlp/conda_env/lib/python3.10/site-packages/onnxruntime/__init__.py\", line 23, in <module>\n",
      "    from onnxruntime.capi._pybind_state import ExecutionMode  # noqa: F401\n",
      "  File \"/home/sampath.ki/emnlp/conda_env/lib/python3.10/site-packages/onnxruntime/capi/_pybind_state.py\", line 32, in <module>\n",
      "    from .onnxruntime_pybind11_state import *  # noqa\n"
     ]
    },
    {
     "ename": "AttributeError",
     "evalue": "_ARRAY_API not found",
     "output_type": "error",
     "traceback": [
      "\u001b[0;31m---------------------------------------------------------------------------\u001b[0m",
      "\u001b[0;31mAttributeError\u001b[0m                            Traceback (most recent call last)",
      "\u001b[0;31mAttributeError\u001b[0m: _ARRAY_API not found"
     ]
    },
    {
     "ename": "SystemError",
     "evalue": "<built-in function __import__> returned a result with an exception set",
     "output_type": "error",
     "traceback": [
      "\u001b[0;31m---------------------------------------------------------------------------\u001b[0m",
      "\u001b[0;31mImportError\u001b[0m                               Traceback (most recent call last)",
      "\u001b[0;31mImportError\u001b[0m: numpy.core.multiarray failed to import",
      "\nThe above exception was the direct cause of the following exception:\n",
      "\u001b[0;31mSystemError\u001b[0m                               Traceback (most recent call last)",
      "\u001b[0;31mSystemError\u001b[0m: <built-in function __import__> returned a result with an exception set"
     ]
    },
    {
     "name": "stdout",
     "output_type": "stream",
     "text": [
      "Logged in as Weights & Biases user: s-kishore.\n",
      "View Weave data at https://wandb.ai/s-kishore/course_rag_system/weave\n",
      "Logged in as Weights & Biases user: s-kishore.\n",
      "View Weave data at https://wandb.ai/s-kishore/sft_dataset_creation/weave\n",
      "Using device: cuda\n"
     ]
    },
    {
     "data": {
      "application/vnd.jupyter.widget-view+json": {
       "model_id": "6f8c3cb68e954fea9c8f78d13b8a0558",
       "version_major": 2,
       "version_minor": 0
      },
      "text/plain": [
       "Loading checkpoint shards:   0%|          | 0/2 [00:00<?, ?it/s]"
      ]
     },
     "metadata": {},
     "output_type": "display_data"
    }
   ],
   "source": [
    "import weave\n",
    "\n",
    "from curriculum_compass.naive_rag.utils import get_device\n",
    "from curriculum_compass.naive_rag.utils import load_config\n",
    "from curriculum_compass.naive_rag.utils import load_embedding_model\n",
    "from curriculum_compass.naive_rag.utils import generate_llm_response\n",
    "from curriculum_compass.naive_rag.utils import load_model_and_tokenizer\n",
    "from curriculum_compass.naive_rag.utils import initialize_chromadb_client\n",
    "from curriculum_compass.naive_rag.retriever_utils import load_course_data\n",
    "from curriculum_compass.naive_rag.reranker import Reranker\n",
    "from curriculum_compass.naive_rag.course_retriever import CourseRAGPipeline\n",
    "from curriculum_compass.naive_rag.review_retriever import ReviewsRAGPipeline\n",
    "from curriculum_compass.naive_rag.integrated_rag import IntegratedRAGPipeline\n",
    "\n",
    "weave.init(project_name=\"SFT_Dataset_Creation\")\n",
    "\n",
    "config_path = \"../../naive_rag/config.json\"\n",
    "config = load_config(config_path)\n",
    "chromadb_client = initialize_chromadb_client(\"../../naive_rag/chromadb\")\n",
    "\n",
    "# ===== Initialize the re-ranker ===========\n",
    "device = get_device()\n",
    "print(f\"Using device: {device}\")\n",
    "reranker = Reranker(config['reranker_model_name'],device)\n",
    "\n",
    "# ===== Initialize the CourseRagPipeline ===========\n",
    "\n",
    "course_data = load_course_data(config['course_data_path'])\n",
    "course_rag = CourseRAGPipeline(reranker)\n",
    "course_rag.intiliaze_course_search_system(course_data)\n",
    "\n",
    "# ===== Initialize the NaiveReviewsRAGPipeline ===========\n",
    "\n",
    "embedding_model = load_embedding_model(config['embedding_model_name'])\n",
    "collection = chromadb_client.get_or_create_collection(\"naive_rag_embeddings\")\n",
    "review_rag = ReviewsRAGPipeline(embedding_model, collection,reranker)\n",
    "    \n",
    "# ===== Initialize the IntegratedRAGPipeline ===========\n",
    "integrated_rag = IntegratedRAGPipeline(course_rag, review_rag,config,device)"
   ]
  },
  {
   "cell_type": "code",
   "execution_count": 15,
   "id": "cfcb9ab9-fe22-41cd-86bb-89d6b0a187e3",
   "metadata": {},
   "outputs": [],
   "source": [
    "random_questions = np.random.choice(questions, size=250, replace=False)"
   ]
  },
  {
   "cell_type": "code",
   "execution_count": 16,
   "id": "15444d8c-59e3-4007-91a3-47da2e79bb63",
   "metadata": {
    "scrolled": true
   },
   "outputs": [
    {
     "name": "stderr",
     "output_type": "stream",
     "text": [
      "  0%|          | 0/250 [00:00<?, ?it/s]"
     ]
    },
    {
     "name": "stdout",
     "output_type": "stream",
     "text": [
      "Processing query: What must I learn before I can effectively study Machine Learning?\n",
      "Retrieving course information and reviews...\n",
      "Processing query: What must I learn before I can effectively study Machine Learning?\n",
      "Retrieving relevant course information...\n",
      "Cross-encoder reranking...\n",
      "Successfully reranked 10 documents\n",
      "Retrieving\n"
     ]
    },
    {
     "name": "stderr",
     "output_type": "stream",
     "text": [
      "Add of existing embedding ID: 12338\n",
      "Add of existing embedding ID: 12339\n",
      "Add of existing embedding ID: 12340\n",
      "Add of existing embedding ID: 12341\n",
      "Add of existing embedding ID: 12342\n",
      "Add of existing embedding ID: 12343\n",
      "Add of existing embedding ID: 12344\n",
      "Add of existing embedding ID: 12345\n",
      "Add of existing embedding ID: 12346\n",
      "Add of existing embedding ID: 12347\n",
      "Add of existing embedding ID: 12348\n",
      "Add of existing embedding ID: 12349\n",
      "Add of existing embedding ID: 12350\n",
      "Add of existing embedding ID: 12351\n",
      "Add of existing embedding ID: 12352\n",
      "Add of existing embedding ID: 12353\n",
      "Add of existing embedding ID: 12354\n",
      "Add of existing embedding ID: 12355\n",
      "Add of existing embedding ID: 12356\n",
      "Add of existing embedding ID: 12357\n",
      "Add of existing embedding ID: 12358\n",
      "Add of existing embedding ID: 12359\n",
      "Add of existing embedding ID: 12360\n",
      "Add of existing embedding ID: 12361\n",
      "Add of existing embedding ID: 12362\n",
      "Add of existing embedding ID: 12363\n",
      "Add of existing embedding ID: 12364\n",
      "Add of existing embedding ID: 12365\n",
      "Add of existing embedding ID: 12366\n",
      "Add of existing embedding ID: 12367\n",
      "Add of existing embedding ID: 12368\n",
      "Add of existing embedding ID: 12369\n",
      "Add of existing embedding ID: 12370\n",
      "Add of existing embedding ID: 12371\n",
      "Add of existing embedding ID: 12372\n",
      "Add of existing embedding ID: 12373\n",
      "Add of existing embedding ID: 12374\n",
      "Add of existing embedding ID: 12375\n",
      "Add of existing embedding ID: 12376\n",
      "Add of existing embedding ID: 12377\n",
      "Add of existing embedding ID: 12378\n",
      "Add of existing embedding ID: 12379\n",
      "Add of existing embedding ID: 12380\n",
      "Add of existing embedding ID: 12381\n",
      "Add of existing embedding ID: 12382\n",
      "Add of existing embedding ID: 12383\n",
      "Add of existing embedding ID: 12384\n",
      "Add of existing embedding ID: 12385\n",
      "Add of existing embedding ID: 12386\n",
      "Add of existing embedding ID: 12387\n",
      "Add of existing embedding ID: 12388\n",
      "Add of existing embedding ID: 12389\n",
      "Add of existing embedding ID: 12390\n",
      "Add of existing embedding ID: 12391\n",
      "Add of existing embedding ID: 12392\n",
      "Add of existing embedding ID: 12393\n",
      "Add of existing embedding ID: 12394\n",
      "Add of existing embedding ID: 12395\n",
      "Add of existing embedding ID: 12396\n",
      "Add of existing embedding ID: 12397\n",
      "Add of existing embedding ID: 12398\n",
      "Add of existing embedding ID: 12399\n",
      "Add of existing embedding ID: 12400\n",
      "Add of existing embedding ID: 12401\n",
      "Add of existing embedding ID: 12402\n",
      "Add of existing embedding ID: 12403\n",
      "Add of existing embedding ID: 12404\n",
      "Add of existing embedding ID: 12405\n",
      "Add of existing embedding ID: 12406\n",
      "Add of existing embedding ID: 12407\n",
      "Add of existing embedding ID: 12408\n",
      "Add of existing embedding ID: 12409\n",
      "Add of existing embedding ID: 12410\n",
      "Add of existing embedding ID: 12411\n",
      "Add of existing embedding ID: 12412\n",
      "Add of existing embedding ID: 12413\n",
      "Add of existing embedding ID: 12414\n",
      "Add of existing embedding ID: 12415\n",
      "Add of existing embedding ID: 12416\n",
      "Add of existing embedding ID: 12417\n",
      "Add of existing embedding ID: 12418\n",
      "Add of existing embedding ID: 12419\n",
      "Add of existing embedding ID: 12420\n",
      "Add of existing embedding ID: 12421\n",
      "Add of existing embedding ID: 12422\n",
      "Add of existing embedding ID: 12423\n",
      "Add of existing embedding ID: 12424\n",
      "Add of existing embedding ID: 12425\n",
      "Add of existing embedding ID: 12426\n",
      "Add of existing embedding ID: 12427\n",
      "Add of existing embedding ID: 12428\n",
      "Add of existing embedding ID: 12429\n",
      "Add of existing embedding ID: 12430\n",
      "Add of existing embedding ID: 12431\n",
      "Add of existing embedding ID: 12432\n",
      "Add of existing embedding ID: 12433\n",
      "Add of existing embedding ID: 12434\n",
      "Add of existing embedding ID: 12435\n",
      "Add of existing embedding ID: 12436\n",
      "Add of existing embedding ID: 12437\n",
      "Add of existing embedding ID: 12438\n",
      "Add of existing embedding ID: 12439\n",
      "Add of existing embedding ID: 12440\n",
      "Add of existing embedding ID: 12441\n",
      "Add of existing embedding ID: 12442\n",
      "Add of existing embedding ID: 12443\n",
      "Add of existing embedding ID: 12444\n",
      "Add of existing embedding ID: 12445\n",
      "Add of existing embedding ID: 12446\n",
      "Add of existing embedding ID: 12447\n",
      "Add of existing embedding ID: 12448\n",
      "Add of existing embedding ID: 12449\n",
      "Add of existing embedding ID: 12450\n",
      "Add of existing embedding ID: 12451\n",
      "Add of existing embedding ID: 12452\n",
      "Add of existing embedding ID: 12453\n",
      "Add of existing embedding ID: 12454\n",
      "Add of existing embedding ID: 12455\n",
      "Add of existing embedding ID: 12456\n",
      "Add of existing embedding ID: 12457\n",
      "Add of existing embedding ID: 12458\n",
      "Add of existing embedding ID: 12459\n",
      "Add of existing embedding ID: 12460\n",
      "Add of existing embedding ID: 12461\n",
      "Add of existing embedding ID: 12462\n",
      "Add of existing embedding ID: 12463\n",
      "Add of existing embedding ID: 12464\n",
      "Add of existing embedding ID: 12465\n",
      "Add of existing embedding ID: 12466\n",
      "Add of existing embedding ID: 12467\n",
      "Add of existing embedding ID: 12468\n",
      "Add of existing embedding ID: 12469\n",
      "Add of existing embedding ID: 12470\n",
      "Add of existing embedding ID: 12471\n",
      "Add of existing embedding ID: 12472\n",
      "Add of existing embedding ID: 12473\n",
      "Add of existing embedding ID: 12474\n",
      "Add of existing embedding ID: 12475\n",
      "Add of existing embedding ID: 12476\n",
      "Add of existing embedding ID: 12477\n",
      "Add of existing embedding ID: 12478\n",
      "Add of existing embedding ID: 12479\n",
      "Add of existing embedding ID: 12480\n",
      "Add of existing embedding ID: 12481\n",
      "Add of existing embedding ID: 12482\n",
      "Add of existing embedding ID: 12483\n",
      "Add of existing embedding ID: 12484\n",
      "Add of existing embedding ID: 12485\n",
      "Add of existing embedding ID: 12486\n",
      "Add of existing embedding ID: 12487\n",
      "Add of existing embedding ID: 12488\n",
      "Add of existing embedding ID: 12489\n",
      "Add of existing embedding ID: 12490\n",
      "Add of existing embedding ID: 12491\n",
      "Add of existing embedding ID: 12492\n",
      "Add of existing embedding ID: 12493\n",
      "Add of existing embedding ID: 12494\n",
      "Add of existing embedding ID: 12495\n",
      "Add of existing embedding ID: 12496\n",
      "Add of existing embedding ID: 12497\n",
      "Add of existing embedding ID: 12498\n",
      "Add of existing embedding ID: 12499\n",
      "Add of existing embedding ID: 12500\n",
      "Add of existing embedding ID: 12501\n",
      "Add of existing embedding ID: 12502\n",
      "Add of existing embedding ID: 12503\n",
      "Add of existing embedding ID: 12504\n",
      "Add of existing embedding ID: 12505\n",
      "Add of existing embedding ID: 12506\n",
      "Add of existing embedding ID: 12507\n",
      "Add of existing embedding ID: 12508\n",
      "Add of existing embedding ID: 12509\n",
      "Add of existing embedding ID: 12510\n",
      "Add of existing embedding ID: 12511\n",
      "Add of existing embedding ID: 12512\n",
      "Add of existing embedding ID: 12513\n",
      "Add of existing embedding ID: 12514\n",
      "Add of existing embedding ID: 12515\n",
      "Add of existing embedding ID: 12516\n",
      "Add of existing embedding ID: 12517\n",
      "Add of existing embedding ID: 12518\n",
      "Add of existing embedding ID: 12519\n",
      "Add of existing embedding ID: 12520\n",
      "Add of existing embedding ID: 12521\n",
      "Add of existing embedding ID: 12522\n",
      "Add of existing embedding ID: 12523\n",
      "Add of existing embedding ID: 12524\n",
      "Add of existing embedding ID: 12525\n",
      "Add of existing embedding ID: 12526\n",
      "Add of existing embedding ID: 12527\n",
      "Add of existing embedding ID: 12528\n",
      "Add of existing embedding ID: 12529\n",
      "Add of existing embedding ID: 12530\n",
      "Add of existing embedding ID: 12531\n",
      "Add of existing embedding ID: 12532\n",
      "Add of existing embedding ID: 12533\n",
      "Add of existing embedding ID: 12534\n",
      "Add of existing embedding ID: 12535\n",
      "Add of existing embedding ID: 12536\n",
      "Add of existing embedding ID: 12537\n",
      "Add of existing embedding ID: 12538\n",
      "Add of existing embedding ID: 12539\n",
      "Add of existing embedding ID: 12540\n",
      "Add of existing embedding ID: 12541\n",
      "Add of existing embedding ID: 12542\n",
      "Add of existing embedding ID: 12543\n",
      "Add of existing embedding ID: 12544\n",
      "Add of existing embedding ID: 12545\n",
      "Add of existing embedding ID: 12546\n",
      "Add of existing embedding ID: 12547\n",
      "Add of existing embedding ID: 12548\n",
      "Add of existing embedding ID: 12549\n",
      "Add of existing embedding ID: 12550\n",
      "Add of existing embedding ID: 12551\n",
      "Add of existing embedding ID: 12552\n",
      "Add of existing embedding ID: 12553\n",
      "Add of existing embedding ID: 12554\n",
      "Add of existing embedding ID: 12555\n",
      "Add of existing embedding ID: 12556\n",
      "Add of existing embedding ID: 12557\n",
      "Add of existing embedding ID: 12558\n",
      "Add of existing embedding ID: 12559\n",
      "Add of existing embedding ID: 12560\n",
      "Add of existing embedding ID: 12561\n",
      "Add of existing embedding ID: 12562\n",
      "Add of existing embedding ID: 12563\n",
      "Add of existing embedding ID: 12564\n",
      "Add of existing embedding ID: 12565\n",
      "Add of existing embedding ID: 12566\n",
      "Add of existing embedding ID: 12567\n",
      "Add of existing embedding ID: 12568\n",
      "Add of existing embedding ID: 12569\n",
      "Add of existing embedding ID: 12570\n",
      "Add of existing embedding ID: 12571\n",
      "Add of existing embedding ID: 12572\n",
      "Add of existing embedding ID: 12573\n",
      "Add of existing embedding ID: 12574\n",
      "Add of existing embedding ID: 12575\n",
      "Add of existing embedding ID: 12576\n",
      "Add of existing embedding ID: 12577\n",
      "Add of existing embedding ID: 12578\n",
      "Add of existing embedding ID: 12579\n",
      "Add of existing embedding ID: 12580\n",
      "Add of existing embedding ID: 12581\n",
      "Add of existing embedding ID: 12582\n",
      "Add of existing embedding ID: 12583\n",
      "Add of existing embedding ID: 12584\n",
      "Add of existing embedding ID: 12585\n",
      "Add of existing embedding ID: 12586\n",
      "Add of existing embedding ID: 12587\n",
      "Add of existing embedding ID: 12588\n",
      "Add of existing embedding ID: 12589\n",
      "Add of existing embedding ID: 12590\n",
      "Add of existing embedding ID: 12591\n",
      "Add of existing embedding ID: 12592\n",
      "Add of existing embedding ID: 12593\n",
      "Add of existing embedding ID: 12594\n",
      "Add of existing embedding ID: 12595\n",
      "Add of existing embedding ID: 12596\n",
      "Add of existing embedding ID: 12597\n",
      "Add of existing embedding ID: 12598\n",
      "Add of existing embedding ID: 12599\n",
      "Add of existing embedding ID: 12600\n",
      "Add of existing embedding ID: 12601\n",
      "Add of existing embedding ID: 12602\n",
      "Add of existing embedding ID: 12603\n",
      "Add of existing embedding ID: 12604\n",
      "Add of existing embedding ID: 12605\n",
      "Add of existing embedding ID: 12606\n",
      "Add of existing embedding ID: 12607\n",
      "Add of existing embedding ID: 12608\n",
      "Add of existing embedding ID: 12609\n",
      "Add of existing embedding ID: 12610\n",
      "Add of existing embedding ID: 12611\n",
      "Add of existing embedding ID: 12612\n",
      "Add of existing embedding ID: 12613\n",
      "Add of existing embedding ID: 12614\n",
      "Add of existing embedding ID: 12615\n",
      "Add of existing embedding ID: 12616\n",
      "Add of existing embedding ID: 12617\n",
      "Add of existing embedding ID: 12618\n",
      "Add of existing embedding ID: 12619\n",
      "Add of existing embedding ID: 12620\n",
      "Add of existing embedding ID: 12621\n",
      "Add of existing embedding ID: 12622\n",
      "Add of existing embedding ID: 12623\n",
      "Add of existing embedding ID: 12624\n",
      "Add of existing embedding ID: 12625\n",
      "Add of existing embedding ID: 12626\n",
      "Add of existing embedding ID: 12627\n",
      "Add of existing embedding ID: 12628\n",
      "Add of existing embedding ID: 12629\n",
      "Add of existing embedding ID: 12630\n",
      "Add of existing embedding ID: 12631\n",
      "Add of existing embedding ID: 12632\n",
      "Add of existing embedding ID: 12633\n",
      "Add of existing embedding ID: 12634\n",
      "Add of existing embedding ID: 12635\n",
      "Add of existing embedding ID: 12636\n",
      "Add of existing embedding ID: 12637\n",
      "Add of existing embedding ID: 12638\n",
      "Add of existing embedding ID: 12639\n",
      "Add of existing embedding ID: 12640\n",
      "Add of existing embedding ID: 12641\n",
      "Add of existing embedding ID: 12642\n",
      "Add of existing embedding ID: 12643\n",
      "Add of existing embedding ID: 12644\n",
      "Add of existing embedding ID: 12645\n",
      "Add of existing embedding ID: 12646\n",
      "Add of existing embedding ID: 12647\n",
      "Add of existing embedding ID: 12648\n",
      "Add of existing embedding ID: 12649\n",
      "Add of existing embedding ID: 12650\n",
      "Add of existing embedding ID: 12651\n",
      "Add of existing embedding ID: 12652\n",
      "Add of existing embedding ID: 12653\n",
      "Add of existing embedding ID: 12654\n",
      "Add of existing embedding ID: 12655\n",
      "Add of existing embedding ID: 12656\n",
      "Add of existing embedding ID: 12657\n",
      "Add of existing embedding ID: 12658\n",
      "Add of existing embedding ID: 12659\n",
      "Add of existing embedding ID: 12660\n",
      "Add of existing embedding ID: 12661\n"
     ]
    },
    {
     "name": "stdout",
     "output_type": "stream",
     "text": [
      "Reranking\n",
      "Combining and reranking all documents...\n",
      "Successfully reranked 10 combined documents\n",
      "Generating integrated response...\n"
     ]
    },
    {
     "name": "stderr",
     "output_type": "stream",
     "text": [
      "  0%|          | 1/250 [00:06<26:22,  6.36s/it]"
     ]
    },
    {
     "name": "stdout",
     "output_type": "stream",
     "text": [
      "🍩 https://wandb.ai/s-kishore/sft_dataset_creation/r/call/019414fd-4937-75f0-9e21-f05e56778009\n",
      "Processing query: How does Professor Alikhani's grading system impact students who are similar to Malihe?\n",
      "Retrieving course information and reviews...\n",
      "Processing query: How does Professor Alikhani's grading system impact students who are similar to Malihe?\n",
      "Retrieving relevant course information...\n",
      "Cross-encoder reranking...\n",
      "Successfully reranked 10 documents\n",
      "Retrieving\n",
      "Reranking\n",
      "Combining and reranking all documents...\n",
      "Successfully reranked 10 combined documents\n",
      "Generating integrated response...\n"
     ]
    },
    {
     "name": "stderr",
     "output_type": "stream",
     "text": [
      "  1%|          | 2/250 [00:10<20:47,  5.03s/it]"
     ]
    },
    {
     "name": "stdout",
     "output_type": "stream",
     "text": [
      "🍩 https://wandb.ai/s-kishore/sft_dataset_creation/r/call/019414fd-6208-7011-a0a6-b94db7d44f51\n",
      "Processing query: What criteria does Professor Fuentes-Cabrera use when assigning grades?\n",
      "Retrieving course information and reviews...\n",
      "Processing query: What criteria does Professor Fuentes-Cabrera use when assigning grades?\n",
      "Retrieving relevant course information...\n",
      "Cross-encoder reranking...\n",
      "Successfully reranked 10 documents\n",
      "Retrieving\n",
      "Reranking\n",
      "Combining and reranking all documents...\n",
      "Successfully reranked 10 combined documents\n",
      "Generating integrated response...\n"
     ]
    },
    {
     "name": "stderr",
     "output_type": "stream",
     "text": [
      "  1%|          | 3/250 [00:14<19:13,  4.67s/it]"
     ]
    },
    {
     "name": "stdout",
     "output_type": "stream",
     "text": [
      "🍩 https://wandb.ai/s-kishore/sft_dataset_creation/r/call/019414fd-720b-7630-abe6-7303bab13afe\n",
      "Processing query: What are the regular class hours for the Mobile Application Development course?\n",
      "Retrieving course information and reviews...\n",
      "Processing query: What are the regular class hours for the Mobile Application Development course?\n",
      "Retrieving relevant course information...\n",
      "Cross-encoder reranking...\n",
      "Successfully reranked 10 documents\n",
      "Retrieving\n",
      "Reranking\n",
      "Combining and reranking all documents...\n",
      "Successfully reranked 10 combined documents\n",
      "Generating integrated response...\n"
     ]
    },
    {
     "name": "stderr",
     "output_type": "stream",
     "text": [
      "  2%|▏         | 4/250 [00:22<23:55,  5.84s/it]"
     ]
    },
    {
     "name": "stdout",
     "output_type": "stream",
     "text": [
      "🍩 https://wandb.ai/s-kishore/sft_dataset_creation/r/call/019414fd-82a0-7070-828b-a50b59d0eb3b\n",
      "Processing query: Could you elaborate on Professor Das, Maitraye's grading practices?\n",
      "Retrieving course information and reviews...\n",
      "Processing query: Could you elaborate on Professor Das, Maitraye's grading practices?\n",
      "Retrieving relevant course information...\n",
      "Cross-encoder reranking...\n",
      "Successfully reranked 10 documents\n",
      "Retrieving\n",
      "Reranking\n",
      "Combining and reranking all documents...\n",
      "Successfully reranked 10 combined documents\n",
      "Generating integrated response...\n"
     ]
    },
    {
     "name": "stderr",
     "output_type": "stream",
     "text": [
      "  2%|▏         | 5/250 [00:29<26:03,  6.38s/it]"
     ]
    },
    {
     "name": "stdout",
     "output_type": "stream",
     "text": [
      "🍩 https://wandb.ai/s-kishore/sft_dataset_creation/r/call/019414fd-a06a-7a62-b08c-79f88e5f4236\n",
      "Processing query: Could you tell me about the courses taught by Professor Gene Cooperman?\n",
      "Retrieving course information and reviews...\n",
      "Processing query: Could you tell me about the courses taught by Professor Gene Cooperman?\n",
      "Retrieving relevant course information...\n",
      "Cross-encoder reranking...\n",
      "Successfully reranked 10 documents\n",
      "Retrieving\n",
      "Reranking\n",
      "Combining and reranking all documents...\n",
      "Successfully reranked 10 combined documents\n",
      "Generating integrated response...\n"
     ]
    },
    {
     "name": "stderr",
     "output_type": "stream",
     "text": [
      "  2%|▏         | 6/250 [00:41<33:16,  8.18s/it]"
     ]
    },
    {
     "name": "stdout",
     "output_type": "stream",
     "text": [
      "🍩 https://wandb.ai/s-kishore/sft_dataset_creation/r/call/019414fd-bd20-73d2-bc7c-010b44bf61d7\n",
      "Processing query: What aspects of Professor Haycook, Charles' grading do you find most noteworthy or controversial?\n",
      "Retrieving course information and reviews...\n",
      "Processing query: What aspects of Professor Haycook, Charles' grading do you find most noteworthy or controversial?\n",
      "Retrieving relevant course information...\n",
      "Cross-encoder reranking...\n",
      "Successfully reranked 10 documents\n",
      "Retrieving\n",
      "Reranking\n",
      "Combining and reranking all documents...\n",
      "Successfully reranked 10 combined documents\n",
      "Generating integrated response...\n"
     ]
    },
    {
     "name": "stderr",
     "output_type": "stream",
     "text": [
      "  3%|▎         | 7/250 [00:44<27:06,  6.69s/it]"
     ]
    },
    {
     "name": "stdout",
     "output_type": "stream",
     "text": [
      "🍩 https://wandb.ai/s-kishore/sft_dataset_creation/r/call/019414fd-eab7-7bb2-ae51-c96a3de0fb11\n",
      "Processing query: What kind of feedback does Professor Zhang, Hongyang give regarding grades?\n",
      "Retrieving course information and reviews...\n",
      "Processing query: What kind of feedback does Professor Zhang, Hongyang give regarding grades?\n",
      "Retrieving relevant course information...\n",
      "Cross-encoder reranking...\n",
      "Successfully reranked 10 documents\n",
      "Retrieving\n",
      "Reranking\n",
      "Combining and reranking all documents...\n",
      "Successfully reranked 10 combined documents\n",
      "Generating integrated response...\n"
     ]
    },
    {
     "name": "stderr",
     "output_type": "stream",
     "text": [
      "  3%|▎         | 8/250 [00:49<24:48,  6.15s/it]"
     ]
    },
    {
     "name": "stdout",
     "output_type": "stream",
     "text": [
      "🍩 https://wandb.ai/s-kishore/sft_dataset_creation/r/call/019414fd-f8e4-7371-aefa-bc7edee796bd\n",
      "Processing query: Which subjects must one master before engaging in the study of Deep Learning?\n",
      "Retrieving course information and reviews...\n",
      "Processing query: Which subjects must one master before engaging in the study of Deep Learning?\n",
      "Retrieving relevant course information...\n",
      "Cross-encoder reranking...\n",
      "Successfully reranked 10 documents\n",
      "Retrieving\n",
      "Reranking\n",
      "Combining and reranking all documents...\n",
      "Successfully reranked 10 combined documents\n",
      "Generating integrated response...\n"
     ]
    },
    {
     "name": "stderr",
     "output_type": "stream",
     "text": [
      "  4%|▎         | 9/250 [00:54<22:25,  5.58s/it]"
     ]
    },
    {
     "name": "stdout",
     "output_type": "stream",
     "text": [
      "🍩 https://wandb.ai/s-kishore/sft_dataset_creation/r/call/019414fe-0c64-7e32-b068-d7c8d76379f4\n",
      "Processing query: What courses are currently being managed by Professor Rachlin, John?\n",
      "Retrieving course information and reviews...\n",
      "Processing query: What courses are currently being managed by Professor Rachlin, John?\n",
      "Retrieving relevant course information...\n",
      "Cross-encoder reranking...\n",
      "Successfully reranked 10 documents\n",
      "Retrieving\n",
      "Reranking\n",
      "Combining and reranking all documents...\n",
      "Successfully reranked 10 combined documents\n",
      "Generating integrated response...\n"
     ]
    },
    {
     "name": "stderr",
     "output_type": "stream",
     "text": [
      "  4%|▍         | 10/250 [01:00<22:38,  5.66s/it]"
     ]
    },
    {
     "name": "stdout",
     "output_type": "stream",
     "text": [
      "🍩 https://wandb.ai/s-kishore/sft_dataset_creation/r/call/019414fe-1d50-7fb3-a06e-64d2257cc840\n",
      "Processing query: What courses will be introduced in the Spring 2025 semester?\n",
      "Retrieving course information and reviews...\n",
      "Processing query: What courses will be introduced in the Spring 2025 semester?\n",
      "Retrieving relevant course information...\n",
      "Cross-encoder reranking...\n",
      "Successfully reranked 10 documents\n",
      "Retrieving\n",
      "Reranking\n",
      "Combining and reranking all documents...\n",
      "Successfully reranked 10 combined documents\n",
      "Generating integrated response...\n"
     ]
    },
    {
     "name": "stderr",
     "output_type": "stream",
     "text": [
      "  4%|▍         | 11/250 [01:17<36:20,  9.12s/it]"
     ]
    },
    {
     "name": "stdout",
     "output_type": "stream",
     "text": [
      "🍩 https://wandb.ai/s-kishore/sft_dataset_creation/r/call/019414fe-3417-77f0-a86f-fc379d4cc725\n",
      "Processing query: Could you give me a rundown of the courses that Professor Rosen, David, is delivering?\n",
      "Retrieving course information and reviews...\n",
      "Processing query: Could you give me a rundown of the courses that Professor Rosen, David, is delivering?\n",
      "Retrieving relevant course information...\n",
      "Cross-encoder reranking...\n",
      "Successfully reranked 10 documents\n",
      "Retrieving\n",
      "Reranking\n",
      "Combining and reranking all documents...\n",
      "Successfully reranked 10 combined documents\n",
      "Generating integrated response...\n"
     ]
    },
    {
     "name": "stderr",
     "output_type": "stream",
     "text": [
      "  5%|▍         | 12/250 [01:24<33:37,  8.47s/it]"
     ]
    },
    {
     "name": "stdout",
     "output_type": "stream",
     "text": [
      "🍩 https://wandb.ai/s-kishore/sft_dataset_creation/r/call/019414fe-7662-7540-ae75-3a112654fe6f\n",
      "Processing query: What kind of grading standards do Professor Aibin and Michal adhere to?\n",
      "Retrieving course information and reviews...\n",
      "Processing query: What kind of grading standards do Professor Aibin and Michal adhere to?\n",
      "Retrieving relevant course information...\n",
      "Cross-encoder reranking...\n",
      "Successfully reranked 10 documents\n",
      "Retrieving\n",
      "Reranking\n",
      "Combining and reranking all documents...\n",
      "Successfully reranked 10 combined documents\n",
      "Generating integrated response...\n"
     ]
    },
    {
     "name": "stderr",
     "output_type": "stream",
     "text": [
      "  5%|▌         | 13/250 [01:30<31:17,  7.92s/it]"
     ]
    },
    {
     "name": "stdout",
     "output_type": "stream",
     "text": [
      "🍩 https://wandb.ai/s-kishore/sft_dataset_creation/r/call/019414fe-91b7-78d3-acad-d02d5874814e\n",
      "Processing query: Could you provide insights into Professor Behnezhad, Soheil's grading practices?\n",
      "Retrieving course information and reviews...\n",
      "Processing query: Could you provide insights into Professor Behnezhad, Soheil's grading practices?\n",
      "Retrieving relevant course information...\n",
      "Cross-encoder reranking...\n",
      "Successfully reranked 10 documents\n",
      "Retrieving\n",
      "Reranking\n",
      "Combining and reranking all documents...\n",
      "Successfully reranked 10 combined documents\n",
      "Generating integrated response...\n"
     ]
    },
    {
     "name": "stderr",
     "output_type": "stream",
     "text": [
      "  6%|▌         | 14/250 [01:36<28:53,  7.35s/it]"
     ]
    },
    {
     "name": "stdout",
     "output_type": "stream",
     "text": [
      "🍩 https://wandb.ai/s-kishore/sft_dataset_creation/r/call/019414fe-abb0-7783-9f19-df8192d0f29d\n",
      "Processing query: Professor Jeongkyu Lee, could you share which courses you are currently teaching?\n",
      "Retrieving course information and reviews...\n",
      "Processing query: Professor Jeongkyu Lee, could you share which courses you are currently teaching?\n",
      "Retrieving relevant course information...\n",
      "Cross-encoder reranking...\n",
      "Successfully reranked 10 documents\n",
      "Retrieving\n",
      "Reranking\n",
      "Combining and reranking all documents...\n",
      "Successfully reranked 10 combined documents\n",
      "Generating integrated response...\n"
     ]
    },
    {
     "name": "stderr",
     "output_type": "stream",
     "text": [
      "  6%|▌         | 15/250 [01:40<24:22,  6.22s/it]"
     ]
    },
    {
     "name": "stdout",
     "output_type": "stream",
     "text": [
      "🍩 https://wandb.ai/s-kishore/sft_dataset_creation/r/call/019414fe-c32f-7471-8115-39a73534cf25\n",
      "Processing query: How does Professor Haycook, Charles typically handle grading assignments and exams?\n",
      "Retrieving course information and reviews...\n",
      "Processing query: How does Professor Haycook, Charles typically handle grading assignments and exams?\n",
      "Retrieving relevant course information...\n",
      "Cross-encoder reranking...\n",
      "Successfully reranked 10 documents\n",
      "Retrieving\n",
      "Reranking\n",
      "Combining and reranking all documents...\n",
      "Successfully reranked 10 combined documents\n",
      "Generating integrated response...\n"
     ]
    },
    {
     "name": "stderr",
     "output_type": "stream",
     "text": [
      "  6%|▋         | 16/250 [01:49<27:18,  7.00s/it]"
     ]
    },
    {
     "name": "stdout",
     "output_type": "stream",
     "text": [
      "🍩 https://wandb.ai/s-kishore/sft_dataset_creation/r/call/019414fe-d14f-75e3-80ef-c993775929bb\n",
      "Processing query: Has there been a Mobile Application Development course in the past? If so, what were the reviews like?\n",
      "Retrieving course information and reviews...\n",
      "Processing query: Has there been a Mobile Application Development course in the past? If so, what were the reviews like?\n",
      "Retrieving relevant course information...\n",
      "Cross-encoder reranking...\n",
      "Successfully reranked 10 documents\n",
      "Retrieving\n",
      "Reranking\n",
      "Combining and reranking all documents...\n",
      "Successfully reranked 10 combined documents\n",
      "Generating integrated response...\n"
     ]
    },
    {
     "name": "stderr",
     "output_type": "stream",
     "text": [
      "  7%|▋         | 17/250 [01:54<25:29,  6.56s/it]"
     ]
    },
    {
     "name": "stdout",
     "output_type": "stream",
     "text": [
      "🍩 https://wandb.ai/s-kishore/sft_dataset_creation/r/call/019414fe-f3be-7a32-a7f8-5b91d46f342d\n",
      "Processing query: What grading philosophies do Professor Sharif Rohani and Aida apply to their teaching?\n",
      "Retrieving course information and reviews...\n",
      "Processing query: What grading philosophies do Professor Sharif Rohani and Aida apply to their teaching?\n",
      "Retrieving relevant course information...\n",
      "Cross-encoder reranking...\n",
      "Successfully reranked 10 documents\n",
      "Retrieving\n",
      "Reranking\n",
      "Combining and reranking all documents...\n",
      "Successfully reranked 10 combined documents\n",
      "Generating integrated response...\n"
     ]
    },
    {
     "name": "stderr",
     "output_type": "stream",
     "text": [
      "  7%|▋         | 18/250 [02:01<26:00,  6.73s/it]"
     ]
    },
    {
     "name": "stdout",
     "output_type": "stream",
     "text": [
      "🍩 https://wandb.ai/s-kishore/sft_dataset_creation/r/call/019414ff-0964-7271-a542-05d51404c4d4\n",
      "Processing query: What obstacles do students typically face when undertaking the Object-Oriented Design course?\n",
      "Retrieving course information and reviews...\n",
      "Processing query: What obstacles do students typically face when undertaking the Object-Oriented Design course?\n",
      "Retrieving relevant course information...\n",
      "Cross-encoder reranking...\n",
      "Successfully reranked 10 documents\n",
      "Retrieving\n",
      "Reranking\n",
      "Combining and reranking all documents...\n",
      "Successfully reranked 10 combined documents\n",
      "Generating integrated response...\n"
     ]
    },
    {
     "name": "stderr",
     "output_type": "stream",
     "text": [
      "  8%|▊         | 19/250 [02:12<30:07,  7.82s/it]"
     ]
    },
    {
     "name": "stdout",
     "output_type": "stream",
     "text": [
      "🍩 https://wandb.ai/s-kishore/sft_dataset_creation/r/call/019414ff-2526-7a03-a38c-9c8455400fb7\n",
      "Processing query: I'm interested in knowing which classes Professor Alikhani, Malihe is currently instructing.\n",
      "Retrieving course information and reviews...\n",
      "Processing query: I'm interested in knowing which classes Professor Alikhani, Malihe is currently instructing.\n",
      "Retrieving relevant course information...\n",
      "Cross-encoder reranking...\n",
      "Successfully reranked 10 documents\n",
      "Retrieving\n",
      "Reranking\n",
      "Combining and reranking all documents...\n",
      "Successfully reranked 10 combined documents\n",
      "Generating integrated response...\n"
     ]
    },
    {
     "name": "stderr",
     "output_type": "stream",
     "text": [
      "  8%|▊         | 20/250 [02:16<25:33,  6.67s/it]"
     ]
    },
    {
     "name": "stdout",
     "output_type": "stream",
     "text": [
      "🍩 https://wandb.ai/s-kishore/sft_dataset_creation/r/call/019414ff-4db3-7720-a390-6d66a7651c43\n",
      "Processing query: How does Professor Abir Saha assess the academic achievements of his students?\n",
      "Retrieving course information and reviews...\n",
      "Processing query: How does Professor Abir Saha assess the academic achievements of his students?\n",
      "Retrieving relevant course information...\n",
      "Cross-encoder reranking...\n",
      "Successfully reranked 10 documents\n",
      "Retrieving\n",
      "Reranking\n",
      "Combining and reranking all documents...\n",
      "Successfully reranked 10 combined documents\n",
      "Generating integrated response...\n"
     ]
    },
    {
     "name": "stderr",
     "output_type": "stream",
     "text": [
      "  8%|▊         | 21/250 [02:21<23:56,  6.27s/it]"
     ]
    },
    {
     "name": "stdout",
     "output_type": "stream",
     "text": [
      "🍩 https://wandb.ai/s-kishore/sft_dataset_creation/r/call/019414ff-5d33-77a2-9824-49f627148c72\n",
      "Processing query: Can you inform me about the professor who is leading the Foundations of Software Engineering course?\n",
      "Retrieving course information and reviews...\n",
      "Processing query: Can you inform me about the professor who is leading the Foundations of Software Engineering course?\n",
      "Retrieving relevant course information...\n",
      "Cross-encoder reranking...\n",
      "Successfully reranked 10 documents\n",
      "Retrieving\n",
      "Reranking\n",
      "Combining and reranking all documents...\n",
      "Successfully reranked 10 combined documents\n",
      "Generating integrated response...\n"
     ]
    },
    {
     "name": "stderr",
     "output_type": "stream",
     "text": [
      "  9%|▉         | 22/250 [02:27<23:48,  6.27s/it]"
     ]
    },
    {
     "name": "stdout",
     "output_type": "stream",
     "text": [
      "🍩 https://wandb.ai/s-kishore/sft_dataset_creation/r/call/019414ff-7219-7b40-a6fc-512c12ed167e\n",
      "Processing query: Could you inform me about the instructor leading the course on Programming Design Paradigm?\n",
      "Retrieving course information and reviews...\n",
      "Processing query: Could you inform me about the instructor leading the course on Programming Design Paradigm?\n",
      "Retrieving relevant course information...\n",
      "Cross-encoder reranking...\n",
      "Successfully reranked 10 documents\n",
      "Retrieving\n",
      "Reranking\n",
      "Combining and reranking all documents...\n",
      "Successfully reranked 10 combined documents\n",
      "Generating integrated response...\n"
     ]
    },
    {
     "name": "stderr",
     "output_type": "stream",
     "text": [
      "  9%|▉         | 23/250 [02:33<23:00,  6.08s/it]"
     ]
    },
    {
     "name": "stdout",
     "output_type": "stream",
     "text": [
      "🍩 https://wandb.ai/s-kishore/sft_dataset_creation/r/call/019414ff-8a85-7ca3-bbcd-85d78daba572\n",
      "Processing query: Professor Starzec, Amy, what courses are you currently offering?\n",
      "Retrieving course information and reviews...\n",
      "Processing query: Professor Starzec, Amy, what courses are you currently offering?\n",
      "Retrieving relevant course information...\n",
      "Cross-encoder reranking...\n",
      "Successfully reranked 10 documents\n",
      "Retrieving\n",
      "Reranking\n",
      "Combining and reranking all documents...\n",
      "Successfully reranked 10 combined documents\n",
      "Generating integrated response...\n"
     ]
    },
    {
     "name": "stderr",
     "output_type": "stream",
     "text": [
      " 10%|▉         | 24/250 [02:38<21:32,  5.72s/it]"
     ]
    },
    {
     "name": "stdout",
     "output_type": "stream",
     "text": [
      "🍩 https://wandb.ai/s-kishore/sft_dataset_creation/r/call/019414ff-a093-7870-962f-4afc12d5c7d0\n",
      "Processing query: What basis does Professor Padilla, Lace use to decide the grades of her students?\n",
      "Retrieving course information and reviews...\n",
      "Processing query: What basis does Professor Padilla, Lace use to decide the grades of her students?\n",
      "Retrieving relevant course information...\n",
      "Cross-encoder reranking...\n",
      "Successfully reranked 10 documents\n",
      "Retrieving\n",
      "Reranking\n",
      "Combining and reranking all documents...\n",
      "Successfully reranked 10 combined documents\n",
      "Generating integrated response...\n"
     ]
    },
    {
     "name": "stderr",
     "output_type": "stream",
     "text": [
      " 10%|█         | 25/250 [02:43<20:32,  5.48s/it]"
     ]
    },
    {
     "name": "stdout",
     "output_type": "stream",
     "text": [
      "🍩 https://wandb.ai/s-kishore/sft_dataset_creation/r/call/019414ff-b3a7-7882-9728-92d594c57508\n",
      "Processing query: How hard do you find the Computer/Human Interaction course?\n",
      "Retrieving course information and reviews...\n",
      "Processing query: How hard do you find the Computer/Human Interaction course?\n",
      "Retrieving relevant course information...\n",
      "Cross-encoder reranking...\n",
      "Successfully reranked 10 documents\n",
      "Retrieving\n",
      "Reranking\n",
      "Combining and reranking all documents...\n",
      "Successfully reranked 10 combined documents\n",
      "Generating integrated response...\n"
     ]
    },
    {
     "name": "stderr",
     "output_type": "stream",
     "text": [
      " 10%|█         | 26/250 [02:48<20:07,  5.39s/it]"
     ]
    },
    {
     "name": "stdout",
     "output_type": "stream",
     "text": [
      "🍩 https://wandb.ai/s-kishore/sft_dataset_creation/r/call/019414ff-c6d8-7c63-af21-9afdaa4cf5a6\n",
      "Processing query: How have customers rated the Natural Language Processing course based on their reviews?\n",
      "Retrieving course information and reviews...\n",
      "Processing query: How have customers rated the Natural Language Processing course based on their reviews?\n",
      "Retrieving relevant course information...\n",
      "Cross-encoder reranking...\n",
      "Successfully reranked 10 documents\n",
      "Retrieving\n",
      "Reranking\n",
      "Combining and reranking all documents...\n",
      "Successfully reranked 10 combined documents\n",
      "Generating integrated response...\n"
     ]
    },
    {
     "name": "stderr",
     "output_type": "stream",
     "text": [
      " 11%|█         | 27/250 [02:54<20:32,  5.53s/it]"
     ]
    },
    {
     "name": "stdout",
     "output_type": "stream",
     "text": [
      "🍩 https://wandb.ai/s-kishore/sft_dataset_creation/r/call/019414ff-db1c-7611-a8f1-a5c44da8c0da\n",
      "Processing query: Can you describe the grading standards set by Professor Platt, Robert?\n",
      "Retrieving course information and reviews...\n",
      "Processing query: Can you describe the grading standards set by Professor Platt, Robert?\n",
      "Retrieving relevant course information...\n",
      "Cross-encoder reranking...\n",
      "Successfully reranked 10 documents\n",
      "Retrieving\n",
      "Reranking\n",
      "Combining and reranking all documents...\n",
      "Successfully reranked 10 combined documents\n",
      "Generating integrated response...\n"
     ]
    },
    {
     "name": "stderr",
     "output_type": "stream",
     "text": [
      " 11%|█         | 28/250 [03:00<21:02,  5.69s/it]"
     ]
    },
    {
     "name": "stdout",
     "output_type": "stream",
     "text": [
      "🍩 https://wandb.ai/s-kishore/sft_dataset_creation/r/call/019414ff-f1f4-7f23-a9bb-aeaca1597038\n",
      "Processing query: Which faculty member conducts the Discrete Structures course?\n",
      "Retrieving course information and reviews...\n",
      "Processing query: Which faculty member conducts the Discrete Structures course?\n",
      "Retrieving relevant course information...\n",
      "Cross-encoder reranking...\n",
      "Successfully reranked 10 documents\n",
      "Retrieving\n",
      "Reranking\n",
      "Combining and reranking all documents...\n",
      "Successfully reranked 10 combined documents\n",
      "Generating integrated response...\n"
     ]
    },
    {
     "name": "stderr",
     "output_type": "stream",
     "text": [
      " 12%|█▏        | 29/250 [03:04<19:32,  5.31s/it]"
     ]
    },
    {
     "name": "stdout",
     "output_type": "stream",
     "text": [
      "🍩 https://wandb.ai/s-kishore/sft_dataset_creation/r/call/01941500-099f-7340-930b-9e66149405a6\n",
      "Processing query: Can you tell me about the classes that Professor Bockmon, Ryan teaches?\n",
      "Retrieving course information and reviews...\n",
      "Processing query: Can you tell me about the classes that Professor Bockmon, Ryan teaches?\n",
      "Retrieving relevant course information...\n",
      "Cross-encoder reranking...\n",
      "Successfully reranked 10 documents\n",
      "Retrieving\n",
      "Reranking\n",
      "Combining and reranking all documents...\n",
      "Successfully reranked 10 combined documents\n",
      "Generating integrated response...\n"
     ]
    },
    {
     "name": "stderr",
     "output_type": "stream",
     "text": [
      " 12%|█▏        | 30/250 [03:08<17:57,  4.90s/it]"
     ]
    },
    {
     "name": "stdout",
     "output_type": "stream",
     "text": [
      "🍩 https://wandb.ai/s-kishore/sft_dataset_creation/r/call/01941500-1adc-7812-8df0-af41310adf42\n",
      "Processing query: Could you give an overview of any reviews for the Algorithms course from prior sessions?\n",
      "Retrieving course information and reviews...\n",
      "Processing query: Could you give an overview of any reviews for the Algorithms course from prior sessions?\n",
      "Retrieving relevant course information...\n",
      "Cross-encoder reranking...\n",
      "Successfully reranked 10 documents\n",
      "Retrieving\n",
      "Reranking\n",
      "Combining and reranking all documents...\n",
      "Successfully reranked 10 combined documents\n",
      "Generating integrated response...\n"
     ]
    },
    {
     "name": "stderr",
     "output_type": "stream",
     "text": [
      " 12%|█▏        | 31/250 [03:20<25:04,  6.87s/it]"
     ]
    },
    {
     "name": "stdout",
     "output_type": "stream",
     "text": [
      "🍩 https://wandb.ai/s-kishore/sft_dataset_creation/r/call/01941500-2a4e-7bd1-92df-8ffbdec94e6c\n",
      "Processing query: What professor covers the subject of Discrete Structures?\n",
      "Retrieving course information and reviews...\n",
      "Processing query: What professor covers the subject of Discrete Structures?\n",
      "Retrieving relevant course information...\n",
      "Cross-encoder reranking...\n",
      "Successfully reranked 10 documents\n",
      "Retrieving\n",
      "Reranking\n",
      "Combining and reranking all documents...\n",
      "Successfully reranked 10 combined documents\n",
      "Generating integrated response...\n"
     ]
    },
    {
     "name": "stderr",
     "output_type": "stream",
     "text": [
      " 13%|█▎        | 32/250 [03:25<23:19,  6.42s/it]"
     ]
    },
    {
     "name": "stdout",
     "output_type": "stream",
     "text": [
      "🍩 https://wandb.ai/s-kishore/sft_dataset_creation/r/call/01941500-5711-7fc0-957f-97cafd9fa4ce\n",
      "Processing query: What is Professor Haycook, Charles' reputation for fairness when it comes to grading?\n",
      "Retrieving course information and reviews...\n",
      "Processing query: What is Professor Haycook, Charles' reputation for fairness when it comes to grading?\n",
      "Retrieving relevant course information...\n",
      "Cross-encoder reranking...\n",
      "Successfully reranked 10 documents\n",
      "Retrieving\n",
      "Reranking\n",
      "Combining and reranking all documents...\n",
      "Successfully reranked 10 combined documents\n",
      "Generating integrated response...\n"
     ]
    },
    {
     "name": "stderr",
     "output_type": "stream",
     "text": [
      " 13%|█▎        | 33/250 [03:31<22:11,  6.14s/it]"
     ]
    },
    {
     "name": "stdout",
     "output_type": "stream",
     "text": [
      "🍩 https://wandb.ai/s-kishore/sft_dataset_creation/r/call/01941500-6c09-74a2-8fba-e83e0ee3614c\n",
      "Processing query: What types of classes can one find that are dedicated to Deep Learning?\n",
      "Retrieving course information and reviews...\n",
      "Processing query: What types of classes can one find that are dedicated to Deep Learning?\n",
      "Retrieving relevant course information...\n",
      "Cross-encoder reranking...\n",
      "Successfully reranked 10 documents\n",
      "Retrieving\n",
      "Reranking\n",
      "Combining and reranking all documents...\n",
      "Successfully reranked 10 combined documents\n",
      "Generating integrated response...\n"
     ]
    },
    {
     "name": "stderr",
     "output_type": "stream",
     "text": [
      " 14%|█▎        | 34/250 [03:39<24:28,  6.80s/it]"
     ]
    },
    {
     "name": "stdout",
     "output_type": "stream",
     "text": [
      "🍩 https://wandb.ai/s-kishore/sft_dataset_creation/r/call/01941500-816e-7580-b5e5-3450dced690b\n",
      "Processing query: Is there a set of prerequisites needed for Object-Oriented Design?\n",
      "Retrieving course information and reviews...\n",
      "Processing query: Is there a set of prerequisites needed for Object-Oriented Design?\n",
      "Retrieving relevant course information...\n",
      "Cross-encoder reranking...\n",
      "Successfully reranked 10 documents\n",
      "Retrieving\n",
      "Reranking\n",
      "Combining and reranking all documents...\n",
      "Successfully reranked 10 combined documents\n",
      "Generating integrated response...\n"
     ]
    },
    {
     "name": "stderr",
     "output_type": "stream",
     "text": [
      " 14%|█▍        | 35/250 [03:44<22:49,  6.37s/it]"
     ]
    },
    {
     "name": "stdout",
     "output_type": "stream",
     "text": [
      "🍩 https://wandb.ai/s-kishore/sft_dataset_creation/r/call/01941500-a211-7b41-af12-480cd65bc02e\n",
      "Processing query: Can you list the courses that Professor Schedlbauer, Martin offers?\n",
      "Retrieving course information and reviews...\n",
      "Processing query: Can you list the courses that Professor Schedlbauer, Martin offers?\n",
      "Retrieving relevant course information...\n",
      "Cross-encoder reranking...\n",
      "Successfully reranked 10 documents\n",
      "Retrieving\n",
      "Reranking\n",
      "Combining and reranking all documents...\n",
      "Successfully reranked 10 combined documents\n",
      "Generating integrated response...\n"
     ]
    },
    {
     "name": "stderr",
     "output_type": "stream",
     "text": [
      " 14%|█▍        | 36/250 [03:48<20:00,  5.61s/it]"
     ]
    },
    {
     "name": "stdout",
     "output_type": "stream",
     "text": [
      "🍩 https://wandb.ai/s-kishore/sft_dataset_creation/r/call/01941500-b70a-7d22-952f-99b627c0fa3b\n",
      "Processing query: 'Programming Design Paradigm': Could you assess its difficulty level?\n",
      "Retrieving course information and reviews...\n",
      "Processing query: 'Programming Design Paradigm': Could you assess its difficulty level?\n",
      "Retrieving relevant course information...\n",
      "Cross-encoder reranking...\n",
      "Successfully reranked 10 documents\n",
      "Retrieving\n",
      "Reranking\n",
      "Combining and reranking all documents...\n",
      "Successfully reranked 10 combined documents\n",
      "Generating integrated response...\n"
     ]
    },
    {
     "name": "stderr",
     "output_type": "stream",
     "text": [
      " 15%|█▍        | 37/250 [03:54<19:57,  5.62s/it]"
     ]
    },
    {
     "name": "stdout",
     "output_type": "stream",
     "text": [
      "🍩 https://wandb.ai/s-kishore/sft_dataset_creation/r/call/01941500-c5fd-7150-8709-fbb9361bef48\n",
      "Processing query: What factors does Professor Smith, David consider when giving grades?\n",
      "Retrieving course information and reviews...\n",
      "Processing query: What factors does Professor Smith, David consider when giving grades?\n",
      "Retrieving relevant course information...\n",
      "Cross-encoder reranking...\n",
      "Successfully reranked 10 documents\n",
      "Retrieving\n",
      "Reranking\n",
      "Combining and reranking all documents...\n",
      "Successfully reranked 10 combined documents\n",
      "Generating integrated response...\n"
     ]
    },
    {
     "name": "stderr",
     "output_type": "stream",
     "text": [
      " 15%|█▌        | 38/250 [03:58<17:56,  5.08s/it]"
     ]
    },
    {
     "name": "stdout",
     "output_type": "stream",
     "text": [
      "🍩 https://wandb.ai/s-kishore/sft_dataset_creation/r/call/01941500-dc13-70f2-97e7-d60bbce20016\n",
      "Processing query: Has the Web Development course been run in the past? If it has, could you provide a summary of the reviews given by the students?\n",
      "Retrieving course information and reviews...\n",
      "Processing query: Has the Web Development course been run in the past? If it has, could you provide a summary of the reviews given by the students?\n",
      "Retrieving relevant course information...\n",
      "Cross-encoder reranking...\n",
      "Successfully reranked 10 documents\n",
      "Retrieving\n",
      "Reranking\n",
      "Combining and reranking all documents...\n",
      "Successfully reranked 10 combined documents\n",
      "Generating integrated response...\n"
     ]
    },
    {
     "name": "stderr",
     "output_type": "stream",
     "text": [
      " 16%|█▌        | 39/250 [04:14<29:24,  8.36s/it]"
     ]
    },
    {
     "name": "stdout",
     "output_type": "stream",
     "text": [
      "🍩 https://wandb.ai/s-kishore/sft_dataset_creation/r/call/01941500-eaf5-7d73-af0a-b8e57f01fc56\n",
      "Processing query: What are the designated periods for attending the Mobile Application Development lectures?\n",
      "Retrieving course information and reviews...\n",
      "Processing query: What are the designated periods for attending the Mobile Application Development lectures?\n",
      "Retrieving relevant course information...\n",
      "Cross-encoder reranking...\n",
      "Successfully reranked 10 documents\n",
      "Retrieving\n",
      "Reranking\n",
      "Combining and reranking all documents...\n",
      "Successfully reranked 10 combined documents\n",
      "Generating integrated response...\n"
     ]
    },
    {
     "name": "stderr",
     "output_type": "stream",
     "text": [
      " 16%|█▌        | 40/250 [04:18<24:59,  7.14s/it]"
     ]
    },
    {
     "name": "stdout",
     "output_type": "stream",
     "text": [
      "🍩 https://wandb.ai/s-kishore/sft_dataset_creation/r/call/01941501-298a-7a73-974e-d84a226c4479\n",
      "Processing query: What kind of previous knowledge is needed to start the Programming Design Paradigm course?\n",
      "Retrieving course information and reviews...\n",
      "Processing query: What kind of previous knowledge is needed to start the Programming Design Paradigm course?\n",
      "Retrieving relevant course information...\n",
      "Cross-encoder reranking...\n",
      "Successfully reranked 10 documents\n",
      "Retrieving\n",
      "Reranking\n",
      "Combining and reranking all documents...\n",
      "Successfully reranked 10 combined documents\n",
      "Generating integrated response...\n"
     ]
    },
    {
     "name": "stderr",
     "output_type": "stream",
     "text": [
      " 16%|█▋        | 41/250 [04:22<22:02,  6.33s/it]"
     ]
    },
    {
     "name": "stdout",
     "output_type": "stream",
     "text": [
      "🍩 https://wandb.ai/s-kishore/sft_dataset_creation/r/call/01941501-3a52-7562-a2dd-2a298f3e97c9\n",
      "Processing query: Could you tell me if the Reinforcement Learning course has been taught before, and perhaps share some insights from those who took it?\n",
      "Retrieving course information and reviews...\n",
      "Processing query: Could you tell me if the Reinforcement Learning course has been taught before, and perhaps share some insights from those who took it?\n",
      "Retrieving relevant course information...\n",
      "Cross-encoder reranking...\n",
      "Successfully reranked 10 documents\n",
      "Retrieving\n",
      "Reranking\n",
      "Combining and reranking all documents...\n",
      "Successfully reranked 10 combined documents\n",
      "Generating integrated response...\n"
     ]
    },
    {
     "name": "stderr",
     "output_type": "stream",
     "text": [
      " 17%|█▋        | 42/250 [04:30<23:08,  6.67s/it]"
     ]
    },
    {
     "name": "stdout",
     "output_type": "stream",
     "text": [
      "🍩 https://wandb.ai/s-kishore/sft_dataset_creation/r/call/01941501-4b9e-7841-9b3e-2b46b152f132\n",
      "Processing query: What kind of grading criteria does Professor Aslam, Javed use when evaluating student performance?\n",
      "Retrieving course information and reviews...\n",
      "Processing query: What kind of grading criteria does Professor Aslam, Javed use when evaluating student performance?\n",
      "Retrieving relevant course information...\n",
      "Cross-encoder reranking...\n",
      "Successfully reranked 10 documents\n",
      "Retrieving\n",
      "Reranking\n",
      "Combining and reranking all documents...\n",
      "Successfully reranked 10 combined documents\n",
      "Generating integrated response...\n"
     ]
    },
    {
     "name": "stderr",
     "output_type": "stream",
     "text": [
      " 17%|█▋        | 43/250 [04:33<19:42,  5.71s/it]"
     ]
    },
    {
     "name": "stdout",
     "output_type": "stream",
     "text": [
      "🍩 https://wandb.ai/s-kishore/sft_dataset_creation/r/call/01941501-68db-7621-b11b-2ae018813092\n",
      "Processing query: Which educational offerings are Professor Smith, Amy providing?\n",
      "Retrieving course information and reviews...\n",
      "Processing query: Which educational offerings are Professor Smith, Amy providing?\n",
      "Retrieving relevant course information...\n",
      "Cross-encoder reranking...\n",
      "Successfully reranked 10 documents\n",
      "Retrieving\n",
      "Reranking\n",
      "Combining and reranking all documents...\n",
      "Successfully reranked 10 combined documents\n",
      "Generating integrated response...\n"
     ]
    },
    {
     "name": "stderr",
     "output_type": "stream",
     "text": [
      " 18%|█▊        | 44/250 [04:40<20:39,  6.02s/it]"
     ]
    },
    {
     "name": "stdout",
     "output_type": "stream",
     "text": [
      "🍩 https://wandb.ai/s-kishore/sft_dataset_creation/r/call/01941501-7662-78e0-8a48-93f9cdfb9133\n",
      "Processing query: In what fields of study are Professors Sushmita and Shanu involved in providing educational programs?\n",
      "Retrieving course information and reviews...\n",
      "Processing query: In what fields of study are Professors Sushmita and Shanu involved in providing educational programs?\n",
      "Retrieving relevant course information...\n",
      "Cross-encoder reranking...\n",
      "Successfully reranked 10 documents\n",
      "Retrieving\n",
      "Reranking\n",
      "Combining and reranking all documents...\n",
      "Successfully reranked 10 combined documents\n",
      "Generating integrated response...\n"
     ]
    },
    {
     "name": "stderr",
     "output_type": "stream",
     "text": [
      " 18%|█▊        | 45/250 [04:43<17:54,  5.24s/it]"
     ]
    },
    {
     "name": "stdout",
     "output_type": "stream",
     "text": [
      "🍩 https://wandb.ai/s-kishore/sft_dataset_creation/r/call/01941501-90af-7023-ae5a-a25f11561f85\n",
      "Processing query: From the reviews, could you provide insights into the Object-Oriented Design course?\n",
      "Retrieving course information and reviews...\n",
      "Processing query: From the reviews, could you provide insights into the Object-Oriented Design course?\n",
      "Retrieving relevant course information...\n",
      "Cross-encoder reranking...\n",
      "Successfully reranked 10 documents\n",
      "Retrieving\n",
      "Reranking\n",
      "Combining and reranking all documents...\n",
      "Successfully reranked 10 combined documents\n",
      "Generating integrated response...\n"
     ]
    },
    {
     "name": "stderr",
     "output_type": "stream",
     "text": [
      " 18%|█▊        | 46/250 [04:53<22:46,  6.70s/it]"
     ]
    },
    {
     "name": "stdout",
     "output_type": "stream",
     "text": [
      "🍩 https://wandb.ai/s-kishore/sft_dataset_creation/r/call/01941501-9e18-7692-b6d7-87ae1c719a9b\n",
      "Processing query: What are the necessary courses before enrolling in the Foundations of Software Engineering program?\n",
      "Retrieving course information and reviews...\n",
      "Processing query: What are the necessary courses before enrolling in the Foundations of Software Engineering program?\n",
      "Retrieving relevant course information...\n",
      "Cross-encoder reranking...\n",
      "Successfully reranked 10 documents\n",
      "Retrieving\n",
      "Reranking\n",
      "Combining and reranking all documents...\n",
      "Successfully reranked 10 combined documents\n",
      "Generating integrated response...\n"
     ]
    },
    {
     "name": "stderr",
     "output_type": "stream",
     "text": [
      " 19%|█▉        | 47/250 [04:58<20:24,  6.03s/it]"
     ]
    },
    {
     "name": "stdout",
     "output_type": "stream",
     "text": [
      "🍩 https://wandb.ai/s-kishore/sft_dataset_creation/r/call/01941501-c58f-7a91-ab98-1ef10ef5eb20\n",
      "Processing query: What level of difficulty does the Reinforcement Learning course present?\n",
      "Retrieving course information and reviews...\n",
      "Processing query: What level of difficulty does the Reinforcement Learning course present?\n",
      "Retrieving relevant course information...\n",
      "Cross-encoder reranking...\n",
      "Successfully reranked 10 documents\n",
      "Retrieving\n",
      "Reranking\n",
      "Combining and reranking all documents...\n",
      "Successfully reranked 10 combined documents\n",
      "Generating integrated response...\n"
     ]
    },
    {
     "name": "stderr",
     "output_type": "stream",
     "text": [
      " 19%|█▉        | 48/250 [05:02<18:30,  5.50s/it]"
     ]
    },
    {
     "name": "stdout",
     "output_type": "stream",
     "text": [
      "🍩 https://wandb.ai/s-kishore/sft_dataset_creation/r/call/01941501-d708-7d63-9227-6dddaebc7af5\n",
      "Processing query: What do critics think about the Deep Learning course according to the available reviews?\n",
      "Retrieving course information and reviews...\n",
      "Processing query: What do critics think about the Deep Learning course according to the available reviews?\n",
      "Retrieving relevant course information...\n",
      "Cross-encoder reranking...\n",
      "Successfully reranked 10 documents\n",
      "Retrieving\n",
      "Reranking\n",
      "Combining and reranking all documents...\n",
      "Successfully reranked 10 combined documents\n",
      "Generating integrated response...\n"
     ]
    },
    {
     "name": "stderr",
     "output_type": "stream",
     "text": [
      " 20%|█▉        | 49/250 [05:11<22:09,  6.62s/it]"
     ]
    },
    {
     "name": "stdout",
     "output_type": "stream",
     "text": [
      "🍩 https://wandb.ai/s-kishore/sft_dataset_creation/r/call/01941501-e7a0-7202-9287-79e7abe4e98d\n",
      "Processing query: What do reviews say about the Mobile Application Development course?\n",
      "Retrieving course information and reviews...\n",
      "Processing query: What do reviews say about the Mobile Application Development course?\n",
      "Retrieving relevant course information...\n",
      "Cross-encoder reranking...\n",
      "Successfully reranked 10 documents\n",
      "Retrieving\n",
      "Reranking\n",
      "Combining and reranking all documents...\n",
      "Successfully reranked 10 combined documents\n",
      "Generating integrated response...\n"
     ]
    },
    {
     "name": "stderr",
     "output_type": "stream",
     "text": [
      " 20%|██        | 50/250 [05:21<25:14,  7.57s/it]"
     ]
    },
    {
     "name": "stdout",
     "output_type": "stream",
     "text": [
      "🍩 https://wandb.ai/s-kishore/sft_dataset_creation/r/call/01941502-0bab-72a1-be14-4c2254577a09\n",
      "Processing query: What subjects does Professor Abir Saha offer as part of his teaching program?\n",
      "Retrieving course information and reviews...\n",
      "Processing query: What subjects does Professor Abir Saha offer as part of his teaching program?\n",
      "Retrieving relevant course information...\n",
      "Cross-encoder reranking...\n",
      "Successfully reranked 10 documents\n",
      "Retrieving\n",
      "Reranking\n",
      "Combining and reranking all documents...\n",
      "Successfully reranked 10 combined documents\n",
      "Generating integrated response...\n"
     ]
    },
    {
     "name": "stderr",
     "output_type": "stream",
     "text": [
      " 20%|██        | 51/250 [05:25<21:07,  6.37s/it]"
     ]
    },
    {
     "name": "stdout",
     "output_type": "stream",
     "text": [
      "🍩 https://wandb.ai/s-kishore/sft_dataset_creation/r/call/01941502-31f7-79c1-97a5-d6cbe17a1d22\n",
      "Processing query: What topics does Professor Tan Cheng cover in his/her lectures?\n",
      "Retrieving course information and reviews...\n",
      "Processing query: What topics does Professor Tan Cheng cover in his/her lectures?\n",
      "Retrieving relevant course information...\n",
      "Cross-encoder reranking...\n",
      "Successfully reranked 10 documents\n",
      "Retrieving\n",
      "Reranking\n",
      "Combining and reranking all documents...\n",
      "Successfully reranked 10 combined documents\n",
      "Generating integrated response...\n"
     ]
    },
    {
     "name": "stderr",
     "output_type": "stream",
     "text": [
      " 21%|██        | 52/250 [05:29<19:08,  5.80s/it]"
     ]
    },
    {
     "name": "stdout",
     "output_type": "stream",
     "text": [
      "🍩 https://wandb.ai/s-kishore/sft_dataset_creation/r/call/01941502-3fe2-7923-82b0-9a8a719964f4\n",
      "Processing query: What subjects are covered in Professor Cross, Brian’s course offerings?\n",
      "Retrieving course information and reviews...\n",
      "Processing query: What subjects are covered in Professor Cross, Brian’s course offerings?\n",
      "Retrieving relevant course information...\n",
      "Cross-encoder reranking...\n",
      "Successfully reranked 10 documents\n",
      "Retrieving\n",
      "Reranking\n",
      "Combining and reranking all documents...\n",
      "Successfully reranked 10 combined documents\n",
      "Generating integrated response...\n"
     ]
    },
    {
     "name": "stderr",
     "output_type": "stream",
     "text": [
      " 21%|██        | 53/250 [05:35<19:18,  5.88s/it]"
     ]
    },
    {
     "name": "stdout",
     "output_type": "stream",
     "text": [
      "🍩 https://wandb.ai/s-kishore/sft_dataset_creation/r/call/01941502-5153-7eb0-b670-1fe80dd1ee09\n",
      "Processing query: How has the Mobile Application Development course been received according to the reviews?\n",
      "Retrieving course information and reviews...\n",
      "Processing query: How has the Mobile Application Development course been received according to the reviews?\n",
      "Retrieving relevant course information...\n",
      "Cross-encoder reranking...\n",
      "Successfully reranked 10 documents\n",
      "Retrieving\n",
      "Reranking\n",
      "Combining and reranking all documents...\n",
      "Successfully reranked 10 combined documents\n",
      "Generating integrated response...\n"
     ]
    },
    {
     "name": "stderr",
     "output_type": "stream",
     "text": [
      " 22%|██▏       | 54/250 [05:41<19:27,  5.96s/it]"
     ]
    },
    {
     "name": "stdout",
     "output_type": "stream",
     "text": [
      "🍩 https://wandb.ai/s-kishore/sft_dataset_creation/r/call/01941502-6912-7341-8fed-4c0c0a1aed28\n",
      "Processing query: What courses are Professor Ithier and Carter offering for students this year?\n",
      "Retrieving course information and reviews...\n",
      "Processing query: What courses are Professor Ithier and Carter offering for students this year?\n",
      "Retrieving relevant course information...\n",
      "Cross-encoder reranking...\n",
      "Successfully reranked 10 documents\n",
      "Retrieving\n",
      "Reranking\n",
      "Combining and reranking all documents...\n",
      "Successfully reranked 10 combined documents\n",
      "Generating integrated response...\n"
     ]
    },
    {
     "name": "stderr",
     "output_type": "stream",
     "text": [
      " 22%|██▏       | 55/250 [05:52<23:41,  7.29s/it]"
     ]
    },
    {
     "name": "stdout",
     "output_type": "stream",
     "text": [
      "🍩 https://wandb.ai/s-kishore/sft_dataset_creation/r/call/01941502-810c-75a1-927d-3686691ebd42\n",
      "Processing query: What courses do I need to finish before starting the Recitation for CS5010?\n",
      "Retrieving course information and reviews...\n",
      "Processing query: What courses do I need to finish before starting the Recitation for CS5010?\n",
      "Retrieving relevant course information...\n",
      "Cross-encoder reranking...\n",
      "Successfully reranked 10 documents\n",
      "Retrieving\n",
      "Reranking\n",
      "Combining and reranking all documents...\n",
      "Successfully reranked 10 combined documents\n",
      "Generating integrated response...\n"
     ]
    },
    {
     "name": "stderr",
     "output_type": "stream",
     "text": [
      " 22%|██▏       | 56/250 [06:00<23:59,  7.42s/it]"
     ]
    },
    {
     "name": "stdout",
     "output_type": "stream",
     "text": [
      "🍩 https://wandb.ai/s-kishore/sft_dataset_creation/r/call/01941502-a9a5-7b02-b839-08fd71bdc2b4\n",
      "Processing query: What educational background is essential before starting a Database Management curriculum?\n",
      "Retrieving course information and reviews...\n",
      "Processing query: What educational background is essential before starting a Database Management curriculum?\n",
      "Retrieving relevant course information...\n",
      "Cross-encoder reranking...\n",
      "Successfully reranked 10 documents\n",
      "Retrieving\n",
      "Reranking\n",
      "Combining and reranking all documents...\n",
      "Successfully reranked 10 combined documents\n",
      "Generating integrated response...\n"
     ]
    },
    {
     "name": "stderr",
     "output_type": "stream",
     "text": [
      " 23%|██▎       | 57/250 [06:05<21:32,  6.70s/it]"
     ]
    },
    {
     "name": "stdout",
     "output_type": "stream",
     "text": [
      "🍩 https://wandb.ai/s-kishore/sft_dataset_creation/r/call/01941502-c7da-72f2-9069-daffa5ce442f\n",
      "Processing query: In which subjects is Professor Jackson Alden conducting lectures?\n",
      "Retrieving course information and reviews...\n",
      "Processing query: In which subjects is Professor Jackson Alden conducting lectures?\n",
      "Retrieving relevant course information...\n",
      "Cross-encoder reranking...\n",
      "Successfully reranked 10 documents\n",
      "Retrieving\n",
      "Reranking\n",
      "Combining and reranking all documents...\n",
      "Successfully reranked 10 combined documents\n",
      "Generating integrated response...\n"
     ]
    },
    {
     "name": "stderr",
     "output_type": "stream",
     "text": [
      " 23%|██▎       | 58/250 [06:11<20:59,  6.56s/it]"
     ]
    },
    {
     "name": "stdout",
     "output_type": "stream",
     "text": [
      "🍩 https://wandb.ai/s-kishore/sft_dataset_creation/r/call/01941502-db60-7280-a9cc-b1e73dffcf02\n",
      "Processing query: Professor Smith, David, can you list the courses you're teaching now?\n",
      "Retrieving course information and reviews...\n",
      "Processing query: Professor Smith, David, can you list the courses you're teaching now?\n",
      "Retrieving relevant course information...\n",
      "Cross-encoder reranking...\n",
      "Successfully reranked 10 documents\n",
      "Retrieving\n",
      "Reranking\n",
      "Combining and reranking all documents...\n",
      "Successfully reranked 10 combined documents\n",
      "Generating integrated response...\n"
     ]
    },
    {
     "name": "stderr",
     "output_type": "stream",
     "text": [
      " 24%|██▎       | 59/250 [06:15<18:18,  5.75s/it]"
     ]
    },
    {
     "name": "stdout",
     "output_type": "stream",
     "text": [
      "🍩 https://wandb.ai/s-kishore/sft_dataset_creation/r/call/01941502-f3cd-7f62-a0fc-e9e196f2b481\n",
      "Processing query: What subjects are under the purview of the professors Aibin and Michal?\n",
      "Retrieving course information and reviews...\n",
      "Processing query: What subjects are under the purview of the professors Aibin and Michal?\n",
      "Retrieving relevant course information...\n",
      "Cross-encoder reranking...\n",
      "Successfully reranked 10 documents\n",
      "Retrieving\n",
      "Reranking\n",
      "Combining and reranking all documents...\n",
      "Successfully reranked 10 combined documents\n",
      "Generating integrated response...\n"
     ]
    },
    {
     "name": "stderr",
     "output_type": "stream",
     "text": [
      " 24%|██▍       | 60/250 [06:18<15:46,  4.98s/it]"
     ]
    },
    {
     "name": "stdout",
     "output_type": "stream",
     "text": [
      "🍩 https://wandb.ai/s-kishore/sft_dataset_creation/r/call/01941503-02e2-7770-8b8f-b774ec0c4268\n",
      "Processing query: What are the courses that are directly linked to the subject matter of computer systems?\n",
      "Retrieving course information and reviews...\n",
      "Processing query: What are the courses that are directly linked to the subject matter of computer systems?\n",
      "Retrieving relevant course information...\n",
      "Cross-encoder reranking...\n",
      "Successfully reranked 10 documents\n",
      "Retrieving\n",
      "Reranking\n",
      "Combining and reranking all documents...\n",
      "Successfully reranked 10 combined documents\n",
      "Generating integrated response...\n"
     ]
    },
    {
     "name": "stderr",
     "output_type": "stream",
     "text": [
      " 24%|██▍       | 61/250 [06:23<16:09,  5.13s/it]"
     ]
    },
    {
     "name": "stdout",
     "output_type": "stream",
     "text": [
      "🍩 https://wandb.ai/s-kishore/sft_dataset_creation/r/call/01941503-0f57-7142-813b-5d9f876204d9\n",
      "Processing query: Who is the lecturer providing instruction for the 'Natural Language Processing' course?\n",
      "Retrieving course information and reviews...\n",
      "Processing query: Who is the lecturer providing instruction for the 'Natural Language Processing' course?\n",
      "Retrieving relevant course information...\n",
      "Cross-encoder reranking...\n",
      "Successfully reranked 10 documents\n",
      "Retrieving\n",
      "Reranking\n",
      "Combining and reranking all documents...\n",
      "Successfully reranked 10 combined documents\n",
      "Generating integrated response...\n"
     ]
    },
    {
     "name": "stderr",
     "output_type": "stream",
     "text": [
      " 25%|██▍       | 62/250 [06:25<13:08,  4.19s/it]"
     ]
    },
    {
     "name": "stdout",
     "output_type": "stream",
     "text": [
      "🍩 https://wandb.ai/s-kishore/sft_dataset_creation/r/call/01941503-24b9-7e11-86d9-a5d0c9dc9032\n",
      "Processing query: What is your assessment of the Reinforcement Learning course according to the reviews?\n",
      "Retrieving course information and reviews...\n",
      "Processing query: What is your assessment of the Reinforcement Learning course according to the reviews?\n",
      "Retrieving relevant course information...\n",
      "Cross-encoder reranking...\n",
      "Successfully reranked 10 documents\n",
      "Retrieving\n",
      "Reranking\n",
      "Combining and reranking all documents...\n",
      "Successfully reranked 10 combined documents\n",
      "Generating integrated response...\n"
     ]
    },
    {
     "name": "stderr",
     "output_type": "stream",
     "text": [
      " 25%|██▌       | 63/250 [06:31<14:23,  4.62s/it]"
     ]
    },
    {
     "name": "stdout",
     "output_type": "stream",
     "text": [
      "🍩 https://wandb.ai/s-kishore/sft_dataset_creation/r/call/01941503-2c92-7200-83de-2e45ffcd9a99\n",
      "Processing query: Has the Computer/Human Interaction course been part of the academic program? If so, what kind of feedback did students give about it?\n",
      "Retrieving course information and reviews...\n",
      "Processing query: Has the Computer/Human Interaction course been part of the academic program? If so, what kind of feedback did students give about it?\n",
      "Retrieving relevant course information...\n",
      "Cross-encoder reranking...\n",
      "Successfully reranked 10 documents\n",
      "Retrieving\n",
      "Reranking\n",
      "Combining and reranking all documents...\n",
      "Successfully reranked 10 combined documents\n",
      "Generating integrated response...\n"
     ]
    },
    {
     "name": "stderr",
     "output_type": "stream",
     "text": [
      " 26%|██▌       | 64/250 [06:39<17:24,  5.62s/it]"
     ]
    },
    {
     "name": "stdout",
     "output_type": "stream",
     "text": [
      "🍩 https://wandb.ai/s-kishore/sft_dataset_creation/r/call/01941503-4275-7390-98f8-bb2f6ce7ce7c\n",
      "Processing query: Could you suggest courses that prioritize research or seminars as key components?\n",
      "Retrieving course information and reviews...\n",
      "Processing query: Could you suggest courses that prioritize research or seminars as key components?\n",
      "Retrieving relevant course information...\n",
      "Cross-encoder reranking...\n",
      "Successfully reranked 10 documents\n",
      "Retrieving\n",
      "Reranking\n",
      "Combining and reranking all documents...\n",
      "Successfully reranked 10 combined documents\n",
      "Generating integrated response...\n"
     ]
    },
    {
     "name": "stderr",
     "output_type": "stream",
     "text": [
      " 26%|██▌       | 65/250 [06:49<21:06,  6.84s/it]"
     ]
    },
    {
     "name": "stdout",
     "output_type": "stream",
     "text": [
      "🍩 https://wandb.ai/s-kishore/sft_dataset_creation/r/call/01941503-6187-7de1-9602-fa8cc45eb248\n",
      "Processing query: Who teaches the 'Natural Language Processing' course?\n",
      "Retrieving course information and reviews...\n",
      "Processing query: Who teaches the 'Natural Language Processing' course?\n",
      "Retrieving relevant course information...\n",
      "Cross-encoder reranking...\n",
      "Successfully reranked 10 documents\n",
      "Retrieving\n",
      "Reranking\n",
      "Combining and reranking all documents...\n",
      "Successfully reranked 10 combined documents\n",
      "Generating integrated response...\n"
     ]
    },
    {
     "name": "stderr",
     "output_type": "stream",
     "text": [
      " 26%|██▋       | 66/250 [06:51<16:50,  5.49s/it]"
     ]
    },
    {
     "name": "stdout",
     "output_type": "stream",
     "text": [
      "🍩 https://wandb.ai/s-kishore/sft_dataset_creation/r/call/01941503-8772-7f53-8223-4b275967d222\n",
      "Processing query: Could you describe how Professor Rachlin, John determines grades?\n",
      "Retrieving course information and reviews...\n",
      "Processing query: Could you describe how Professor Rachlin, John determines grades?\n",
      "Retrieving relevant course information...\n",
      "Cross-encoder reranking...\n",
      "Successfully reranked 10 documents\n",
      "Retrieving\n",
      "Reranking\n",
      "Combining and reranking all documents...\n",
      "Successfully reranked 10 combined documents\n",
      "Generating integrated response...\n"
     ]
    },
    {
     "name": "stderr",
     "output_type": "stream",
     "text": [
      " 27%|██▋       | 67/250 [06:55<15:34,  5.10s/it]"
     ]
    },
    {
     "name": "stdout",
     "output_type": "stream",
     "text": [
      "🍩 https://wandb.ai/s-kishore/sft_dataset_creation/r/call/01941503-9096-78b2-a940-8cb6ebda2651\n",
      "Processing query: What are the courses assigned to Professor Smith, David?\n",
      "Retrieving course information and reviews...\n",
      "Processing query: What are the courses assigned to Professor Smith, David?\n",
      "Retrieving relevant course information...\n",
      "Cross-encoder reranking...\n",
      "Successfully reranked 10 documents\n",
      "Retrieving\n",
      "Reranking\n",
      "Combining and reranking all documents...\n",
      "Successfully reranked 10 combined documents\n",
      "Generating integrated response...\n"
     ]
    },
    {
     "name": "stderr",
     "output_type": "stream",
     "text": [
      " 27%|██▋       | 68/250 [06:59<14:19,  4.72s/it]"
     ]
    },
    {
     "name": "stdout",
     "output_type": "stream",
     "text": [
      "🍩 https://wandb.ai/s-kishore/sft_dataset_creation/r/call/01941503-a0fd-71b3-9fe0-ee1653b9d54a\n",
      "Processing query: What is the schedule for the Object-Oriented Design course?\n",
      "Retrieving course information and reviews...\n",
      "Processing query: What is the schedule for the Object-Oriented Design course?\n",
      "Retrieving relevant course information...\n",
      "Cross-encoder reranking...\n",
      "Successfully reranked 10 documents\n",
      "Retrieving\n",
      "Reranking\n",
      "Combining and reranking all documents...\n",
      "Successfully reranked 10 combined documents\n",
      "Generating integrated response...\n"
     ]
    },
    {
     "name": "stderr",
     "output_type": "stream",
     "text": [
      " 28%|██▊       | 69/250 [07:07<17:37,  5.84s/it]"
     ]
    },
    {
     "name": "stdout",
     "output_type": "stream",
     "text": [
      "🍩 https://wandb.ai/s-kishore/sft_dataset_creation/r/call/01941503-aff4-7be0-be7d-eca94feb2e33\n",
      "Processing query: In what manner does Professor Aslam, Javed handle grading assignments?\n",
      "Retrieving course information and reviews...\n",
      "Processing query: In what manner does Professor Aslam, Javed handle grading assignments?\n",
      "Retrieving relevant course information...\n",
      "Cross-encoder reranking...\n",
      "Successfully reranked 10 documents\n",
      "Retrieving\n",
      "Reranking\n",
      "Combining and reranking all documents...\n",
      "Successfully reranked 10 combined documents\n",
      "Generating integrated response...\n"
     ]
    },
    {
     "name": "stderr",
     "output_type": "stream",
     "text": [
      " 28%|██▊       | 70/250 [07:11<15:28,  5.16s/it]"
     ]
    },
    {
     "name": "stdout",
     "output_type": "stream",
     "text": [
      "🍩 https://wandb.ai/s-kishore/sft_dataset_creation/r/call/01941503-d101-7df2-84b2-e472362acb27\n",
      "Processing query: Could you describe the challenge involved in taking the Compilers course?\n",
      "Retrieving course information and reviews...\n",
      "Processing query: Could you describe the challenge involved in taking the Compilers course?\n",
      "Retrieving relevant course information...\n",
      "Cross-encoder reranking...\n",
      "Successfully reranked 10 documents\n",
      "Retrieving\n",
      "Reranking\n",
      "Combining and reranking all documents...\n",
      "Successfully reranked 10 combined documents\n",
      "Generating integrated response...\n"
     ]
    },
    {
     "name": "stderr",
     "output_type": "stream",
     "text": [
      " 28%|██▊       | 71/250 [07:18<16:52,  5.65s/it]"
     ]
    },
    {
     "name": "stdout",
     "output_type": "stream",
     "text": [
      "🍩 https://wandb.ai/s-kishore/sft_dataset_creation/r/call/01941503-dede-78c3-ac0c-171fb3676464\n",
      "Processing query: Was the Recitation for CS5010 available in previous semesters? Could you provide a review summary?\n",
      "Retrieving course information and reviews...\n",
      "Processing query: Was the Recitation for CS5010 available in previous semesters? Could you provide a review summary?\n",
      "Retrieving relevant course information...\n",
      "Cross-encoder reranking...\n",
      "Successfully reranked 10 documents\n",
      "Retrieving\n",
      "Reranking\n",
      "Combining and reranking all documents...\n",
      "Successfully reranked 10 combined documents\n",
      "Generating integrated response...\n"
     ]
    },
    {
     "name": "stderr",
     "output_type": "stream",
     "text": [
      " 29%|██▉       | 72/250 [07:28<20:36,  6.95s/it]"
     ]
    },
    {
     "name": "stdout",
     "output_type": "stream",
     "text": [
      "🍩 https://wandb.ai/s-kishore/sft_dataset_creation/r/call/01941503-f980-72c2-990c-c19ad7866e76\n",
      "Processing query: Has 'Foundations of Software Engineering' been delivered in the past? Would you mind sharing a summary of the reviews from those who took the course?\n",
      "Retrieving course information and reviews...\n",
      "Processing query: Has 'Foundations of Software Engineering' been delivered in the past? Would you mind sharing a summary of the reviews from those who took the course?\n",
      "Retrieving relevant course information...\n",
      "Cross-encoder reranking...\n",
      "Successfully reranked 10 documents\n",
      "Retrieving\n",
      "Reranking\n",
      "Combining and reranking all documents...\n",
      "Successfully reranked 10 combined documents\n",
      "Generating integrated response...\n"
     ]
    },
    {
     "name": "stderr",
     "output_type": "stream",
     "text": [
      " 29%|██▉       | 73/250 [07:44<28:48,  9.77s/it]"
     ]
    },
    {
     "name": "stdout",
     "output_type": "stream",
     "text": [
      "🍩 https://wandb.ai/s-kishore/sft_dataset_creation/r/call/01941504-206c-72b3-8acc-42437476a752\n",
      "Processing query: Could you tell me about Professor Smith, David’s grading standards?\n",
      "Retrieving course information and reviews...\n",
      "Processing query: Could you tell me about Professor Smith, David’s grading standards?\n",
      "Retrieving relevant course information...\n",
      "Cross-encoder reranking...\n",
      "Successfully reranked 10 documents\n",
      "Retrieving\n",
      "Reranking\n",
      "Combining and reranking all documents...\n",
      "Successfully reranked 10 combined documents\n",
      "Generating integrated response...\n"
     ]
    },
    {
     "name": "stderr",
     "output_type": "stream",
     "text": [
      " 30%|██▉       | 74/250 [07:51<25:51,  8.82s/it]"
     ]
    },
    {
     "name": "stdout",
     "output_type": "stream",
     "text": [
      "🍩 https://wandb.ai/s-kishore/sft_dataset_creation/r/call/01941504-6043-7ce0-a0a5-a4d13f70f8fe\n",
      "Processing query: Does one need to take certain courses prior to engaging in Natural Language Processing?\n",
      "Retrieving course information and reviews...\n",
      "Processing query: Does one need to take certain courses prior to engaging in Natural Language Processing?\n",
      "Retrieving relevant course information...\n",
      "Cross-encoder reranking...\n",
      "Successfully reranked 10 documents\n",
      "Retrieving\n",
      "Reranking\n",
      "Combining and reranking all documents...\n",
      "Successfully reranked 10 combined documents\n",
      "Generating integrated response...\n"
     ]
    },
    {
     "name": "stderr",
     "output_type": "stream",
     "text": [
      " 30%|███       | 75/250 [07:56<22:25,  7.69s/it]"
     ]
    },
    {
     "name": "stdout",
     "output_type": "stream",
     "text": [
      "🍩 https://wandb.ai/s-kishore/sft_dataset_creation/r/call/01941504-7a0c-7010-af65-dbda849fd0a8\n",
      "Processing query: Can you tell me which subjects Professor Lauren Rosenberg is instructing?\n",
      "Retrieving course information and reviews...\n",
      "Processing query: Can you tell me which subjects Professor Lauren Rosenberg is instructing?\n",
      "Retrieving relevant course information...\n",
      "Cross-encoder reranking...\n",
      "Successfully reranked 10 documents\n",
      "Retrieving\n",
      "Reranking\n",
      "Combining and reranking all documents...\n",
      "Successfully reranked 10 combined documents\n",
      "Generating integrated response...\n"
     ]
    },
    {
     "name": "stderr",
     "output_type": "stream",
     "text": [
      " 30%|███       | 76/250 [08:00<19:03,  6.57s/it]"
     ]
    },
    {
     "name": "stdout",
     "output_type": "stream",
     "text": [
      "🍩 https://wandb.ai/s-kishore/sft_dataset_creation/r/call/01941504-8dca-7e83-b9e2-268d1cb97711\n",
      "Processing query: Based on customer comments, how would you rate the Computer Systems course?\n",
      "Retrieving course information and reviews...\n",
      "Processing query: Based on customer comments, how would you rate the Computer Systems course?\n",
      "Retrieving relevant course information...\n",
      "Cross-encoder reranking...\n",
      "Successfully reranked 10 documents\n",
      "Retrieving\n",
      "Reranking\n",
      "Combining and reranking all documents...\n",
      "Successfully reranked 10 combined documents\n",
      "Generating integrated response...\n"
     ]
    },
    {
     "name": "stderr",
     "output_type": "stream",
     "text": [
      " 31%|███       | 77/250 [08:06<18:34,  6.44s/it]"
     ]
    },
    {
     "name": "stdout",
     "output_type": "stream",
     "text": [
      "🍩 https://wandb.ai/s-kishore/sft_dataset_creation/r/call/01941504-9d46-71e2-9461-63dfb59f7afc\n",
      "Processing query: In which course is the Compilers instructor currently teaching?\n",
      "Retrieving course information and reviews...\n",
      "Processing query: In which course is the Compilers instructor currently teaching?\n",
      "Retrieving relevant course information...\n",
      "Cross-encoder reranking...\n",
      "Successfully reranked 10 documents\n",
      "Retrieving\n",
      "Reranking\n",
      "Combining and reranking all documents...\n",
      "Successfully reranked 10 combined documents\n",
      "Generating integrated response...\n"
     ]
    },
    {
     "name": "stderr",
     "output_type": "stream",
     "text": [
      " 31%|███       | 78/250 [08:10<16:24,  5.72s/it]"
     ]
    },
    {
     "name": "stdout",
     "output_type": "stream",
     "text": [
      "🍩 https://wandb.ai/s-kishore/sft_dataset_creation/r/call/01941504-b546-7c42-b367-912f3f7bd3c0\n",
      "Processing query: Can you share your observations on Professor Li, Tianshi's grading practices?\n",
      "Retrieving course information and reviews...\n",
      "Processing query: Can you share your observations on Professor Li, Tianshi's grading practices?\n",
      "Retrieving relevant course information...\n",
      "Cross-encoder reranking...\n",
      "Successfully reranked 10 documents\n",
      "Retrieving\n",
      "Reranking\n",
      "Combining and reranking all documents...\n",
      "Successfully reranked 10 combined documents\n",
      "Generating integrated response...\n"
     ]
    },
    {
     "name": "stderr",
     "output_type": "stream",
     "text": [
      " 32%|███▏      | 79/250 [08:15<15:26,  5.42s/it]"
     ]
    },
    {
     "name": "stdout",
     "output_type": "stream",
     "text": [
      "🍩 https://wandb.ai/s-kishore/sft_dataset_creation/r/call/01941504-c50c-7942-8392-2831fd095b38\n",
      "Processing query: Before tackling Algorithms, are there any compulsory prerequisites I need to know?\n",
      "Retrieving course information and reviews...\n",
      "Processing query: Before tackling Algorithms, are there any compulsory prerequisites I need to know?\n",
      "Retrieving relevant course information...\n",
      "Cross-encoder reranking...\n",
      "Successfully reranked 10 documents\n",
      "Retrieving\n",
      "Reranking\n",
      "Combining and reranking all documents...\n",
      "Successfully reranked 10 combined documents\n",
      "Generating integrated response...\n"
     ]
    },
    {
     "name": "stderr",
     "output_type": "stream",
     "text": [
      " 32%|███▏      | 80/250 [08:18<13:40,  4.83s/it]"
     ]
    },
    {
     "name": "stdout",
     "output_type": "stream",
     "text": [
      "🍩 https://wandb.ai/s-kishore/sft_dataset_creation/r/call/01941504-d76a-74f1-8deb-31752da42f6a\n",
      "Processing query: What challenges do you anticipate encountering during the Data Mining Techniques course?\n",
      "Retrieving course information and reviews...\n",
      "Processing query: What challenges do you anticipate encountering during the Data Mining Techniques course?\n",
      "Retrieving relevant course information...\n",
      "Cross-encoder reranking...\n",
      "Successfully reranked 10 documents\n",
      "Retrieving\n",
      "Reranking\n",
      "Combining and reranking all documents...\n",
      "Successfully reranked 10 combined documents\n",
      "Generating integrated response...\n"
     ]
    },
    {
     "name": "stderr",
     "output_type": "stream",
     "text": [
      " 32%|███▏      | 81/250 [08:25<15:45,  5.59s/it]"
     ]
    },
    {
     "name": "stdout",
     "output_type": "stream",
     "text": [
      "🍩 https://wandb.ai/s-kishore/sft_dataset_creation/r/call/01941504-e4e2-7f51-973b-ed424a6af15a\n",
      "Processing query: I would like to know about the courses offered by Professor Miguel Fuentes-Cabrera.\n",
      "Retrieving course information and reviews...\n",
      "Processing query: I would like to know about the courses offered by Professor Miguel Fuentes-Cabrera.\n",
      "Retrieving relevant course information...\n",
      "Cross-encoder reranking...\n",
      "Successfully reranked 10 documents\n",
      "Retrieving\n",
      "Reranking\n",
      "Combining and reranking all documents...\n",
      "Successfully reranked 10 combined documents\n",
      "Generating integrated response...\n"
     ]
    },
    {
     "name": "stderr",
     "output_type": "stream",
     "text": [
      " 33%|███▎      | 82/250 [08:33<17:31,  6.26s/it]"
     ]
    },
    {
     "name": "stdout",
     "output_type": "stream",
     "text": [
      "🍩 https://wandb.ai/s-kishore/sft_dataset_creation/r/call/01941505-01bc-7273-9743-ae41ede4400c\n",
      "Processing query: Could you provide a list of the classes taught by Professor Zhang, Hongyang?\n",
      "Retrieving course information and reviews...\n",
      "Processing query: Could you provide a list of the classes taught by Professor Zhang, Hongyang?\n",
      "Retrieving relevant course information...\n",
      "Cross-encoder reranking...\n",
      "Successfully reranked 10 documents\n",
      "Retrieving\n",
      "Reranking\n",
      "Combining and reranking all documents...\n",
      "Successfully reranked 10 combined documents\n",
      "Generating integrated response...\n"
     ]
    },
    {
     "name": "stderr",
     "output_type": "stream",
     "text": [
      " 33%|███▎      | 83/250 [08:42<19:39,  7.06s/it]"
     ]
    },
    {
     "name": "stdout",
     "output_type": "stream",
     "text": [
      "🍩 https://wandb.ai/s-kishore/sft_dataset_creation/r/call/01941505-2044-7b91-8882-038e5f401d9c\n",
      "Processing query: What courses are assigned to Professor Keith Bagley for teaching?\n",
      "Retrieving course information and reviews...\n",
      "Processing query: What courses are assigned to Professor Keith Bagley for teaching?\n",
      "Retrieving relevant course information...\n",
      "Cross-encoder reranking...\n",
      "Successfully reranked 10 documents\n",
      "Retrieving\n",
      "Reranking\n",
      "Combining and reranking all documents...\n",
      "Successfully reranked 10 combined documents\n",
      "Generating integrated response...\n"
     ]
    },
    {
     "name": "stderr",
     "output_type": "stream",
     "text": [
      " 34%|███▎      | 84/250 [08:49<19:20,  6.99s/it]"
     ]
    },
    {
     "name": "stdout",
     "output_type": "stream",
     "text": [
      "🍩 https://wandb.ai/s-kishore/sft_dataset_creation/r/call/01941505-432e-70e0-bba6-1ee233775dbb\n",
      "Processing query: What academic programs does Professor Jesse Stern lead?\n",
      "Retrieving course information and reviews...\n",
      "Processing query: What academic programs does Professor Jesse Stern lead?\n",
      "Retrieving relevant course information...\n",
      "Cross-encoder reranking...\n",
      "Successfully reranked 10 documents\n",
      "Retrieving\n",
      "Reranking\n",
      "Combining and reranking all documents...\n",
      "Successfully reranked 10 combined documents\n",
      "Generating integrated response...\n"
     ]
    },
    {
     "name": "stderr",
     "output_type": "stream",
     "text": [
      " 34%|███▍      | 85/250 [08:54<17:15,  6.27s/it]"
     ]
    },
    {
     "name": "stdout",
     "output_type": "stream",
     "text": [
      "🍩 https://wandb.ai/s-kishore/sft_dataset_creation/r/call/01941505-5ddb-70a1-a155-9122a80bfe34\n",
      "Processing query: In what manner does Professor Behnezhad, Soheil evaluate student performance?\n",
      "Retrieving course information and reviews...\n",
      "Processing query: In what manner does Professor Behnezhad, Soheil evaluate student performance?\n",
      "Retrieving relevant course information...\n",
      "Cross-encoder reranking...\n",
      "Successfully reranked 10 documents\n",
      "Retrieving\n",
      "Reranking\n",
      "Combining and reranking all documents...\n",
      "Successfully reranked 10 combined documents\n",
      "Generating integrated response...\n"
     ]
    },
    {
     "name": "stderr",
     "output_type": "stream",
     "text": [
      " 34%|███▍      | 86/250 [08:58<15:15,  5.58s/it]"
     ]
    },
    {
     "name": "stdout",
     "output_type": "stream",
     "text": [
      "🍩 https://wandb.ai/s-kishore/sft_dataset_creation/r/call/01941505-6fce-7311-aba6-bb33a04ac436\n",
      "Processing query: Could you give me a list of the courses taught by Professor Jeongkyu Lee?\n",
      "Retrieving course information and reviews...\n",
      "Processing query: Could you give me a list of the courses taught by Professor Jeongkyu Lee?\n",
      "Retrieving relevant course information...\n",
      "Cross-encoder reranking...\n",
      "Successfully reranked 10 documents\n",
      "Retrieving\n",
      "Reranking\n",
      "Combining and reranking all documents...\n",
      "Successfully reranked 10 combined documents\n",
      "Generating integrated response...\n"
     ]
    },
    {
     "name": "stderr",
     "output_type": "stream",
     "text": [
      " 35%|███▍      | 87/250 [09:01<13:35,  5.00s/it]"
     ]
    },
    {
     "name": "stdout",
     "output_type": "stream",
     "text": [
      "🍩 https://wandb.ai/s-kishore/sft_dataset_creation/r/call/01941505-7f47-7061-b75a-f7a432064a21\n",
      "Processing query: Is there any information about the 'Discrete Structures' course's past offerings and student reviews?\n",
      "Retrieving course information and reviews...\n",
      "Processing query: Is there any information about the 'Discrete Structures' course's past offerings and student reviews?\n",
      "Retrieving relevant course information...\n",
      "Cross-encoder reranking...\n",
      "Successfully reranked 10 documents\n",
      "Retrieving\n",
      "Reranking\n",
      "Combining and reranking all documents...\n",
      "Successfully reranked 10 combined documents\n",
      "Generating integrated response...\n"
     ]
    },
    {
     "name": "stderr",
     "output_type": "stream",
     "text": [
      " 35%|███▌      | 88/250 [09:09<15:21,  5.69s/it]"
     ]
    },
    {
     "name": "stdout",
     "output_type": "stream",
     "text": [
      "🍩 https://wandb.ai/s-kishore/sft_dataset_creation/r/call/01941505-8d8a-7d22-bf23-75a39ba1182f\n",
      "Processing query: What grading standards does Professor Bau, David adhere to when evaluating student work?\n",
      "Retrieving course information and reviews...\n",
      "Processing query: What grading standards does Professor Bau, David adhere to when evaluating student work?\n",
      "Retrieving relevant course information...\n",
      "Cross-encoder reranking...\n",
      "Successfully reranked 10 documents\n",
      "Retrieving\n",
      "Reranking\n",
      "Combining and reranking all documents...\n",
      "Successfully reranked 10 combined documents\n",
      "Generating integrated response...\n"
     ]
    },
    {
     "name": "stderr",
     "output_type": "stream",
     "text": [
      " 36%|███▌      | 89/250 [09:14<14:50,  5.53s/it]"
     ]
    },
    {
     "name": "stdout",
     "output_type": "stream",
     "text": [
      "🍩 https://wandb.ai/s-kishore/sft_dataset_creation/r/call/01941505-aa06-75e0-9f3e-e7e18338b9de\n",
      "Processing query: Can you tell me about the class periods for the Reinforcement Learning course?\n",
      "Retrieving course information and reviews...\n",
      "Processing query: Can you tell me about the class periods for the Reinforcement Learning course?\n",
      "Retrieving relevant course information...\n",
      "Cross-encoder reranking...\n",
      "Successfully reranked 10 documents\n",
      "Retrieving\n",
      "Reranking\n",
      "Combining and reranking all documents...\n",
      "Successfully reranked 10 combined documents\n",
      "Generating integrated response...\n"
     ]
    },
    {
     "name": "stderr",
     "output_type": "stream",
     "text": [
      " 36%|███▌      | 90/250 [09:21<15:44,  5.90s/it]"
     ]
    },
    {
     "name": "stdout",
     "output_type": "stream",
     "text": [
      "🍩 https://wandb.ai/s-kishore/sft_dataset_creation/r/call/01941505-be31-7b82-aa87-cea59d74eb1a\n",
      "Processing query: In your opinion, how hard is the Natural Language Processing course?\n",
      "Retrieving course information and reviews...\n",
      "Processing query: In your opinion, how hard is the Natural Language Processing course?\n",
      "Retrieving relevant course information...\n",
      "Cross-encoder reranking...\n",
      "Successfully reranked 10 documents\n",
      "Retrieving\n",
      "Reranking\n",
      "Combining and reranking all documents...\n",
      "Successfully reranked 10 combined documents\n",
      "Generating integrated response...\n"
     ]
    },
    {
     "name": "stderr",
     "output_type": "stream",
     "text": [
      " 36%|███▋      | 91/250 [09:26<15:00,  5.67s/it]"
     ]
    },
    {
     "name": "stdout",
     "output_type": "stream",
     "text": [
      "🍩 https://wandb.ai/s-kishore/sft_dataset_creation/r/call/01941505-d8a3-70f2-b114-238679610506\n",
      "Processing query: In your opinion, how arduous would one find the 'Fundamentals of Cloud Computing' course to undertake?\n",
      "Retrieving course information and reviews...\n",
      "Processing query: In your opinion, how arduous would one find the 'Fundamentals of Cloud Computing' course to undertake?\n",
      "Retrieving relevant course information...\n",
      "Cross-encoder reranking...\n",
      "Successfully reranked 10 documents\n",
      "Retrieving\n",
      "Reranking\n",
      "Combining and reranking all documents...\n",
      "Successfully reranked 10 combined documents\n",
      "Generating integrated response...\n"
     ]
    },
    {
     "name": "stderr",
     "output_type": "stream",
     "text": [
      " 37%|███▋      | 92/250 [09:34<16:57,  6.44s/it]"
     ]
    },
    {
     "name": "stdout",
     "output_type": "stream",
     "text": [
      "🍩 https://wandb.ai/s-kishore/sft_dataset_creation/r/call/01941505-ec9e-7840-97a9-cc72f7cdfef3\n",
      "Processing query: Could you provide insight into the difficulty of the Computer Systems course?\n",
      "Retrieving course information and reviews...\n",
      "Processing query: Could you provide insight into the difficulty of the Computer Systems course?\n",
      "Retrieving relevant course information...\n",
      "Cross-encoder reranking...\n",
      "Successfully reranked 10 documents\n",
      "Retrieving\n",
      "Reranking\n",
      "Combining and reranking all documents...\n",
      "Successfully reranked 10 combined documents\n",
      "Generating integrated response...\n"
     ]
    },
    {
     "name": "stderr",
     "output_type": "stream",
     "text": [
      " 37%|███▋      | 93/250 [09:42<17:47,  6.80s/it]"
     ]
    },
    {
     "name": "stdout",
     "output_type": "stream",
     "text": [
      "🍩 https://wandb.ai/s-kishore/sft_dataset_creation/r/call/01941506-0cdd-7252-af7d-148b114152e6\n",
      "Processing query: What impression does the Natural Language Processing course leave based on the reviews?\n",
      "Retrieving course information and reviews...\n",
      "Processing query: What impression does the Natural Language Processing course leave based on the reviews?\n",
      "Retrieving relevant course information...\n",
      "Cross-encoder reranking...\n",
      "Successfully reranked 10 documents\n",
      "Retrieving\n",
      "Reranking\n",
      "Combining and reranking all documents...\n",
      "Successfully reranked 10 combined documents\n",
      "Generating integrated response...\n"
     ]
    },
    {
     "name": "stderr",
     "output_type": "stream",
     "text": [
      " 38%|███▊      | 94/250 [09:48<17:46,  6.84s/it]"
     ]
    },
    {
     "name": "stdout",
     "output_type": "stream",
     "text": [
      "🍩 https://wandb.ai/s-kishore/sft_dataset_creation/r/call/01941506-2ab0-7b00-b38f-61e225b136d9\n",
      "Processing query: Could you provide information on the courses taught by Professor Alikhani, Malihe?\n",
      "Retrieving course information and reviews...\n",
      "Processing query: Could you provide information on the courses taught by Professor Alikhani, Malihe?\n",
      "Retrieving relevant course information...\n",
      "Cross-encoder reranking...\n",
      "Successfully reranked 10 documents\n",
      "Retrieving\n",
      "Reranking\n",
      "Combining and reranking all documents...\n",
      "Successfully reranked 10 combined documents\n",
      "Generating integrated response...\n"
     ]
    },
    {
     "name": "stderr",
     "output_type": "stream",
     "text": [
      " 38%|███▊      | 95/250 [09:59<20:48,  8.05s/it]"
     ]
    },
    {
     "name": "stdout",
     "output_type": "stream",
     "text": [
      "🍩 https://wandb.ai/s-kishore/sft_dataset_creation/r/call/01941506-45c0-7873-bd69-bd4dba8f124c\n",
      "Processing query: Spring 2025: Which courses will be part of the curriculum?\n",
      "Retrieving course information and reviews...\n",
      "Processing query: Spring 2025: Which courses will be part of the curriculum?\n",
      "Retrieving relevant course information...\n",
      "Cross-encoder reranking...\n",
      "Successfully reranked 10 documents\n",
      "Retrieving\n",
      "Reranking\n",
      "Combining and reranking all documents...\n",
      "Successfully reranked 10 combined documents\n",
      "Generating integrated response...\n"
     ]
    },
    {
     "name": "stderr",
     "output_type": "stream",
     "text": [
      " 38%|███▊      | 96/250 [10:12<23:56,  9.33s/it]"
     ]
    },
    {
     "name": "stdout",
     "output_type": "stream",
     "text": [
      "🍩 https://wandb.ai/s-kishore/sft_dataset_creation/r/call/01941506-7043-7ee1-81a7-50f7df0cbb27\n",
      "Processing query: Which teacher is assigned to lead the discussion sessions for Reinforcement Learning?\n",
      "Retrieving course information and reviews...\n",
      "Processing query: Which teacher is assigned to lead the discussion sessions for Reinforcement Learning?\n",
      "Retrieving relevant course information...\n",
      "Cross-encoder reranking...\n",
      "Successfully reranked 10 documents\n",
      "Retrieving\n",
      "Reranking\n",
      "Combining and reranking all documents...\n",
      "Successfully reranked 10 combined documents\n",
      "Generating integrated response...\n"
     ]
    },
    {
     "name": "stderr",
     "output_type": "stream",
     "text": [
      " 39%|███▉      | 97/250 [10:14<18:43,  7.35s/it]"
     ]
    },
    {
     "name": "stdout",
     "output_type": "stream",
     "text": [
      "🍩 https://wandb.ai/s-kishore/sft_dataset_creation/r/call/01941506-a058-7991-878f-17cc67b7993c\n",
      "Processing query: What does the reception of the Machine Learning course look like according to the reviews?\n",
      "Retrieving course information and reviews...\n",
      "Processing query: What does the reception of the Machine Learning course look like according to the reviews?\n",
      "Retrieving relevant course information...\n",
      "Cross-encoder reranking...\n",
      "Successfully reranked 10 documents\n",
      "Retrieving\n",
      "Reranking\n",
      "Combining and reranking all documents...\n",
      "Successfully reranked 10 combined documents\n",
      "Generating integrated response...\n"
     ]
    },
    {
     "name": "stderr",
     "output_type": "stream",
     "text": [
      " 39%|███▉      | 98/250 [10:22<18:31,  7.31s/it]"
     ]
    },
    {
     "name": "stdout",
     "output_type": "stream",
     "text": [
      "🍩 https://wandb.ai/s-kishore/sft_dataset_creation/r/call/01941506-aaf5-72c3-9e93-189acb1f4d43\n",
      "Processing query: Could you tell me about the courses taught by Professor Ali Sharifian Attar?\n",
      "Retrieving course information and reviews...\n",
      "Processing query: Could you tell me about the courses taught by Professor Ali Sharifian Attar?\n",
      "Retrieving relevant course information...\n",
      "Cross-encoder reranking...\n",
      "Successfully reranked 10 documents\n",
      "Retrieving\n",
      "Reranking\n",
      "Combining and reranking all documents...\n",
      "Successfully reranked 10 combined documents\n",
      "Generating integrated response...\n"
     ]
    },
    {
     "name": "stderr",
     "output_type": "stream",
     "text": [
      " 40%|███▉      | 99/250 [10:31<19:37,  7.80s/it]"
     ]
    },
    {
     "name": "stdout",
     "output_type": "stream",
     "text": [
      "🍩 https://wandb.ai/s-kishore/sft_dataset_creation/r/call/01941506-c730-7163-9eb8-043bb3eb7dc3\n",
      "Processing query: Based on what the students have shared, how would you rate the Mobile Application Development course?\n",
      "Retrieving course information and reviews...\n",
      "Processing query: Based on what the students have shared, how would you rate the Mobile Application Development course?\n",
      "Retrieving relevant course information...\n",
      "Cross-encoder reranking...\n",
      "Successfully reranked 10 documents\n",
      "Retrieving\n",
      "Reranking\n",
      "Combining and reranking all documents...\n",
      "Successfully reranked 10 combined documents\n",
      "Generating integrated response...\n"
     ]
    },
    {
     "name": "stderr",
     "output_type": "stream",
     "text": [
      " 40%|████      | 100/250 [10:39<19:46,  7.91s/it]"
     ]
    },
    {
     "name": "stdout",
     "output_type": "stream",
     "text": [
      "🍩 https://wandb.ai/s-kishore/sft_dataset_creation/r/call/01941506-ea23-7b11-8378-8f4edeb93f49\n",
      "Processing query: Are there any academic programs that emphasize research or seminar-style learning?\n",
      "Retrieving course information and reviews...\n",
      "Processing query: Are there any academic programs that emphasize research or seminar-style learning?\n",
      "Retrieving relevant course information...\n",
      "Cross-encoder reranking...\n",
      "Successfully reranked 10 documents\n",
      "Retrieving\n",
      "Reranking\n",
      "Combining and reranking all documents...\n",
      "Successfully reranked 10 combined documents\n",
      "Generating integrated response...\n"
     ]
    },
    {
     "name": "stderr",
     "output_type": "stream",
     "text": [
      " 40%|████      | 101/250 [10:47<20:13,  8.15s/it]"
     ]
    },
    {
     "name": "stdout",
     "output_type": "stream",
     "text": [
      "🍩 https://wandb.ai/s-kishore/sft_dataset_creation/r/call/01941507-0a03-7d91-a162-cfd9369bdc80\n",
      "Processing query: In your experience, how fair is Professor Bockmon's grading system?\n",
      "Retrieving course information and reviews...\n",
      "Processing query: In your experience, how fair is Professor Bockmon's grading system?\n",
      "Retrieving relevant course information...\n",
      "Cross-encoder reranking...\n",
      "Successfully reranked 10 documents\n",
      "Retrieving\n",
      "Reranking\n",
      "Combining and reranking all documents...\n",
      "Successfully reranked 10 combined documents\n",
      "Generating integrated response...\n"
     ]
    },
    {
     "name": "stderr",
     "output_type": "stream",
     "text": [
      " 41%|████      | 102/250 [10:52<17:35,  7.13s/it]"
     ]
    },
    {
     "name": "stdout",
     "output_type": "stream",
     "text": [
      "🍩 https://wandb.ai/s-kishore/sft_dataset_creation/r/call/01941507-2bfe-7c00-b229-4d89d4eb03d3\n",
      "Processing query: Which courses does Professor Michael Ballantyne include in his syllabus?\n",
      "Retrieving course information and reviews...\n",
      "Processing query: Which courses does Professor Michael Ballantyne include in his syllabus?\n",
      "Retrieving relevant course information...\n",
      "Cross-encoder reranking...\n",
      "Successfully reranked 10 documents\n",
      "Retrieving\n",
      "Reranking\n",
      "Combining and reranking all documents...\n",
      "Successfully reranked 10 combined documents\n",
      "Generating integrated response...\n"
     ]
    },
    {
     "name": "stderr",
     "output_type": "stream",
     "text": [
      " 41%|████      | 103/250 [11:02<19:38,  8.02s/it]"
     ]
    },
    {
     "name": "stdout",
     "output_type": "stream",
     "text": [
      "🍩 https://wandb.ai/s-kishore/sft_dataset_creation/r/call/01941507-3e9a-7e93-ab43-f5416d9bbb9e\n",
      "Processing query: Can you share your thoughts on how Professor Rosen, David handles grading assignments?\n",
      "Retrieving course information and reviews...\n",
      "Processing query: Can you share your thoughts on how Professor Rosen, David handles grading assignments?\n",
      "Retrieving relevant course information...\n",
      "Cross-encoder reranking...\n",
      "Successfully reranked 10 documents\n",
      "Retrieving\n",
      "Reranking\n",
      "Combining and reranking all documents...\n",
      "Successfully reranked 10 combined documents\n",
      "Generating integrated response...\n"
     ]
    },
    {
     "name": "stderr",
     "output_type": "stream",
     "text": [
      " 42%|████▏     | 104/250 [11:06<16:25,  6.75s/it]"
     ]
    },
    {
     "name": "stdout",
     "output_type": "stream",
     "text": [
      "🍩 https://wandb.ai/s-kishore/sft_dataset_creation/r/call/01941507-65fe-7343-a41b-e569181a08b3\n",
      "Processing query: Could you inform me about the foundational courses needed before enrolling in Computer Systems?\n",
      "Retrieving course information and reviews...\n",
      "Processing query: Could you inform me about the foundational courses needed before enrolling in Computer Systems?\n",
      "Retrieving relevant course information...\n",
      "Cross-encoder reranking...\n",
      "Successfully reranked 10 documents\n",
      "Retrieving\n",
      "Reranking\n",
      "Combining and reranking all documents...\n",
      "Successfully reranked 10 combined documents\n",
      "Generating integrated response...\n"
     ]
    },
    {
     "name": "stderr",
     "output_type": "stream",
     "text": [
      " 42%|████▏     | 105/250 [11:10<14:24,  5.96s/it]"
     ]
    },
    {
     "name": "stdout",
     "output_type": "stream",
     "text": [
      "🍩 https://wandb.ai/s-kishore/sft_dataset_creation/r/call/01941507-74d5-7cd2-b799-dfd69adee81a\n",
      "Processing query: Could you describe the grading standards followed by Professor Padilla, Lace?\n",
      "Retrieving course information and reviews...\n",
      "Processing query: Could you describe the grading standards followed by Professor Padilla, Lace?\n",
      "Retrieving relevant course information...\n",
      "Cross-encoder reranking...\n",
      "Successfully reranked 10 documents\n",
      "Retrieving\n",
      "Reranking\n",
      "Combining and reranking all documents...\n",
      "Successfully reranked 10 combined documents\n",
      "Generating integrated response...\n"
     ]
    },
    {
     "name": "stderr",
     "output_type": "stream",
     "text": [
      " 42%|████▏     | 106/250 [11:16<14:26,  6.02s/it]"
     ]
    },
    {
     "name": "stdout",
     "output_type": "stream",
     "text": [
      "🍩 https://wandb.ai/s-kishore/sft_dataset_creation/r/call/01941507-84f0-7a23-ba7d-f0e042ff5634\n",
      "Processing query: Could you share the course offerings of Professor Ithier and Carter?\n",
      "Retrieving course information and reviews...\n",
      "Processing query: Could you share the course offerings of Professor Ithier and Carter?\n",
      "Retrieving relevant course information...\n",
      "Cross-encoder reranking...\n",
      "Successfully reranked 10 documents\n",
      "Retrieving\n",
      "Reranking\n",
      "Combining and reranking all documents...\n",
      "Successfully reranked 10 combined documents\n",
      "Generating integrated response...\n"
     ]
    },
    {
     "name": "stderr",
     "output_type": "stream",
     "text": [
      " 43%|████▎     | 107/250 [11:33<22:19,  9.37s/it]"
     ]
    },
    {
     "name": "stdout",
     "output_type": "stream",
     "text": [
      "🍩 https://wandb.ai/s-kishore/sft_dataset_creation/r/call/01941507-9cf3-7fc3-8abd-08fbc7444a89\n",
      "Processing query: What level of difficulty does the Natural Language Processing course present?\n",
      "Retrieving course information and reviews...\n",
      "Processing query: What level of difficulty does the Natural Language Processing course present?\n",
      "Retrieving relevant course information...\n",
      "Cross-encoder reranking...\n",
      "Successfully reranked 10 documents\n",
      "Retrieving\n",
      "Reranking\n",
      "Combining and reranking all documents...\n",
      "Successfully reranked 10 combined documents\n",
      "Generating integrated response...\n"
     ]
    },
    {
     "name": "stderr",
     "output_type": "stream",
     "text": [
      " 43%|████▎     | 108/250 [11:38<18:26,  7.79s/it]"
     ]
    },
    {
     "name": "stdout",
     "output_type": "stream",
     "text": [
      "🍩 https://wandb.ai/s-kishore/sft_dataset_creation/r/call/01941507-e015-7c70-b223-32fbd53c5a71\n",
      "Processing query: Could you tell me about Professor Shesh, Amit's grading standards?\n",
      "Retrieving course information and reviews...\n",
      "Processing query: Could you tell me about Professor Shesh, Amit's grading standards?\n",
      "Retrieving relevant course information...\n",
      "Cross-encoder reranking...\n",
      "Successfully reranked 10 documents\n",
      "Retrieving\n",
      "Reranking\n",
      "Combining and reranking all documents...\n",
      "Successfully reranked 10 combined documents\n",
      "Generating integrated response...\n"
     ]
    },
    {
     "name": "stderr",
     "output_type": "stream",
     "text": [
      " 44%|████▎     | 109/250 [11:42<15:49,  6.73s/it]"
     ]
    },
    {
     "name": "stdout",
     "output_type": "stream",
     "text": [
      "🍩 https://wandb.ai/s-kishore/sft_dataset_creation/r/call/01941507-f01e-7991-ad71-ae3776c4b92d\n",
      "Processing query: Could you provide a list of Deep Learning-related courses?\n",
      "Retrieving course information and reviews...\n",
      "Processing query: Could you provide a list of Deep Learning-related courses?\n",
      "Retrieving relevant course information...\n",
      "Cross-encoder reranking...\n",
      "Successfully reranked 10 documents\n",
      "Retrieving\n",
      "Reranking\n",
      "Combining and reranking all documents...\n",
      "Successfully reranked 10 combined documents\n",
      "Generating integrated response...\n"
     ]
    },
    {
     "name": "stderr",
     "output_type": "stream",
     "text": [
      " 44%|████▍     | 110/250 [11:52<17:50,  7.65s/it]"
     ]
    },
    {
     "name": "stdout",
     "output_type": "stream",
     "text": [
      "🍩 https://wandb.ai/s-kishore/sft_dataset_creation/r/call/01941508-00c5-7cb2-8488-5cc7f081f35d\n",
      "Processing query: What do you understand by Professor LANCEWICKI, TOMER's grading philosophy?\n",
      "Retrieving course information and reviews...\n",
      "Processing query: What do you understand by Professor LANCEWICKI, TOMER's grading philosophy?\n",
      "Retrieving relevant course information...\n",
      "Cross-encoder reranking...\n",
      "Successfully reranked 10 documents\n",
      "Retrieving\n",
      "Reranking\n",
      "Combining and reranking all documents...\n",
      "Successfully reranked 10 combined documents\n",
      "Generating integrated response...\n"
     ]
    },
    {
     "name": "stderr",
     "output_type": "stream",
     "text": [
      " 44%|████▍     | 111/250 [11:55<14:42,  6.35s/it]"
     ]
    },
    {
     "name": "stdout",
     "output_type": "stream",
     "text": [
      "🍩 https://wandb.ai/s-kishore/sft_dataset_creation/r/call/01941508-2702-79e2-aaec-356001be170b\n",
      "Processing query: Which academic is teaching the Computer Systems course?\n",
      "Retrieving course information and reviews...\n",
      "Processing query: Which academic is teaching the Computer Systems course?\n",
      "Retrieving relevant course information...\n",
      "Cross-encoder reranking...\n",
      "Successfully reranked 10 documents\n",
      "Retrieving\n",
      "Reranking\n",
      "Combining and reranking all documents...\n",
      "Successfully reranked 10 combined documents\n",
      "Generating integrated response...\n"
     ]
    },
    {
     "name": "stderr",
     "output_type": "stream",
     "text": [
      " 45%|████▍     | 112/250 [11:57<11:37,  5.06s/it]"
     ]
    },
    {
     "name": "stdout",
     "output_type": "stream",
     "text": [
      "🍩 https://wandb.ai/s-kishore/sft_dataset_creation/r/call/01941508-33ee-7000-a7b6-e9f623844d22\n",
      "Processing query: What academic programs can I enroll in that are neither extremely tough nor incredibly easy, but still lead to good grades?\n",
      "Retrieving course information and reviews...\n",
      "Processing query: What academic programs can I enroll in that are neither extremely tough nor incredibly easy, but still lead to good grades?\n",
      "Retrieving relevant course information...\n",
      "Cross-encoder reranking...\n",
      "Successfully reranked 10 documents\n",
      "Retrieving\n",
      "Reranking\n",
      "Combining and reranking all documents...\n",
      "Successfully reranked 10 combined documents\n",
      "Generating integrated response...\n"
     ]
    },
    {
     "name": "stderr",
     "output_type": "stream",
     "text": [
      " 45%|████▌     | 113/250 [12:07<15:01,  6.58s/it]"
     ]
    },
    {
     "name": "stdout",
     "output_type": "stream",
     "text": [
      "🍩 https://wandb.ai/s-kishore/sft_dataset_creation/r/call/01941508-3bef-7c30-a3e0-2f0712078e27\n",
      "Processing query: How tough do you think the Data Mining Techniques course is to handle?\n",
      "Retrieving course information and reviews...\n",
      "Processing query: How tough do you think the Data Mining Techniques course is to handle?\n",
      "Retrieving relevant course information...\n",
      "Cross-encoder reranking...\n",
      "Successfully reranked 10 documents\n",
      "Retrieving\n",
      "Reranking\n",
      "Combining and reranking all documents...\n",
      "Successfully reranked 10 combined documents\n",
      "Generating integrated response...\n"
     ]
    },
    {
     "name": "stderr",
     "output_type": "stream",
     "text": [
      " 46%|████▌     | 114/250 [12:13<14:26,  6.37s/it]"
     ]
    },
    {
     "name": "stdout",
     "output_type": "stream",
     "text": [
      "🍩 https://wandb.ai/s-kishore/sft_dataset_creation/r/call/01941508-637f-7e13-8579-87e46cb7ec1c\n",
      "Processing query: Inquiring about the time slots for the Computer/Human Interaction course, do you have that information?\n",
      "Retrieving course information and reviews...\n",
      "Processing query: Inquiring about the time slots for the Computer/Human Interaction course, do you have that information?\n",
      "Retrieving relevant course information...\n",
      "Cross-encoder reranking...\n",
      "Successfully reranked 10 documents\n",
      "Retrieving\n",
      "Reranking\n",
      "Combining and reranking all documents...\n",
      "Successfully reranked 10 combined documents\n",
      "Generating integrated response...\n"
     ]
    },
    {
     "name": "stderr",
     "output_type": "stream",
     "text": [
      " 46%|████▌     | 115/250 [12:25<18:25,  8.19s/it]"
     ]
    },
    {
     "name": "stdout",
     "output_type": "stream",
     "text": [
      "🍩 https://wandb.ai/s-kishore/sft_dataset_creation/r/call/01941508-7a87-77b2-abd2-fc2c70d9768d\n",
      "Processing query: What aspects of Monica's work does Professor Coady consider when grading?\n",
      "Retrieving course information and reviews...\n",
      "Processing query: What aspects of Monica's work does Professor Coady consider when grading?\n",
      "Retrieving relevant course information...\n",
      "Cross-encoder reranking...\n",
      "Successfully reranked 10 documents\n",
      "Retrieving\n",
      "Reranking\n",
      "Combining and reranking all documents...\n",
      "Successfully reranked 10 combined documents\n",
      "Generating integrated response...\n"
     ]
    },
    {
     "name": "stderr",
     "output_type": "stream",
     "text": [
      " 46%|████▋     | 116/250 [12:29<15:24,  6.90s/it]"
     ]
    },
    {
     "name": "stdout",
     "output_type": "stream",
     "text": [
      "🍩 https://wandb.ai/s-kishore/sft_dataset_creation/r/call/01941508-ab13-7ac0-8707-7e889ee88792\n",
      "Processing query: Can you tell me which courses Professor Abir Saha is currently instructing?\n",
      "Retrieving course information and reviews...\n",
      "Processing query: Can you tell me which courses Professor Abir Saha is currently instructing?\n",
      "Retrieving relevant course information...\n",
      "Cross-encoder reranking...\n",
      "Successfully reranked 10 documents\n",
      "Retrieving\n",
      "Reranking\n",
      "Combining and reranking all documents...\n",
      "Successfully reranked 10 combined documents\n",
      "Generating integrated response...\n"
     ]
    },
    {
     "name": "stderr",
     "output_type": "stream",
     "text": [
      " 47%|████▋     | 117/250 [12:34<13:52,  6.26s/it]"
     ]
    },
    {
     "name": "stdout",
     "output_type": "stream",
     "text": [
      "🍩 https://wandb.ai/s-kishore/sft_dataset_creation/r/call/01941508-ba44-7fa0-9251-a7290d4eab3c\n",
      "Processing query: What professor is responsible for the Deep Learning course this year?\n",
      "Retrieving course information and reviews...\n",
      "Processing query: What professor is responsible for the Deep Learning course this year?\n",
      "Retrieving relevant course information...\n",
      "Cross-encoder reranking...\n",
      "Successfully reranked 10 documents\n",
      "Retrieving\n",
      "Reranking\n",
      "Combining and reranking all documents...\n",
      "Successfully reranked 10 combined documents\n",
      "Generating integrated response...\n"
     ]
    },
    {
     "name": "stderr",
     "output_type": "stream",
     "text": [
      " 47%|████▋     | 118/250 [12:38<12:15,  5.57s/it]"
     ]
    },
    {
     "name": "stdout",
     "output_type": "stream",
     "text": [
      "🍩 https://wandb.ai/s-kishore/sft_dataset_creation/r/call/01941508-ccec-73a3-8c30-ea19a497168c\n",
      "Processing query: Could you provide the schedule for the Data Mining Techniques course?\n",
      "Retrieving course information and reviews...\n",
      "Processing query: Could you provide the schedule for the Data Mining Techniques course?\n",
      "Retrieving relevant course information...\n",
      "Cross-encoder reranking...\n",
      "Successfully reranked 10 documents\n",
      "Retrieving\n",
      "Reranking\n",
      "Combining and reranking all documents...\n",
      "Successfully reranked 10 combined documents\n",
      "Generating integrated response...\n"
     ]
    },
    {
     "name": "stderr",
     "output_type": "stream",
     "text": [
      " 48%|████▊     | 119/250 [12:44<12:20,  5.65s/it]"
     ]
    },
    {
     "name": "stdout",
     "output_type": "stream",
     "text": [
      "🍩 https://wandb.ai/s-kishore/sft_dataset_creation/r/call/01941508-dc64-7211-8b3d-a8695dfbdddf\n",
      "Processing query: What does the information from the reviews tell us about the Discrete Structures course?\n",
      "Retrieving course information and reviews...\n",
      "Processing query: What does the information from the reviews tell us about the Discrete Structures course?\n",
      "Retrieving relevant course information...\n",
      "Cross-encoder reranking...\n",
      "Successfully reranked 10 documents\n",
      "Retrieving\n",
      "Reranking\n",
      "Combining and reranking all documents...\n",
      "Successfully reranked 10 combined documents\n",
      "Generating integrated response...\n"
     ]
    },
    {
     "name": "stderr",
     "output_type": "stream",
     "text": [
      " 48%|████▊     | 120/250 [12:54<15:25,  7.12s/it]"
     ]
    },
    {
     "name": "stdout",
     "output_type": "stream",
     "text": [
      "🍩 https://wandb.ai/s-kishore/sft_dataset_creation/r/call/01941508-f336-7c81-8104-124aadd38f9e\n",
      "Processing query: Can you describe Professor Zhang, Hongyang's grading process and standards?\n",
      "Retrieving course information and reviews...\n",
      "Processing query: Can you describe Professor Zhang, Hongyang's grading process and standards?\n",
      "Retrieving relevant course information...\n",
      "Cross-encoder reranking...\n",
      "Successfully reranked 10 documents\n",
      "Retrieving\n",
      "Reranking\n",
      "Combining and reranking all documents...\n",
      "Successfully reranked 10 combined documents\n",
      "Generating integrated response...\n"
     ]
    },
    {
     "name": "stderr",
     "output_type": "stream",
     "text": [
      " 48%|████▊     | 121/250 [12:59<13:43,  6.38s/it]"
     ]
    },
    {
     "name": "stdout",
     "output_type": "stream",
     "text": [
      "🍩 https://wandb.ai/s-kishore/sft_dataset_creation/r/call/01941509-1c68-7d41-9d7c-e3ff6c0b5e78\n",
      "Processing query: Could you provide insights into the reception of the Deep Learning course as reflected in the reviews?\n",
      "Retrieving course information and reviews...\n",
      "Processing query: Could you provide insights into the reception of the Deep Learning course as reflected in the reviews?\n",
      "Retrieving relevant course information...\n",
      "Cross-encoder reranking...\n",
      "Successfully reranked 10 documents\n",
      "Retrieving\n",
      "Reranking\n",
      "Combining and reranking all documents...\n",
      "Successfully reranked 10 combined documents\n",
      "Generating integrated response...\n"
     ]
    },
    {
     "name": "stderr",
     "output_type": "stream",
     "text": [
      " 49%|████▉     | 122/250 [13:08<14:55,  7.00s/it]"
     ]
    },
    {
     "name": "stdout",
     "output_type": "stream",
     "text": [
      "🍩 https://wandb.ai/s-kishore/sft_dataset_creation/r/call/01941509-2e98-7973-b351-f7b161bfd004\n",
      "Processing query: How subjective or objective is Professor Bagley, Keith when grading assignments?\n",
      "Retrieving course information and reviews...\n",
      "Processing query: How subjective or objective is Professor Bagley, Keith when grading assignments?\n",
      "Retrieving relevant course information...\n",
      "Cross-encoder reranking...\n",
      "Successfully reranked 10 documents\n",
      "Retrieving\n",
      "Reranking\n",
      "Combining and reranking all documents...\n",
      "Successfully reranked 10 combined documents\n",
      "Generating integrated response...\n"
     ]
    },
    {
     "name": "stderr",
     "output_type": "stream",
     "text": [
      " 49%|████▉     | 123/250 [13:12<13:17,  6.28s/it]"
     ]
    },
    {
     "name": "stdout",
     "output_type": "stream",
     "text": [
      "🍩 https://wandb.ai/s-kishore/sft_dataset_creation/r/call/01941509-4f84-7bb2-b61f-a8715c0a0c64\n",
      "Processing query: Could you provide information on the courses taught by Professor Jiang, Huaizu?\n",
      "Retrieving course information and reviews...\n",
      "Processing query: Could you provide information on the courses taught by Professor Jiang, Huaizu?\n",
      "Retrieving relevant course information...\n",
      "Cross-encoder reranking...\n",
      "Successfully reranked 10 documents\n",
      "Retrieving\n",
      "Reranking\n",
      "Combining and reranking all documents...\n",
      "Successfully reranked 10 combined documents\n",
      "Generating integrated response...\n"
     ]
    },
    {
     "name": "stderr",
     "output_type": "stream",
     "text": [
      " 50%|████▉     | 124/250 [13:21<14:31,  6.92s/it]"
     ]
    },
    {
     "name": "stdout",
     "output_type": "stream",
     "text": [
      "🍩 https://wandb.ai/s-kishore/sft_dataset_creation/r/call/01941509-617d-7d03-8566-ac7d33f19835\n",
      "Processing query: Professor Keith Bagley, could you list the courses you're teaching this semester?\n",
      "Retrieving course information and reviews...\n",
      "Processing query: Professor Keith Bagley, could you list the courses you're teaching this semester?\n",
      "Retrieving relevant course information...\n",
      "Cross-encoder reranking...\n",
      "Successfully reranked 10 documents\n",
      "Retrieving\n",
      "Reranking\n",
      "Combining and reranking all documents...\n",
      "Successfully reranked 10 combined documents\n",
      "Generating integrated response...\n"
     ]
    },
    {
     "name": "stderr",
     "output_type": "stream",
     "text": [
      " 50%|█████     | 125/250 [13:26<13:47,  6.62s/it]"
     ]
    },
    {
     "name": "stdout",
     "output_type": "stream",
     "text": [
      "🍩 https://wandb.ai/s-kishore/sft_dataset_creation/r/call/01941509-8255-7531-9073-2530a3a09f10\n",
      "Processing query: Could you provide me with the schedule for the Foundations of Artificial Intelligence course?\n",
      "Retrieving course information and reviews...\n",
      "Processing query: Could you provide me with the schedule for the Foundations of Artificial Intelligence course?\n",
      "Retrieving relevant course information...\n",
      "Cross-encoder reranking...\n",
      "Successfully reranked 10 documents\n",
      "Retrieving\n",
      "Reranking\n",
      "Combining and reranking all documents...\n",
      "Successfully reranked 10 combined documents\n",
      "Generating integrated response...\n"
     ]
    },
    {
     "name": "stderr",
     "output_type": "stream",
     "text": [
      " 50%|█████     | 126/250 [13:44<20:10,  9.76s/it]"
     ]
    },
    {
     "name": "stdout",
     "output_type": "stream",
     "text": [
      "🍩 https://wandb.ai/s-kishore/sft_dataset_creation/r/call/01941509-9972-7761-8ba2-82481132b6d2\n",
      "Processing query: What is your assessment of Professor Rosen, David's grading criteria?\n",
      "Retrieving course information and reviews...\n",
      "Processing query: What is your assessment of Professor Rosen, David's grading criteria?\n",
      "Retrieving relevant course information...\n",
      "Cross-encoder reranking...\n",
      "Successfully reranked 10 documents\n",
      "Retrieving\n",
      "Reranking\n",
      "Combining and reranking all documents...\n",
      "Successfully reranked 10 combined documents\n",
      "Generating integrated response...\n"
     ]
    },
    {
     "name": "stderr",
     "output_type": "stream",
     "text": [
      " 51%|█████     | 127/250 [13:50<17:43,  8.65s/it]"
     ]
    },
    {
     "name": "stdout",
     "output_type": "stream",
     "text": [
      "🍩 https://wandb.ai/s-kishore/sft_dataset_creation/r/call/01941509-dc47-7b41-90db-e54219d5d46d\n",
      "Processing query: I'm curious about the curriculum that Professor Abhi Shelat is involved with. Can you give me an update?\n",
      "Retrieving course information and reviews...\n",
      "Processing query: I'm curious about the curriculum that Professor Abhi Shelat is involved with. Can you give me an update?\n",
      "Retrieving relevant course information...\n",
      "Cross-encoder reranking...\n",
      "Successfully reranked 10 documents\n",
      "Retrieving\n",
      "Reranking\n",
      "Combining and reranking all documents...\n",
      "Successfully reranked 10 combined documents\n",
      "Generating integrated response...\n"
     ]
    },
    {
     "name": "stderr",
     "output_type": "stream",
     "text": [
      " 51%|█████     | 128/250 [13:58<17:12,  8.46s/it]"
     ]
    },
    {
     "name": "stdout",
     "output_type": "stream",
     "text": [
      "🍩 https://wandb.ai/s-kishore/sft_dataset_creation/r/call/01941509-f3e1-7b43-b381-5058a5756b9f\n",
      "Processing query: What are the specific class hours for the Compilers course?\n",
      "Retrieving course information and reviews...\n",
      "Processing query: What are the specific class hours for the Compilers course?\n",
      "Retrieving relevant course information...\n",
      "Cross-encoder reranking...\n",
      "Successfully reranked 10 documents\n",
      "Retrieving\n",
      "Reranking\n",
      "Combining and reranking all documents...\n",
      "Successfully reranked 10 combined documents\n",
      "Generating integrated response...\n"
     ]
    },
    {
     "name": "stderr",
     "output_type": "stream",
     "text": [
      " 52%|█████▏    | 129/250 [14:00<13:21,  6.63s/it]"
     ]
    },
    {
     "name": "stdout",
     "output_type": "stream",
     "text": [
      "🍩 https://wandb.ai/s-kishore/sft_dataset_creation/r/call/0194150a-133a-7340-8c2f-a5f94f9827c9\n",
      "Processing query: Could you give us an overview of the courses that Professor Aida Sharif Rohani teaches?\n",
      "Retrieving course information and reviews...\n",
      "Processing query: Could you give us an overview of the courses that Professor Aida Sharif Rohani teaches?\n",
      "Retrieving relevant course information...\n",
      "Cross-encoder reranking...\n",
      "Successfully reranked 10 documents\n",
      "Retrieving\n",
      "Reranking\n",
      "Combining and reranking all documents...\n",
      "Successfully reranked 10 combined documents\n",
      "Generating integrated response...\n"
     ]
    },
    {
     "name": "stderr",
     "output_type": "stream",
     "text": [
      " 52%|█████▏    | 130/250 [14:12<16:29,  8.25s/it]"
     ]
    },
    {
     "name": "stdout",
     "output_type": "stream",
     "text": [
      "🍩 https://wandb.ai/s-kishore/sft_dataset_creation/r/call/0194150a-1c60-7533-aa18-bf68b97d58cb\n",
      "Processing query: In the past, has the course Reinforcement Learning been taught? Could you include any summaries of the reviews or feedback from participants?\n",
      "Retrieving course information and reviews...\n",
      "Processing query: In the past, has the course Reinforcement Learning been taught? Could you include any summaries of the reviews or feedback from participants?\n",
      "Retrieving relevant course information...\n",
      "Cross-encoder reranking...\n",
      "Successfully reranked 10 documents\n",
      "Retrieving\n",
      "Reranking\n",
      "Combining and reranking all documents...\n",
      "Successfully reranked 10 combined documents\n",
      "Generating integrated response...\n"
     ]
    },
    {
     "name": "stderr",
     "output_type": "stream",
     "text": [
      " 52%|█████▏    | 131/250 [14:23<18:05,  9.12s/it]"
     ]
    },
    {
     "name": "stdout",
     "output_type": "stream",
     "text": [
      "🍩 https://wandb.ai/s-kishore/sft_dataset_creation/r/call/0194150a-4b68-7eb1-8192-b32c76f34ecf\n",
      "Processing query: Can you summarize the opinions from students regarding their experience with the Web Development course?\n",
      "Retrieving course information and reviews...\n",
      "Processing query: Can you summarize the opinions from students regarding their experience with the Web Development course?\n",
      "Retrieving relevant course information...\n",
      "Cross-encoder reranking...\n",
      "Successfully reranked 10 documents\n",
      "Retrieving\n",
      "Reranking\n",
      "Combining and reranking all documents...\n",
      "Successfully reranked 10 combined documents\n",
      "Generating integrated response...\n"
     ]
    },
    {
     "name": "stderr",
     "output_type": "stream",
     "text": [
      " 53%|█████▎    | 132/250 [14:32<17:57,  9.13s/it]"
     ]
    },
    {
     "name": "stdout",
     "output_type": "stream",
     "text": [
      "🍩 https://wandb.ai/s-kishore/sft_dataset_creation/r/call/0194150a-7704-7e73-a180-4569d55858d9\n",
      "Processing query: How consistent is Professor Ithier, Carter in applying grading standards throughout the course?\n",
      "Retrieving course information and reviews...\n",
      "Processing query: How consistent is Professor Ithier, Carter in applying grading standards throughout the course?\n",
      "Retrieving relevant course information...\n",
      "Cross-encoder reranking...\n",
      "Successfully reranked 10 documents\n",
      "Retrieving\n",
      "Reranking\n",
      "Combining and reranking all documents...\n",
      "Successfully reranked 10 combined documents\n",
      "Generating integrated response...\n"
     ]
    },
    {
     "name": "stderr",
     "output_type": "stream",
     "text": [
      " 53%|█████▎    | 133/250 [14:37<15:22,  7.88s/it]"
     ]
    },
    {
     "name": "stdout",
     "output_type": "stream",
     "text": [
      "🍩 https://wandb.ai/s-kishore/sft_dataset_creation/r/call/0194150a-9ac4-7f82-911d-a07980a022a8\n",
      "Processing query: What does the review suggest about the course titled 'Information Retrieval'?\n",
      "Retrieving course information and reviews...\n",
      "Processing query: What does the review suggest about the course titled 'Information Retrieval'?\n",
      "Retrieving relevant course information...\n",
      "Cross-encoder reranking...\n",
      "Successfully reranked 10 documents\n",
      "Retrieving\n",
      "Reranking\n",
      "Combining and reranking all documents...\n",
      "Successfully reranked 10 combined documents\n",
      "Generating integrated response...\n"
     ]
    },
    {
     "name": "stderr",
     "output_type": "stream",
     "text": [
      " 54%|█████▎    | 134/250 [14:43<14:04,  7.28s/it]"
     ]
    },
    {
     "name": "stdout",
     "output_type": "stream",
     "text": [
      "🍩 https://wandb.ai/s-kishore/sft_dataset_creation/r/call/0194150a-ae29-76a1-a927-e85cd516834f\n",
      "Processing query: Was the Machine Learning course held before? If so, what can you share about the feedback from the participants?\n",
      "Retrieving course information and reviews...\n",
      "Processing query: Was the Machine Learning course held before? If so, what can you share about the feedback from the participants?\n",
      "Retrieving relevant course information...\n",
      "Cross-encoder reranking...\n",
      "Successfully reranked 10 documents\n",
      "Retrieving\n",
      "Reranking\n",
      "Combining and reranking all documents...\n",
      "Successfully reranked 10 combined documents\n",
      "Generating integrated response...\n"
     ]
    },
    {
     "name": "stderr",
     "output_type": "stream",
     "text": [
      " 54%|█████▍    | 135/250 [14:56<17:06,  8.93s/it]"
     ]
    },
    {
     "name": "stdout",
     "output_type": "stream",
     "text": [
      "🍩 https://wandb.ai/s-kishore/sft_dataset_creation/r/call/0194150a-c526-7f72-bd9c-4a9f8abeaabd\n",
      "Processing query: What are Professor Behnezhad, Soheil's methods for assigning grades?\n",
      "Retrieving course information and reviews...\n",
      "Processing query: What are Professor Behnezhad, Soheil's methods for assigning grades?\n",
      "Retrieving relevant course information...\n",
      "Cross-encoder reranking...\n",
      "Successfully reranked 10 documents\n",
      "Retrieving\n",
      "Reranking\n",
      "Combining and reranking all documents...\n",
      "Successfully reranked 10 combined documents\n",
      "Generating integrated response...\n"
     ]
    },
    {
     "name": "stderr",
     "output_type": "stream",
     "text": [
      " 54%|█████▍    | 136/250 [14:59<13:34,  7.15s/it]"
     ]
    },
    {
     "name": "stdout",
     "output_type": "stream",
     "text": [
      "🍩 https://wandb.ai/s-kishore/sft_dataset_creation/r/call/0194150a-f6ff-7a51-a445-b95ebb55996f\n",
      "Processing query: How would you describe the differences in grading philosophies between Professor Jackson and Alden?\n",
      "Retrieving course information and reviews...\n",
      "Processing query: How would you describe the differences in grading philosophies between Professor Jackson and Alden?\n",
      "Retrieving relevant course information...\n",
      "Cross-encoder reranking...\n",
      "Successfully reranked 10 documents\n",
      "Retrieving\n",
      "Reranking\n",
      "Combining and reranking all documents...\n",
      "Successfully reranked 10 combined documents\n",
      "Generating integrated response...\n"
     ]
    },
    {
     "name": "stderr",
     "output_type": "stream",
     "text": [
      " 55%|█████▍    | 137/250 [15:05<12:48,  6.80s/it]"
     ]
    },
    {
     "name": "stdout",
     "output_type": "stream",
     "text": [
      "🍩 https://wandb.ai/s-kishore/sft_dataset_creation/r/call/0194150b-02b0-7c30-a66e-b17418d175ce\n",
      "Processing query: Professor Chen's assessment process; how does it resemble Crane's evaluation?\n",
      "Retrieving course information and reviews...\n",
      "Processing query: Professor Chen's assessment process; how does it resemble Crane's evaluation?\n",
      "Retrieving relevant course information...\n",
      "Cross-encoder reranking...\n",
      "Successfully reranked 10 documents\n",
      "Retrieving\n",
      "Reranking\n",
      "Combining and reranking all documents...\n",
      "Successfully reranked 10 combined documents\n",
      "Generating integrated response...\n"
     ]
    },
    {
     "name": "stderr",
     "output_type": "stream",
     "text": [
      " 55%|█████▌    | 138/250 [15:10<11:33,  6.19s/it]"
     ]
    },
    {
     "name": "stdout",
     "output_type": "stream",
     "text": [
      "🍩 https://wandb.ai/s-kishore/sft_dataset_creation/r/call/0194150b-1a26-7c81-8abd-d46bedb6cbc0\n",
      "Processing query: How challenging do you find the Web Development course to be?\n",
      "Retrieving course information and reviews...\n",
      "Processing query: How challenging do you find the Web Development course to be?\n",
      "Retrieving relevant course information...\n",
      "Cross-encoder reranking...\n",
      "Successfully reranked 10 documents\n",
      "Retrieving\n",
      "Reranking\n",
      "Combining and reranking all documents...\n",
      "Successfully reranked 10 combined documents\n",
      "Generating integrated response...\n"
     ]
    },
    {
     "name": "stderr",
     "output_type": "stream",
     "text": [
      " 56%|█████▌    | 139/250 [15:14<10:31,  5.69s/it]"
     ]
    },
    {
     "name": "stdout",
     "output_type": "stream",
     "text": [
      "🍩 https://wandb.ai/s-kishore/sft_dataset_creation/r/call/0194150b-2cca-70f1-89bf-a45d56c1a4f3\n",
      "Processing query: Can you list some courses that fall under the category of development?\n",
      "Retrieving course information and reviews...\n",
      "Processing query: Can you list some courses that fall under the category of development?\n",
      "Retrieving relevant course information...\n",
      "Cross-encoder reranking...\n",
      "Successfully reranked 10 documents\n",
      "Retrieving\n",
      "Reranking\n",
      "Combining and reranking all documents...\n",
      "Successfully reranked 10 combined documents\n",
      "Generating integrated response...\n"
     ]
    },
    {
     "name": "stderr",
     "output_type": "stream",
     "text": [
      " 56%|█████▌    | 140/250 [15:22<11:40,  6.36s/it]"
     ]
    },
    {
     "name": "stdout",
     "output_type": "stream",
     "text": [
      "🍩 https://wandb.ai/s-kishore/sft_dataset_creation/r/call/0194150b-3e75-7210-ac79-5aba9539a9b6\n",
      "Processing query: What is the perceived difficulty of taking the Pattern Recognition and Computer Vision course?\n",
      "Retrieving course information and reviews...\n",
      "Processing query: What is the perceived difficulty of taking the Pattern Recognition and Computer Vision course?\n",
      "Retrieving relevant course information...\n",
      "Cross-encoder reranking...\n",
      "Successfully reranked 10 documents\n",
      "Retrieving\n",
      "Reranking\n",
      "Combining and reranking all documents...\n",
      "Successfully reranked 10 combined documents\n",
      "Generating integrated response...\n"
     ]
    },
    {
     "name": "stderr",
     "output_type": "stream",
     "text": [
      " 56%|█████▋    | 141/250 [15:28<11:27,  6.30s/it]"
     ]
    },
    {
     "name": "stdout",
     "output_type": "stream",
     "text": [
      "🍩 https://wandb.ai/s-kishore/sft_dataset_creation/r/call/0194150b-5d71-74e0-8c28-38e6ca4b3301\n",
      "Processing query: When are the classes for the Algorithms course conducted?\n",
      "Retrieving course information and reviews...\n",
      "Processing query: When are the classes for the Algorithms course conducted?\n",
      "Retrieving relevant course information...\n",
      "Cross-encoder reranking...\n",
      "Successfully reranked 10 documents\n",
      "Retrieving\n",
      "Reranking\n",
      "Combining and reranking all documents...\n",
      "Successfully reranked 10 combined documents\n",
      "Generating integrated response...\n"
     ]
    },
    {
     "name": "stderr",
     "output_type": "stream",
     "text": [
      " 57%|█████▋    | 142/250 [15:33<10:13,  5.68s/it]"
     ]
    },
    {
     "name": "stdout",
     "output_type": "stream",
     "text": [
      "🍩 https://wandb.ai/s-kishore/sft_dataset_creation/r/call/0194150b-7586-7ee3-ac1d-65cdf8814fa3\n",
      "Processing query: Which teacher is delivering the Computer Systems lecture?\n",
      "Retrieving course information and reviews...\n",
      "Processing query: Which teacher is delivering the Computer Systems lecture?\n",
      "Retrieving relevant course information...\n",
      "Cross-encoder reranking...\n",
      "Successfully reranked 10 documents\n",
      "Retrieving\n",
      "Reranking\n",
      "Combining and reranking all documents...\n",
      "Successfully reranked 10 combined documents\n",
      "Generating integrated response...\n"
     ]
    },
    {
     "name": "stderr",
     "output_type": "stream",
     "text": [
      " 57%|█████▋    | 143/250 [15:35<08:12,  4.60s/it]"
     ]
    },
    {
     "name": "stdout",
     "output_type": "stream",
     "text": [
      "🍩 https://wandb.ai/s-kishore/sft_dataset_creation/r/call/0194150b-860c-7c63-8ac0-0e2eb731a9b1\n",
      "Processing query: Inquiring about the 'Discrete Structures' course's historical offerings and the associated student reviews.\n",
      "Retrieving course information and reviews...\n",
      "Processing query: Inquiring about the 'Discrete Structures' course's historical offerings and the associated student reviews.\n",
      "Retrieving relevant course information...\n",
      "Cross-encoder reranking...\n",
      "Successfully reranked 10 documents\n",
      "Retrieving\n",
      "Reranking\n",
      "Combining and reranking all documents...\n",
      "Successfully reranked 10 combined documents\n",
      "Generating integrated response...\n"
     ]
    },
    {
     "name": "stderr",
     "output_type": "stream",
     "text": [
      " 58%|█████▊    | 144/250 [15:42<09:23,  5.32s/it]"
     ]
    },
    {
     "name": "stdout",
     "output_type": "stream",
     "text": [
      "🍩 https://wandb.ai/s-kishore/sft_dataset_creation/r/call/0194150b-8e25-7e23-92b6-ce26f70b8796\n",
      "Processing query: When and how often are the classes for the Reinforcement Learning course conducted?\n",
      "Retrieving course information and reviews...\n",
      "Processing query: When and how often are the classes for the Reinforcement Learning course conducted?\n",
      "Retrieving relevant course information...\n",
      "Cross-encoder reranking...\n",
      "Successfully reranked 10 documents\n",
      "Retrieving\n",
      "Reranking\n",
      "Combining and reranking all documents...\n",
      "Successfully reranked 10 combined documents\n",
      "Generating integrated response...\n"
     ]
    },
    {
     "name": "stderr",
     "output_type": "stream",
     "text": [
      " 58%|█████▊    | 145/250 [15:45<08:16,  4.73s/it]"
     ]
    },
    {
     "name": "stdout",
     "output_type": "stream",
     "text": [
      "🍩 https://wandb.ai/s-kishore/sft_dataset_creation/r/call/0194150b-a96e-71d2-ae1f-0a92021151b4\n",
      "Processing query: Are there specific subjects that one must master before undertaking Pattern Recognition and Computer Vision?\n",
      "Retrieving course information and reviews...\n",
      "Processing query: Are there specific subjects that one must master before undertaking Pattern Recognition and Computer Vision?\n",
      "Retrieving relevant course information...\n",
      "Cross-encoder reranking...\n",
      "Successfully reranked 10 documents\n",
      "Retrieving\n",
      "Reranking\n",
      "Combining and reranking all documents...\n",
      "Successfully reranked 10 combined documents\n",
      "Generating integrated response...\n"
     ]
    },
    {
     "name": "stderr",
     "output_type": "stream",
     "text": [
      " 58%|█████▊    | 146/250 [15:49<07:37,  4.40s/it]"
     ]
    },
    {
     "name": "stdout",
     "output_type": "stream",
     "text": [
      "🍩 https://wandb.ai/s-kishore/sft_dataset_creation/r/call/0194150b-b687-7583-ba5e-c8f728db96f0\n",
      "Processing query: Can you tell me about Professor Smith's approach to grading Amy?\n",
      "Retrieving course information and reviews...\n",
      "Processing query: Can you tell me about Professor Smith's approach to grading Amy?\n",
      "Retrieving relevant course information...\n",
      "Cross-encoder reranking...\n",
      "Successfully reranked 10 documents\n",
      "Retrieving\n",
      "Reranking\n",
      "Combining and reranking all documents...\n",
      "Successfully reranked 10 combined documents\n",
      "Generating integrated response...\n"
     ]
    },
    {
     "name": "stderr",
     "output_type": "stream",
     "text": [
      " 59%|█████▉    | 147/250 [15:52<07:06,  4.14s/it]"
     ]
    },
    {
     "name": "stdout",
     "output_type": "stream",
     "text": [
      "🍩 https://wandb.ai/s-kishore/sft_dataset_creation/r/call/0194150b-c4b8-7332-827b-594cd82246bd\n",
      "Processing query: Which courses are being conducted by Professor Maitraye Das?\n",
      "Retrieving course information and reviews...\n",
      "Processing query: Which courses are being conducted by Professor Maitraye Das?\n",
      "Retrieving relevant course information...\n",
      "Cross-encoder reranking...\n",
      "Successfully reranked 10 documents\n",
      "Retrieving\n",
      "Reranking\n",
      "Combining and reranking all documents...\n",
      "Successfully reranked 10 combined documents\n",
      "Generating integrated response...\n"
     ]
    },
    {
     "name": "stderr",
     "output_type": "stream",
     "text": [
      " 59%|█████▉    | 148/250 [15:56<06:57,  4.09s/it]"
     ]
    },
    {
     "name": "stdout",
     "output_type": "stream",
     "text": [
      "🍩 https://wandb.ai/s-kishore/sft_dataset_creation/r/call/0194150b-d296-7ab2-9ba6-7376c755c16d\n",
      "Processing query: What do you think about how Aditya executes Professor Mishra's grading procedures?\n",
      "Retrieving course information and reviews...\n",
      "Processing query: What do you think about how Aditya executes Professor Mishra's grading procedures?\n",
      "Retrieving relevant course information...\n",
      "Cross-encoder reranking...\n",
      "Successfully reranked 10 documents\n",
      "Retrieving\n",
      "Reranking\n",
      "Combining and reranking all documents...\n",
      "Successfully reranked 10 combined documents\n",
      "Generating integrated response...\n"
     ]
    },
    {
     "name": "stderr",
     "output_type": "stream",
     "text": [
      " 60%|█████▉    | 149/250 [15:59<06:14,  3.70s/it]"
     ]
    },
    {
     "name": "stdout",
     "output_type": "stream",
     "text": [
      "🍩 https://wandb.ai/s-kishore/sft_dataset_creation/r/call/0194150b-e216-7f73-bee5-3191de71a861\n",
      "Processing query: Based on the feedback, how would you rate the course on Reinforcement Learning?\n",
      "Retrieving course information and reviews...\n",
      "Processing query: Based on the feedback, how would you rate the course on Reinforcement Learning?\n",
      "Retrieving relevant course information...\n",
      "Cross-encoder reranking...\n",
      "Successfully reranked 10 documents\n",
      "Retrieving\n",
      "Reranking\n",
      "Combining and reranking all documents...\n",
      "Successfully reranked 10 combined documents\n",
      "Generating integrated response...\n"
     ]
    },
    {
     "name": "stderr",
     "output_type": "stream",
     "text": [
      " 60%|██████    | 150/250 [16:10<09:43,  5.83s/it]"
     ]
    },
    {
     "name": "stdout",
     "output_type": "stream",
     "text": [
      "🍩 https://wandb.ai/s-kishore/sft_dataset_creation/r/call/0194150b-ed06-76a1-b0a1-5d60dd0dd2e9\n",
      "Processing query: What level of difficulty would you attribute to the Web Development course?\n",
      "Retrieving course information and reviews...\n",
      "Processing query: What level of difficulty would you attribute to the Web Development course?\n",
      "Retrieving relevant course information...\n",
      "Cross-encoder reranking...\n",
      "Successfully reranked 10 documents\n",
      "Retrieving\n",
      "Reranking\n",
      "Combining and reranking all documents...\n",
      "Successfully reranked 10 combined documents\n",
      "Generating integrated response...\n"
     ]
    },
    {
     "name": "stderr",
     "output_type": "stream",
     "text": [
      " 60%|██████    | 151/250 [16:14<08:38,  5.24s/it]"
     ]
    },
    {
     "name": "stdout",
     "output_type": "stream",
     "text": [
      "🍩 https://wandb.ai/s-kishore/sft_dataset_creation/r/call/0194150c-173c-7753-83c7-0cd9434bd95d\n",
      "Processing query: How does Professor Smith, David assign grades?\n",
      "Retrieving course information and reviews...\n",
      "Processing query: How does Professor Smith, David assign grades?\n",
      "Retrieving relevant course information...\n",
      "Cross-encoder reranking...\n",
      "Successfully reranked 10 documents\n",
      "Retrieving\n",
      "Reranking\n",
      "Combining and reranking all documents...\n",
      "Successfully reranked 10 combined documents\n",
      "Generating integrated response...\n"
     ]
    },
    {
     "name": "stderr",
     "output_type": "stream",
     "text": [
      " 61%|██████    | 152/250 [16:18<07:54,  4.84s/it]"
     ]
    },
    {
     "name": "stdout",
     "output_type": "stream",
     "text": [
      "🍩 https://wandb.ai/s-kishore/sft_dataset_creation/r/call/0194150c-2648-74d2-a054-866d8ad6f6f4\n",
      "Processing query: Could you elaborate on Professor Sharifian Attar, Ali's grading techniques and expectations?\n",
      "Retrieving course information and reviews...\n",
      "Processing query: Could you elaborate on Professor Sharifian Attar, Ali's grading techniques and expectations?\n",
      "Retrieving relevant course information...\n",
      "Cross-encoder reranking...\n",
      "Successfully reranked 10 documents\n",
      "Retrieving\n",
      "Reranking\n",
      "Combining and reranking all documents...\n",
      "Successfully reranked 10 combined documents\n",
      "Generating integrated response...\n"
     ]
    },
    {
     "name": "stderr",
     "output_type": "stream",
     "text": [
      " 61%|██████    | 153/250 [16:22<07:32,  4.67s/it]"
     ]
    },
    {
     "name": "stdout",
     "output_type": "stream",
     "text": [
      "🍩 https://wandb.ai/s-kishore/sft_dataset_creation/r/call/0194150c-3594-7a73-a8c7-f15cadffa7b1\n",
      "Processing query: Professor Rachlin, John's approach to assigning grades - could you elaborate?\n",
      "Retrieving course information and reviews...\n",
      "Processing query: Professor Rachlin, John's approach to assigning grades - could you elaborate?\n",
      "Retrieving relevant course information...\n",
      "Cross-encoder reranking...\n",
      "Successfully reranked 10 documents\n",
      "Retrieving\n",
      "Reranking\n",
      "Combining and reranking all documents...\n",
      "Successfully reranked 10 combined documents\n",
      "Generating integrated response...\n"
     ]
    },
    {
     "name": "stderr",
     "output_type": "stream",
     "text": [
      " 62%|██████▏   | 154/250 [16:27<07:46,  4.86s/it]"
     ]
    },
    {
     "name": "stdout",
     "output_type": "stream",
     "text": [
      "🍩 https://wandb.ai/s-kishore/sft_dataset_creation/r/call/0194150c-4635-77f1-bf4c-0171862eb747\n",
      "Processing query: Could you provide details on the courses that Professor Aditya Mishra is teaching?\n",
      "Retrieving course information and reviews...\n",
      "Processing query: Could you provide details on the courses that Professor Aditya Mishra is teaching?\n",
      "Retrieving relevant course information...\n",
      "Cross-encoder reranking...\n",
      "Successfully reranked 10 documents\n",
      "Retrieving\n",
      "Reranking\n",
      "Combining and reranking all documents...\n",
      "Successfully reranked 10 combined documents\n",
      "Generating integrated response...\n"
     ]
    },
    {
     "name": "stderr",
     "output_type": "stream",
     "text": [
      " 62%|██████▏   | 155/250 [16:36<09:50,  6.21s/it]"
     ]
    },
    {
     "name": "stdout",
     "output_type": "stream",
     "text": [
      "🍩 https://wandb.ai/s-kishore/sft_dataset_creation/r/call/0194150c-5afe-7652-9ab3-4b37a0c62610\n",
      "Processing query: Who is the instructor for the course entitled 'Fundamentals of Cloud Computing'?\n",
      "Retrieving course information and reviews...\n",
      "Processing query: Who is the instructor for the course entitled 'Fundamentals of Cloud Computing'?\n",
      "Retrieving relevant course information...\n",
      "Cross-encoder reranking...\n",
      "Successfully reranked 10 documents\n",
      "Retrieving\n",
      "Reranking\n",
      "Combining and reranking all documents...\n",
      "Successfully reranked 10 combined documents\n",
      "Generating integrated response...\n"
     ]
    },
    {
     "name": "stderr",
     "output_type": "stream",
     "text": [
      " 62%|██████▏   | 156/250 [16:38<07:42,  4.93s/it]"
     ]
    },
    {
     "name": "stdout",
     "output_type": "stream",
     "text": [
      "🍩 https://wandb.ai/s-kishore/sft_dataset_creation/r/call/0194150c-7f8f-7dc1-b753-26b0db3a6ff4\n",
      "Processing query: Can you tell me which academic is teaching the Information Retrieval course?\n",
      "Retrieving course information and reviews...\n",
      "Processing query: Can you tell me which academic is teaching the Information Retrieval course?\n",
      "Retrieving relevant course information...\n",
      "Cross-encoder reranking...\n",
      "Successfully reranked 10 documents\n",
      "Retrieving\n",
      "Reranking\n",
      "Combining and reranking all documents...\n",
      "Successfully reranked 10 combined documents\n",
      "Generating integrated response...\n"
     ]
    },
    {
     "name": "stderr",
     "output_type": "stream",
     "text": [
      " 63%|██████▎   | 157/250 [16:42<07:08,  4.61s/it]"
     ]
    },
    {
     "name": "stdout",
     "output_type": "stream",
     "text": [
      "🍩 https://wandb.ai/s-kishore/sft_dataset_creation/r/call/0194150c-8710-7662-a583-aa0dda9b2be0\n",
      "Processing query: In the past, was 'Compilers' a part of the curriculum? Could you summarize the course reviews?\n",
      "Retrieving course information and reviews...\n",
      "Processing query: In the past, was 'Compilers' a part of the curriculum? Could you summarize the course reviews?\n",
      "Retrieving relevant course information...\n",
      "Cross-encoder reranking...\n",
      "Successfully reranked 10 documents\n",
      "Retrieving\n",
      "Reranking\n",
      "Combining and reranking all documents...\n",
      "Successfully reranked 10 combined documents\n",
      "Generating integrated response...\n"
     ]
    },
    {
     "name": "stderr",
     "output_type": "stream",
     "text": [
      " 63%|██████▎   | 158/250 [16:53<10:05,  6.58s/it]"
     ]
    },
    {
     "name": "stdout",
     "output_type": "stream",
     "text": [
      "🍩 https://wandb.ai/s-kishore/sft_dataset_creation/r/call/0194150c-9625-7f21-8d30-48dceff13e60\n",
      "Processing query: Based on student evaluations, what is your assessment of the 'Compilers' course?\n",
      "Retrieving course information and reviews...\n",
      "Processing query: Based on student evaluations, what is your assessment of the 'Compilers' course?\n",
      "Retrieving relevant course information...\n",
      "Cross-encoder reranking...\n",
      "Successfully reranked 10 documents\n",
      "Retrieving\n",
      "Reranking\n",
      "Combining and reranking all documents...\n",
      "Successfully reranked 10 combined documents\n",
      "Generating integrated response...\n"
     ]
    },
    {
     "name": "stderr",
     "output_type": "stream",
     "text": [
      " 64%|██████▎   | 159/250 [17:04<11:36,  7.66s/it]"
     ]
    },
    {
     "name": "stdout",
     "output_type": "stream",
     "text": [
      "🍩 https://wandb.ai/s-kishore/sft_dataset_creation/r/call/0194150c-c1e4-73c3-bfbc-46f85f5a328e\n",
      "Processing query: Could you provide information on whether the course 'Foundations of Artificial Intelligence' has been taught previously, and if yes, what were the student reviews like?\n",
      "Retrieving course information and reviews...\n",
      "Processing query: Could you provide information on whether the course 'Foundations of Artificial Intelligence' has been taught previously, and if yes, what were the student reviews like?\n",
      "Retrieving relevant course information...\n",
      "Cross-encoder reranking...\n",
      "Successfully reranked 10 documents\n",
      "Retrieving\n",
      "Reranking\n",
      "Combining and reranking all documents...\n",
      "Successfully reranked 10 combined documents\n",
      "Generating integrated response...\n"
     ]
    },
    {
     "name": "stderr",
     "output_type": "stream",
     "text": [
      " 64%|██████▍   | 160/250 [17:21<16:05, 10.72s/it]"
     ]
    },
    {
     "name": "stdout",
     "output_type": "stream",
     "text": [
      "🍩 https://wandb.ai/s-kishore/sft_dataset_creation/r/call/0194150c-e995-7e82-a600-be212d082ef3\n",
      "Processing query: What courses is Professor Starzec, Amy conducting?\n",
      "Retrieving course information and reviews...\n",
      "Processing query: What courses is Professor Starzec, Amy conducting?\n",
      "Retrieving relevant course information...\n",
      "Cross-encoder reranking...\n",
      "Successfully reranked 10 documents\n",
      "Retrieving\n",
      "Reranking\n",
      "Combining and reranking all documents...\n",
      "Successfully reranked 10 combined documents\n",
      "Generating integrated response...\n"
     ]
    },
    {
     "name": "stderr",
     "output_type": "stream",
     "text": [
      " 64%|██████▍   | 161/250 [17:26<13:18,  8.97s/it]"
     ]
    },
    {
     "name": "stdout",
     "output_type": "stream",
     "text": [
      "🍩 https://wandb.ai/s-kishore/sft_dataset_creation/r/call/0194150d-2f70-7f01-ae68-29ada1b74aa2\n",
      "Processing query: Which subjects does Professor Abir Saha include in his teaching schedule?\n",
      "Retrieving course information and reviews...\n",
      "Processing query: Which subjects does Professor Abir Saha include in his teaching schedule?\n",
      "Retrieving relevant course information...\n",
      "Cross-encoder reranking...\n",
      "Successfully reranked 10 documents\n",
      "Retrieving\n",
      "Reranking\n",
      "Combining and reranking all documents...\n",
      "Successfully reranked 10 combined documents\n",
      "Generating integrated response...\n"
     ]
    },
    {
     "name": "stderr",
     "output_type": "stream",
     "text": [
      " 65%|██████▍   | 162/250 [17:31<11:11,  7.63s/it]"
     ]
    },
    {
     "name": "stdout",
     "output_type": "stream",
     "text": [
      "🍩 https://wandb.ai/s-kishore/sft_dataset_creation/r/call/0194150d-427c-7e63-a01e-2d0b4a796592\n",
      "Processing query: How does Professor LANCEWICKI, TOMER determine the final scores of students?\n",
      "Retrieving course information and reviews...\n",
      "Processing query: How does Professor LANCEWICKI, TOMER determine the final scores of students?\n",
      "Retrieving relevant course information...\n",
      "Cross-encoder reranking...\n",
      "Successfully reranked 10 documents\n",
      "Retrieving\n",
      "Reranking\n",
      "Combining and reranking all documents...\n",
      "Successfully reranked 10 combined documents\n",
      "Generating integrated response...\n"
     ]
    },
    {
     "name": "stderr",
     "output_type": "stream",
     "text": [
      " 65%|██████▌   | 163/250 [17:36<09:57,  6.87s/it]"
     ]
    },
    {
     "name": "stdout",
     "output_type": "stream",
     "text": [
      "🍩 https://wandb.ai/s-kishore/sft_dataset_creation/r/call/0194150d-5413-7a01-bdc4-28340a5a9272\n",
      "Processing query: Can you share your thoughts on Professor Schedlbauer, Martin's grading standards?\n",
      "Retrieving course information and reviews...\n",
      "Processing query: Can you share your thoughts on Professor Schedlbauer, Martin's grading standards?\n",
      "Retrieving relevant course information...\n",
      "Cross-encoder reranking...\n",
      "Successfully reranked 10 documents\n",
      "Retrieving\n",
      "Reranking\n",
      "Combining and reranking all documents...\n",
      "Successfully reranked 10 combined documents\n",
      "Generating integrated response...\n"
     ]
    },
    {
     "name": "stderr",
     "output_type": "stream",
     "text": [
      " 66%|██████▌   | 164/250 [17:43<09:48,  6.85s/it]"
     ]
    },
    {
     "name": "stdout",
     "output_type": "stream",
     "text": [
      "🍩 https://wandb.ai/s-kishore/sft_dataset_creation/r/call/0194150d-67eb-7c33-8286-24f2605a8fa4\n",
      "Processing query: Regarding the Information Retrieval course, what are the available class times?\n",
      "Retrieving course information and reviews...\n",
      "Processing query: Regarding the Information Retrieval course, what are the available class times?\n",
      "Retrieving relevant course information...\n",
      "Cross-encoder reranking...\n",
      "Successfully reranked 10 documents\n",
      "Retrieving\n",
      "Reranking\n",
      "Combining and reranking all documents...\n",
      "Successfully reranked 10 combined documents\n",
      "Generating integrated response...\n"
     ]
    },
    {
     "name": "stderr",
     "output_type": "stream",
     "text": [
      " 66%|██████▌   | 165/250 [17:47<08:41,  6.14s/it]"
     ]
    },
    {
     "name": "stdout",
     "output_type": "stream",
     "text": [
      "🍩 https://wandb.ai/s-kishore/sft_dataset_creation/r/call/0194150d-8284-7830-bf1d-78fee194c358\n",
      "Processing query: Have there been occasions when the Machine Learning course was delivered? If so, what is the summary of the student comments?\n",
      "Retrieving course information and reviews...\n",
      "Processing query: Have there been occasions when the Machine Learning course was delivered? If so, what is the summary of the student comments?\n",
      "Retrieving relevant course information...\n",
      "Cross-encoder reranking...\n",
      "Successfully reranked 10 documents\n",
      "Retrieving\n",
      "Reranking\n",
      "Combining and reranking all documents...\n",
      "Successfully reranked 10 combined documents\n",
      "Generating integrated response...\n"
     ]
    },
    {
     "name": "stderr",
     "output_type": "stream",
     "text": [
      " 66%|██████▋   | 166/250 [17:57<10:16,  7.34s/it]"
     ]
    },
    {
     "name": "stdout",
     "output_type": "stream",
     "text": [
      "🍩 https://wandb.ai/s-kishore/sft_dataset_creation/r/call/0194150d-9404-76a3-9afa-9096bafa563c\n",
      "Processing query: Can you provide information on the classes that Professor Cross, Brian is instructing?\n",
      "Retrieving course information and reviews...\n",
      "Processing query: Can you provide information on the classes that Professor Cross, Brian is instructing?\n",
      "Retrieving relevant course information...\n",
      "Cross-encoder reranking...\n",
      "Successfully reranked 10 documents\n",
      "Retrieving\n",
      "Reranking\n",
      "Combining and reranking all documents...\n",
      "Successfully reranked 10 combined documents\n",
      "Generating integrated response...\n"
     ]
    },
    {
     "name": "stderr",
     "output_type": "stream",
     "text": [
      " 67%|██████▋   | 167/250 [18:07<10:59,  7.94s/it]"
     ]
    },
    {
     "name": "stdout",
     "output_type": "stream",
     "text": [
      "🍩 https://wandb.ai/s-kishore/sft_dataset_creation/r/call/0194150d-bba7-7622-99cc-ce8175a3bdd2\n",
      "Processing query: How would you describe Professor Starzec's take on Amy's grading process?\n",
      "Retrieving course information and reviews...\n",
      "Processing query: How would you describe Professor Starzec's take on Amy's grading process?\n",
      "Retrieving relevant course information...\n",
      "Cross-encoder reranking...\n",
      "Successfully reranked 10 documents\n",
      "Retrieving\n",
      "Reranking\n",
      "Combining and reranking all documents...\n",
      "Successfully reranked 10 combined documents\n",
      "Generating integrated response...\n"
     ]
    },
    {
     "name": "stderr",
     "output_type": "stream",
     "text": [
      " 67%|██████▋   | 168/250 [18:11<09:15,  6.78s/it]"
     ]
    },
    {
     "name": "stdout",
     "output_type": "stream",
     "text": [
      "🍩 https://wandb.ai/s-kishore/sft_dataset_creation/r/call/0194150d-e028-76c3-bdd4-d0a2412325a6\n",
      "Processing query: Can you tell me about the academic offerings by Professor Abhi Shelat?\n",
      "Retrieving course information and reviews...\n",
      "Processing query: Can you tell me about the academic offerings by Professor Abhi Shelat?\n",
      "Retrieving relevant course information...\n",
      "Cross-encoder reranking...\n",
      "Successfully reranked 10 documents\n",
      "Retrieving\n",
      "Reranking\n",
      "Combining and reranking all documents...\n",
      "Successfully reranked 10 combined documents\n",
      "Generating integrated response...\n"
     ]
    },
    {
     "name": "stderr",
     "output_type": "stream",
     "text": [
      " 68%|██████▊   | 169/250 [18:21<10:30,  7.78s/it]"
     ]
    },
    {
     "name": "stdout",
     "output_type": "stream",
     "text": [
      "🍩 https://wandb.ai/s-kishore/sft_dataset_creation/r/call/0194150d-f00a-7212-bed4-0a081945ed7e\n",
      "Processing query: Could you please inform me about the foundational courses required for Web Development?\n",
      "Retrieving course information and reviews...\n",
      "Processing query: Could you please inform me about the foundational courses required for Web Development?\n",
      "Retrieving relevant course information...\n",
      "Cross-encoder reranking...\n",
      "Successfully reranked 10 documents\n",
      "Retrieving\n",
      "Reranking\n",
      "Combining and reranking all documents...\n",
      "Successfully reranked 10 combined documents\n",
      "Generating integrated response...\n"
     ]
    },
    {
     "name": "stderr",
     "output_type": "stream",
     "text": [
      " 68%|██████▊   | 170/250 [18:28<10:17,  7.72s/it]"
     ]
    },
    {
     "name": "stdout",
     "output_type": "stream",
     "text": [
      "🍩 https://wandb.ai/s-kishore/sft_dataset_creation/r/call/0194150e-1799-7cc2-82fc-87025db7304e\n",
      "Processing query: Can you summarize the general impressions of the Foundations of Software Engineering course as reflected in the reviews?\n",
      "Retrieving course information and reviews...\n",
      "Processing query: Can you summarize the general impressions of the Foundations of Software Engineering course as reflected in the reviews?\n",
      "Retrieving relevant course information...\n",
      "Cross-encoder reranking...\n",
      "Successfully reranked 10 documents\n",
      "Retrieving\n",
      "Reranking\n",
      "Combining and reranking all documents...\n",
      "Successfully reranked 10 combined documents\n",
      "Generating integrated response...\n"
     ]
    },
    {
     "name": "stderr",
     "output_type": "stream",
     "text": [
      " 68%|██████▊   | 171/250 [18:39<11:11,  8.49s/it]"
     ]
    },
    {
     "name": "stdout",
     "output_type": "stream",
     "text": [
      "🍩 https://wandb.ai/s-kishore/sft_dataset_creation/r/call/0194150e-352e-7cd1-9ebf-5feb59aeccbd\n",
      "Processing query: What classes does Professor Padilla Lace have available for enrollment?\n",
      "Retrieving course information and reviews...\n",
      "Processing query: What classes does Professor Padilla Lace have available for enrollment?\n",
      "Retrieving relevant course information...\n",
      "Cross-encoder reranking...\n",
      "Successfully reranked 10 documents\n",
      "Retrieving\n",
      "Reranking\n",
      "Combining and reranking all documents...\n",
      "Successfully reranked 10 combined documents\n",
      "Generating integrated response...\n"
     ]
    },
    {
     "name": "stderr",
     "output_type": "stream",
     "text": [
      " 69%|██████▉   | 172/250 [18:43<09:29,  7.30s/it]"
     ]
    },
    {
     "name": "stdout",
     "output_type": "stream",
     "text": [
      "🍩 https://wandb.ai/s-kishore/sft_dataset_creation/r/call/0194150e-5d6b-76e3-bb90-86b2d65bd17f\n",
      "Processing query: Is it possible to acquire skills or knowledge without having to take exams?\n",
      "Retrieving course information and reviews...\n",
      "Processing query: Is it possible to acquire skills or knowledge without having to take exams?\n",
      "Retrieving relevant course information...\n",
      "Cross-encoder reranking...\n",
      "Successfully reranked 10 documents\n",
      "Retrieving\n",
      "Reranking\n",
      "Combining and reranking all documents...\n",
      "Successfully reranked 10 combined documents\n",
      "Generating integrated response...\n"
     ]
    },
    {
     "name": "stderr",
     "output_type": "stream",
     "text": [
      " 69%|██████▉   | 173/250 [18:50<08:59,  7.01s/it]"
     ]
    },
    {
     "name": "stdout",
     "output_type": "stream",
     "text": [
      "🍩 https://wandb.ai/s-kishore/sft_dataset_creation/r/call/0194150e-6f17-7fe0-932b-baffa3b0ccaf\n",
      "Processing query: Can you elaborate on Professor Starzec's view of Amy's grading philosophy?\n",
      "Retrieving course information and reviews...\n",
      "Processing query: Can you elaborate on Professor Starzec's view of Amy's grading philosophy?\n",
      "Retrieving relevant course information...\n",
      "Cross-encoder reranking...\n",
      "Successfully reranked 10 documents\n",
      "Retrieving\n",
      "Reranking\n",
      "Combining and reranking all documents...\n",
      "Successfully reranked 10 combined documents\n",
      "Generating integrated response...\n"
     ]
    },
    {
     "name": "stderr",
     "output_type": "stream",
     "text": [
      " 70%|██████▉   | 174/250 [18:53<07:38,  6.04s/it]"
     ]
    },
    {
     "name": "stdout",
     "output_type": "stream",
     "text": [
      "🍩 https://wandb.ai/s-kishore/sft_dataset_creation/r/call/0194150e-87cd-7a82-a960-ba1e68d2f363\n",
      "Processing query: In what manner does Professor Abir Saha determine the grades of his students?\n",
      "Retrieving course information and reviews...\n",
      "Processing query: In what manner does Professor Abir Saha determine the grades of his students?\n",
      "Retrieving relevant course information...\n",
      "Cross-encoder reranking...\n",
      "Successfully reranked 10 documents\n",
      "Retrieving\n",
      "Reranking\n",
      "Combining and reranking all documents...\n",
      "Successfully reranked 10 combined documents\n",
      "Generating integrated response...\n"
     ]
    },
    {
     "name": "stderr",
     "output_type": "stream",
     "text": [
      " 70%|███████   | 175/250 [18:57<06:45,  5.41s/it]"
     ]
    },
    {
     "name": "stdout",
     "output_type": "stream",
     "text": [
      "🍩 https://wandb.ai/s-kishore/sft_dataset_creation/r/call/0194150e-9689-7871-a003-89ad2bda7f08\n",
      "Processing query: Could you tell me which academic programs Professor Li, Tianshi supervises?\n",
      "Retrieving course information and reviews...\n",
      "Processing query: Could you tell me which academic programs Professor Li, Tianshi supervises?\n",
      "Retrieving relevant course information...\n",
      "Cross-encoder reranking...\n",
      "Successfully reranked 10 documents\n",
      "Retrieving\n",
      "Reranking\n",
      "Combining and reranking all documents...\n",
      "Successfully reranked 10 combined documents\n",
      "Generating integrated response...\n"
     ]
    },
    {
     "name": "stderr",
     "output_type": "stream",
     "text": [
      " 70%|███████   | 176/250 [19:02<06:26,  5.22s/it]"
     ]
    },
    {
     "name": "stdout",
     "output_type": "stream",
     "text": [
      "🍩 https://wandb.ai/s-kishore/sft_dataset_creation/r/call/0194150e-a5ee-7803-ab90-839b6d743f2b\n",
      "Processing query: Who among our faculty is assigned to teach the Recitation component of CS5010?\n",
      "Retrieving course information and reviews...\n",
      "Processing query: Who among our faculty is assigned to teach the Recitation component of CS5010?\n",
      "Retrieving relevant course information...\n",
      "Cross-encoder reranking...\n",
      "Successfully reranked 10 documents\n",
      "Retrieving\n",
      "Reranking\n",
      "Combining and reranking all documents...\n",
      "Successfully reranked 10 combined documents\n",
      "Generating integrated response...\n"
     ]
    },
    {
     "name": "stderr",
     "output_type": "stream",
     "text": [
      " 71%|███████   | 177/250 [19:05<05:33,  4.57s/it]"
     ]
    },
    {
     "name": "stdout",
     "output_type": "stream",
     "text": [
      "🍩 https://wandb.ai/s-kishore/sft_dataset_creation/r/call/0194150e-b88f-71b0-81bb-f1dc9de145ab\n",
      "Processing query: What are the core courses that one must complete before delving into the study of Computer Systems?\n",
      "Retrieving course information and reviews...\n",
      "Processing query: What are the core courses that one must complete before delving into the study of Computer Systems?\n",
      "Retrieving relevant course information...\n",
      "Cross-encoder reranking...\n",
      "Successfully reranked 10 documents\n",
      "Retrieving\n",
      "Reranking\n",
      "Combining and reranking all documents...\n",
      "Successfully reranked 10 combined documents\n",
      "Generating integrated response...\n"
     ]
    },
    {
     "name": "stderr",
     "output_type": "stream",
     "text": [
      " 71%|███████   | 178/250 [19:12<06:10,  5.15s/it]"
     ]
    },
    {
     "name": "stdout",
     "output_type": "stream",
     "text": [
      "🍩 https://wandb.ai/s-kishore/sft_dataset_creation/r/call/0194150e-c475-7671-bf09-e075d2cd579d\n",
      "Processing query: In what manner does Professor Rachlin, John assess students' performance?\n",
      "Retrieving course information and reviews...\n",
      "Processing query: In what manner does Professor Rachlin, John assess students' performance?\n",
      "Retrieving relevant course information...\n",
      "Cross-encoder reranking...\n",
      "Successfully reranked 10 documents\n",
      "Retrieving\n",
      "Reranking\n",
      "Combining and reranking all documents...\n",
      "Successfully reranked 10 combined documents\n",
      "Generating integrated response...\n"
     ]
    },
    {
     "name": "stderr",
     "output_type": "stream",
     "text": [
      " 72%|███████▏  | 179/250 [19:16<05:42,  4.82s/it]"
     ]
    },
    {
     "name": "stdout",
     "output_type": "stream",
     "text": [
      "🍩 https://wandb.ai/s-kishore/sft_dataset_creation/r/call/0194150e-dde2-7572-bfc7-be53c4f7a426\n",
      "Processing query: Has the Information Retrieval course been taught before? If so, what kind of feedback did students give regarding the course content and delivery?\n",
      "Retrieving course information and reviews...\n",
      "Processing query: Has the Information Retrieval course been taught before? If so, what kind of feedback did students give regarding the course content and delivery?\n",
      "Retrieving relevant course information...\n",
      "Cross-encoder reranking...\n",
      "Successfully reranked 10 documents\n",
      "Retrieving\n",
      "Reranking\n",
      "Combining and reranking all documents...\n",
      "Successfully reranked 10 combined documents\n",
      "Generating integrated response...\n"
     ]
    },
    {
     "name": "stderr",
     "output_type": "stream",
     "text": [
      " 72%|███████▏  | 180/250 [19:27<07:52,  6.74s/it]"
     ]
    },
    {
     "name": "stdout",
     "output_type": "stream",
     "text": [
      "🍩 https://wandb.ai/s-kishore/sft_dataset_creation/r/call/0194150e-edc4-7df2-a3fa-d09d17026596\n",
      "Processing query: How do you think the course named 'Reinforcement Learning' is being received based on the reviews?\n",
      "Retrieving course information and reviews...\n",
      "Processing query: How do you think the course named 'Reinforcement Learning' is being received based on the reviews?\n",
      "Retrieving relevant course information...\n",
      "Cross-encoder reranking...\n",
      "Successfully reranked 10 documents\n",
      "Retrieving\n",
      "Reranking\n",
      "Combining and reranking all documents...\n",
      "Successfully reranked 10 combined documents\n",
      "Generating integrated response...\n"
     ]
    },
    {
     "name": "stderr",
     "output_type": "stream",
     "text": [
      " 72%|███████▏  | 181/250 [19:35<08:19,  7.24s/it]"
     ]
    },
    {
     "name": "stdout",
     "output_type": "stream",
     "text": [
      "🍩 https://wandb.ai/s-kishore/sft_dataset_creation/r/call/0194150f-199a-7cf1-8a2d-d98f05970ad5\n",
      "Processing query: Could you provide me with the class schedule for the Recitation section of CS5010?\n",
      "Retrieving course information and reviews...\n",
      "Processing query: Could you provide me with the class schedule for the Recitation section of CS5010?\n",
      "Retrieving relevant course information...\n",
      "Cross-encoder reranking...\n",
      "Successfully reranked 10 documents\n",
      "Retrieving\n",
      "Reranking\n",
      "Combining and reranking all documents...\n",
      "Successfully reranked 10 combined documents\n",
      "Generating integrated response...\n"
     ]
    },
    {
     "name": "stderr",
     "output_type": "stream",
     "text": [
      " 73%|███████▎  | 182/250 [19:40<07:19,  6.46s/it]"
     ]
    },
    {
     "name": "stdout",
     "output_type": "stream",
     "text": [
      "🍩 https://wandb.ai/s-kishore/sft_dataset_creation/r/call/0194150f-3a65-75f2-ae1a-719094af0e36\n",
      "Processing query: Can you share your thoughts on the difficulty of tackling the Computer Systems course?\n",
      "Retrieving course information and reviews...\n",
      "Processing query: Can you share your thoughts on the difficulty of tackling the Computer Systems course?\n",
      "Retrieving relevant course information...\n",
      "Cross-encoder reranking...\n",
      "Successfully reranked 10 documents\n",
      "Retrieving\n",
      "Reranking\n",
      "Combining and reranking all documents...\n",
      "Successfully reranked 10 combined documents\n",
      "Generating integrated response...\n"
     ]
    },
    {
     "name": "stderr",
     "output_type": "stream",
     "text": [
      " 73%|███████▎  | 183/250 [19:45<06:42,  6.01s/it]"
     ]
    },
    {
     "name": "stdout",
     "output_type": "stream",
     "text": [
      "🍩 https://wandb.ai/s-kishore/sft_dataset_creation/r/call/0194150f-4c97-7673-abf5-ac07f2da929d\n",
      "Processing query: How arduous do you find the Information Retrieval course to be?\n",
      "Retrieving course information and reviews...\n",
      "Processing query: How arduous do you find the Information Retrieval course to be?\n",
      "Retrieving relevant course information...\n",
      "Cross-encoder reranking...\n",
      "Successfully reranked 10 documents\n",
      "Retrieving\n",
      "Reranking\n",
      "Combining and reranking all documents...\n",
      "Successfully reranked 10 combined documents\n",
      "Generating integrated response...\n"
     ]
    },
    {
     "name": "stderr",
     "output_type": "stream",
     "text": [
      " 74%|███████▎  | 184/250 [19:52<07:03,  6.42s/it]"
     ]
    },
    {
     "name": "stdout",
     "output_type": "stream",
     "text": [
      "🍩 https://wandb.ai/s-kishore/sft_dataset_creation/r/call/0194150f-5ff0-7361-8bca-2543de327052\n",
      "Processing query: How does Professor Zhang, Hongyang determine the final grades for his/her classes?\n",
      "Retrieving course information and reviews...\n",
      "Processing query: How does Professor Zhang, Hongyang determine the final grades for his/her classes?\n",
      "Retrieving relevant course information...\n",
      "Cross-encoder reranking...\n",
      "Successfully reranked 10 documents\n",
      "Retrieving\n",
      "Reranking\n",
      "Combining and reranking all documents...\n",
      "Successfully reranked 10 combined documents\n",
      "Generating integrated response...\n"
     ]
    },
    {
     "name": "stderr",
     "output_type": "stream",
     "text": [
      " 74%|███████▍  | 185/250 [19:57<06:26,  5.95s/it]"
     ]
    },
    {
     "name": "stdout",
     "output_type": "stream",
     "text": [
      "🍩 https://wandb.ai/s-kishore/sft_dataset_creation/r/call/0194150f-7cbe-7e12-a011-d4065f5cab05\n",
      "Processing query: What professor covers the subject of Cloud Computing Fundamentals?\n",
      "Retrieving course information and reviews...\n",
      "Processing query: What professor covers the subject of Cloud Computing Fundamentals?\n",
      "Retrieving relevant course information...\n",
      "Cross-encoder reranking...\n",
      "Successfully reranked 10 documents\n",
      "Retrieving\n",
      "Reranking\n",
      "Combining and reranking all documents...\n",
      "Successfully reranked 10 combined documents\n",
      "Generating integrated response...\n"
     ]
    },
    {
     "name": "stderr",
     "output_type": "stream",
     "text": [
      " 74%|███████▍  | 186/250 [20:05<07:04,  6.63s/it]"
     ]
    },
    {
     "name": "stdout",
     "output_type": "stream",
     "text": [
      "🍩 https://wandb.ai/s-kishore/sft_dataset_creation/r/call/0194150f-8fb1-79d3-8e5f-38a66c1486ef\n",
      "Processing query: What factors does Professor Tan, Cheng take into account while grading students?\n",
      "Retrieving course information and reviews...\n",
      "Processing query: What factors does Professor Tan, Cheng take into account while grading students?\n",
      "Retrieving relevant course information...\n",
      "Cross-encoder reranking...\n",
      "Successfully reranked 10 documents\n",
      "Retrieving\n",
      "Reranking\n",
      "Combining and reranking all documents...\n",
      "Successfully reranked 10 combined documents\n",
      "Generating integrated response...\n"
     ]
    },
    {
     "name": "stderr",
     "output_type": "stream",
     "text": [
      " 75%|███████▍  | 187/250 [20:10<06:17,  5.99s/it]"
     ]
    },
    {
     "name": "stdout",
     "output_type": "stream",
     "text": [
      "🍩 https://wandb.ai/s-kishore/sft_dataset_creation/r/call/0194150f-afcb-75e1-92d5-6f51f2c101ca\n",
      "Processing query: Is there a record of the Database Management course being offered earlier? And if it was, could you outline the feedback given by the participants?\n",
      "Retrieving course information and reviews...\n",
      "Processing query: Is there a record of the Database Management course being offered earlier? And if it was, could you outline the feedback given by the participants?\n",
      "Retrieving relevant course information...\n",
      "Cross-encoder reranking...\n",
      "Successfully reranked 10 documents\n",
      "Retrieving\n",
      "Reranking\n",
      "Combining and reranking all documents...\n",
      "Successfully reranked 10 combined documents\n",
      "Generating integrated response...\n"
     ]
    },
    {
     "name": "stderr",
     "output_type": "stream",
     "text": [
      " 75%|███████▌  | 188/250 [20:18<06:55,  6.70s/it]"
     ]
    },
    {
     "name": "stdout",
     "output_type": "stream",
     "text": [
      "🍩 https://wandb.ai/s-kishore/sft_dataset_creation/r/call/0194150f-c15c-73f3-be16-c5d5fe4c15f1\n",
      "Processing query: In what manner does Professor Shelat, Abhi evaluate student performance?\n",
      "Retrieving course information and reviews...\n",
      "Processing query: In what manner does Professor Shelat, Abhi evaluate student performance?\n",
      "Retrieving relevant course information...\n",
      "Cross-encoder reranking...\n",
      "Successfully reranked 10 documents\n",
      "Retrieving\n",
      "Reranking\n",
      "Combining and reranking all documents...\n",
      "Successfully reranked 10 combined documents\n",
      "Generating integrated response...\n"
     ]
    },
    {
     "name": "stderr",
     "output_type": "stream",
     "text": [
      " 76%|███████▌  | 189/250 [20:23<06:20,  6.24s/it]"
     ]
    },
    {
     "name": "stdout",
     "output_type": "stream",
     "text": [
      "🍩 https://wandb.ai/s-kishore/sft_dataset_creation/r/call/0194150f-e201-76c2-b441-b0010b6cc37f\n",
      "Processing query: Could you provide information about prerequisites required for studying Pattern Recognition and Computer Vision?\n",
      "Retrieving course information and reviews...\n",
      "Processing query: Could you provide information about prerequisites required for studying Pattern Recognition and Computer Vision?\n",
      "Retrieving relevant course information...\n",
      "Cross-encoder reranking...\n",
      "Successfully reranked 10 documents\n",
      "Retrieving\n",
      "Reranking\n",
      "Combining and reranking all documents...\n",
      "Successfully reranked 10 combined documents\n",
      "Generating integrated response...\n"
     ]
    },
    {
     "name": "stderr",
     "output_type": "stream",
     "text": [
      " 76%|███████▌  | 190/250 [20:27<05:19,  5.32s/it]"
     ]
    },
    {
     "name": "stdout",
     "output_type": "stream",
     "text": [
      "🍩 https://wandb.ai/s-kishore/sft_dataset_creation/r/call/0194150f-f625-7740-b605-d69a2f736181\n",
      "Processing query: How does Professor Padilla, Lace handle the grading of assignments and exams?\n",
      "Retrieving course information and reviews...\n",
      "Processing query: How does Professor Padilla, Lace handle the grading of assignments and exams?\n",
      "Retrieving relevant course information...\n",
      "Cross-encoder reranking...\n",
      "Successfully reranked 10 documents\n",
      "Retrieving\n",
      "Reranking\n",
      "Combining and reranking all documents...\n",
      "Successfully reranked 10 combined documents\n",
      "Generating integrated response...\n"
     ]
    },
    {
     "name": "stderr",
     "output_type": "stream",
     "text": [
      " 76%|███████▋  | 191/250 [20:34<05:43,  5.83s/it]"
     ]
    },
    {
     "name": "stdout",
     "output_type": "stream",
     "text": [
      "🍩 https://wandb.ai/s-kishore/sft_dataset_creation/r/call/01941510-029a-7e02-8f97-25067202d5b9\n",
      "Processing query: Which subjects does Professor Jeongkyu Lee offer this semester?\n",
      "Retrieving course information and reviews...\n",
      "Processing query: Which subjects does Professor Jeongkyu Lee offer this semester?\n",
      "Retrieving relevant course information...\n",
      "Cross-encoder reranking...\n",
      "Successfully reranked 10 documents\n",
      "Retrieving\n",
      "Reranking\n",
      "Combining and reranking all documents...\n",
      "Successfully reranked 10 combined documents\n",
      "Generating integrated response...\n"
     ]
    },
    {
     "name": "stderr",
     "output_type": "stream",
     "text": [
      " 77%|███████▋  | 192/250 [20:38<05:12,  5.39s/it]"
     ]
    },
    {
     "name": "stdout",
     "output_type": "stream",
     "text": [
      "🍩 https://wandb.ai/s-kishore/sft_dataset_creation/r/call/01941510-1df1-7cc0-bb15-8acfe6cc5cb8\n",
      "Processing query: What prior knowledge is essential before embarking on a study of Deep Learning?\n",
      "Retrieving course information and reviews...\n",
      "Processing query: What prior knowledge is essential before embarking on a study of Deep Learning?\n",
      "Retrieving relevant course information...\n",
      "Cross-encoder reranking...\n",
      "Successfully reranked 10 documents\n",
      "Retrieving\n",
      "Reranking\n",
      "Combining and reranking all documents...\n",
      "Successfully reranked 10 combined documents\n",
      "Generating integrated response...\n"
     ]
    },
    {
     "name": "stderr",
     "output_type": "stream",
     "text": [
      " 77%|███████▋  | 193/250 [20:46<05:44,  6.04s/it]"
     ]
    },
    {
     "name": "stdout",
     "output_type": "stream",
     "text": [
      "🍩 https://wandb.ai/s-kishore/sft_dataset_creation/r/call/01941510-2f17-7971-b4f9-fbda7a4510d9\n",
      "Processing query: In the Information Retrieval course, what are the scheduled meeting times?\n",
      "Retrieving course information and reviews...\n",
      "Processing query: In the Information Retrieval course, what are the scheduled meeting times?\n",
      "Retrieving relevant course information...\n",
      "Cross-encoder reranking...\n",
      "Successfully reranked 10 documents\n",
      "Retrieving\n",
      "Reranking\n",
      "Combining and reranking all documents...\n",
      "Successfully reranked 10 combined documents\n",
      "Generating integrated response...\n"
     ]
    },
    {
     "name": "stderr",
     "output_type": "stream",
     "text": [
      " 78%|███████▊  | 194/250 [20:51<05:21,  5.74s/it]"
     ]
    },
    {
     "name": "stdout",
     "output_type": "stream",
     "text": [
      "🍩 https://wandb.ai/s-kishore/sft_dataset_creation/r/call/01941510-4c98-7853-80cd-7ade94258972\n",
      "Processing query: From the reviews, what do you reckon about the quality of recitations in CS5010?\n",
      "Retrieving course information and reviews...\n",
      "Processing query: From the reviews, what do you reckon about the quality of recitations in CS5010?\n",
      "Retrieving relevant course information...\n",
      "Cross-encoder reranking...\n",
      "Successfully reranked 10 documents\n",
      "Retrieving\n",
      "Reranking\n",
      "Combining and reranking all documents...\n",
      "Successfully reranked 10 combined documents\n",
      "Generating integrated response...\n"
     ]
    },
    {
     "name": "stderr",
     "output_type": "stream",
     "text": [
      " 78%|███████▊  | 195/250 [20:55<04:58,  5.43s/it]"
     ]
    },
    {
     "name": "stdout",
     "output_type": "stream",
     "text": [
      "🍩 https://wandb.ai/s-kishore/sft_dataset_creation/r/call/01941510-6045-7941-a7e1-30c14483aad3\n",
      "Processing query: What are the general opinions about the course 'Data Mining Techniques' according to the reviews?\n",
      "Retrieving course information and reviews...\n",
      "Processing query: What are the general opinions about the course 'Data Mining Techniques' according to the reviews?\n",
      "Retrieving relevant course information...\n",
      "Cross-encoder reranking...\n",
      "Successfully reranked 10 documents\n",
      "Retrieving\n",
      "Reranking\n",
      "Combining and reranking all documents...\n",
      "Successfully reranked 10 combined documents\n",
      "Generating integrated response...\n"
     ]
    },
    {
     "name": "stderr",
     "output_type": "stream",
     "text": [
      " 78%|███████▊  | 196/250 [20:59<04:32,  5.05s/it]"
     ]
    },
    {
     "name": "stdout",
     "output_type": "stream",
     "text": [
      "🍩 https://wandb.ai/s-kishore/sft_dataset_creation/r/call/01941510-72a3-7b42-b72c-1a66a95b1860\n",
      "Processing query: What are the time slots available for the Web Development course?\n",
      "Retrieving course information and reviews...\n",
      "Processing query: What are the time slots available for the Web Development course?\n",
      "Retrieving relevant course information...\n",
      "Cross-encoder reranking...\n",
      "Successfully reranked 10 documents\n",
      "Retrieving\n",
      "Reranking\n",
      "Combining and reranking all documents...\n",
      "Successfully reranked 10 combined documents\n",
      "Generating integrated response...\n"
     ]
    },
    {
     "name": "stderr",
     "output_type": "stream",
     "text": [
      " 79%|███████▉  | 197/250 [21:10<05:55,  6.70s/it]"
     ]
    },
    {
     "name": "stdout",
     "output_type": "stream",
     "text": [
      "🍩 https://wandb.ai/s-kishore/sft_dataset_creation/r/call/01941510-82f2-7ac3-98e2-2c527dfaf969\n",
      "Processing query: Could you share your experience with the complexity of the Discrete Structures course?\n",
      "Retrieving course information and reviews...\n",
      "Processing query: Could you share your experience with the complexity of the Discrete Structures course?\n",
      "Retrieving relevant course information...\n",
      "Cross-encoder reranking...\n",
      "Successfully reranked 10 documents\n",
      "Retrieving\n",
      "Reranking\n",
      "Combining and reranking all documents...\n",
      "Successfully reranked 10 combined documents\n",
      "Generating integrated response...\n"
     ]
    },
    {
     "name": "stderr",
     "output_type": "stream",
     "text": [
      " 79%|███████▉  | 198/250 [21:15<05:27,  6.30s/it]"
     ]
    },
    {
     "name": "stdout",
     "output_type": "stream",
     "text": [
      "🍩 https://wandb.ai/s-kishore/sft_dataset_creation/r/call/01941510-ac31-7cf3-9777-189369815bb3\n",
      "Processing query: What difficulties can one expect when enrolling in the Object-Oriented Design course?\n",
      "Retrieving course information and reviews...\n",
      "Processing query: What difficulties can one expect when enrolling in the Object-Oriented Design course?\n",
      "Retrieving relevant course information...\n",
      "Cross-encoder reranking...\n",
      "Successfully reranked 10 documents\n",
      "Retrieving\n",
      "Reranking\n",
      "Combining and reranking all documents...\n",
      "Successfully reranked 10 combined documents\n",
      "Generating integrated response...\n"
     ]
    },
    {
     "name": "stderr",
     "output_type": "stream",
     "text": [
      " 80%|███████▉  | 199/250 [21:23<05:38,  6.64s/it]"
     ]
    },
    {
     "name": "stdout",
     "output_type": "stream",
     "text": [
      "🍩 https://wandb.ai/s-kishore/sft_dataset_creation/r/call/01941510-c123-7ed2-a15c-c8a9c8120f94\n",
      "Processing query: Can you provide details on the courses that Professor Rosen, David, is supervising?\n",
      "Retrieving course information and reviews...\n",
      "Processing query: Can you provide details on the courses that Professor Rosen, David, is supervising?\n",
      "Retrieving relevant course information...\n",
      "Cross-encoder reranking...\n",
      "Successfully reranked 10 documents\n",
      "Retrieving\n",
      "Reranking\n",
      "Combining and reranking all documents...\n",
      "Successfully reranked 10 combined documents\n",
      "Generating integrated response...\n"
     ]
    },
    {
     "name": "stderr",
     "output_type": "stream",
     "text": [
      " 80%|████████  | 200/250 [21:27<05:00,  6.02s/it]"
     ]
    },
    {
     "name": "stdout",
     "output_type": "stream",
     "text": [
      "🍩 https://wandb.ai/s-kishore/sft_dataset_creation/r/call/01941510-de33-7dd2-9466-aa84d33117ad\n",
      "Processing query: Could you provide information on whether the Computer Systems course was previously offered and what were the student reviews like?\n",
      "Retrieving course information and reviews...\n",
      "Processing query: Could you provide information on whether the Computer Systems course was previously offered and what were the student reviews like?\n",
      "Retrieving relevant course information...\n",
      "Cross-encoder reranking...\n",
      "Successfully reranked 10 documents\n",
      "Retrieving\n",
      "Reranking\n",
      "Combining and reranking all documents...\n",
      "Successfully reranked 10 combined documents\n",
      "Generating integrated response...\n"
     ]
    },
    {
     "name": "stderr",
     "output_type": "stream",
     "text": [
      " 80%|████████  | 201/250 [21:36<05:30,  6.74s/it]"
     ]
    },
    {
     "name": "stdout",
     "output_type": "stream",
     "text": [
      "🍩 https://wandb.ai/s-kishore/sft_dataset_creation/r/call/01941510-f000-7a61-98ce-1a757998c581\n",
      "Processing query: In what way is the difficulty of the Compilers course significant?\n",
      "Retrieving course information and reviews...\n",
      "Processing query: In what way is the difficulty of the Compilers course significant?\n",
      "Retrieving relevant course information...\n",
      "Cross-encoder reranking...\n",
      "Successfully reranked 10 documents\n",
      "Retrieving\n",
      "Reranking\n",
      "Combining and reranking all documents...\n",
      "Successfully reranked 10 combined documents\n",
      "Generating integrated response...\n"
     ]
    },
    {
     "name": "stderr",
     "output_type": "stream",
     "text": [
      " 81%|████████  | 202/250 [21:39<04:31,  5.65s/it]"
     ]
    },
    {
     "name": "stdout",
     "output_type": "stream",
     "text": [
      "🍩 https://wandb.ai/s-kishore/sft_dataset_creation/r/call/01941511-10dd-7d53-b22e-04dbaa81db76\n",
      "Processing query: Professor Durant has been assigned to grade Kathleen's submissions. Could you share your observations on how he/she approaches this task?\n",
      "Retrieving course information and reviews...\n",
      "Processing query: Professor Durant has been assigned to grade Kathleen's submissions. Could you share your observations on how he/she approaches this task?\n",
      "Retrieving relevant course information...\n",
      "Cross-encoder reranking...\n",
      "Successfully reranked 10 documents\n",
      "Retrieving\n",
      "Reranking\n",
      "Combining and reranking all documents...\n",
      "Successfully reranked 10 combined documents\n",
      "Generating integrated response...\n"
     ]
    },
    {
     "name": "stderr",
     "output_type": "stream",
     "text": [
      " 81%|████████  | 203/250 [21:44<04:18,  5.51s/it]"
     ]
    },
    {
     "name": "stdout",
     "output_type": "stream",
     "text": [
      "🍩 https://wandb.ai/s-kishore/sft_dataset_creation/r/call/01941511-1d04-7dd3-8b80-b5500bfb50bf\n",
      "Processing query: According to the testimonials, what is your assessment of the course 'Data Mining Techniques'?\n",
      "Retrieving course information and reviews...\n",
      "Processing query: According to the testimonials, what is your assessment of the course 'Data Mining Techniques'?\n",
      "Retrieving relevant course information...\n",
      "Cross-encoder reranking...\n",
      "Successfully reranked 10 documents\n",
      "Retrieving\n",
      "Reranking\n",
      "Combining and reranking all documents...\n",
      "Successfully reranked 10 combined documents\n",
      "Generating integrated response...\n"
     ]
    },
    {
     "name": "stderr",
     "output_type": "stream",
     "text": [
      " 82%|████████▏ | 204/250 [21:53<04:58,  6.48s/it]"
     ]
    },
    {
     "name": "stdout",
     "output_type": "stream",
     "text": [
      "🍩 https://wandb.ai/s-kishore/sft_dataset_creation/r/call/01941511-313d-7722-8e5a-5208a129cf0a\n",
      "Processing query: Is there any information about the past offering of Mobile Application Development course? Could you include some reviews if available?\n",
      "Retrieving course information and reviews...\n",
      "Processing query: Is there any information about the past offering of Mobile Application Development course? Could you include some reviews if available?\n",
      "Retrieving relevant course information...\n",
      "Cross-encoder reranking...\n",
      "Successfully reranked 10 documents\n",
      "Retrieving\n",
      "Reranking\n",
      "Combining and reranking all documents...\n",
      "Successfully reranked 10 combined documents\n",
      "Generating integrated response...\n"
     ]
    },
    {
     "name": "stderr",
     "output_type": "stream",
     "text": [
      " 82%|████████▏ | 205/250 [22:04<06:01,  8.03s/it]"
     ]
    },
    {
     "name": "stdout",
     "output_type": "stream",
     "text": [
      "🍩 https://wandb.ai/s-kishore/sft_dataset_creation/r/call/01941511-5370-7d30-8321-d1b9d2ef2ec9\n",
      "Processing query: Which professor is currently instructing the Data Mining Techniques module?\n",
      "Retrieving course information and reviews...\n",
      "Processing query: Which professor is currently instructing the Data Mining Techniques module?\n",
      "Retrieving relevant course information...\n",
      "Cross-encoder reranking...\n",
      "Successfully reranked 10 documents\n",
      "Retrieving\n",
      "Reranking\n",
      "Combining and reranking all documents...\n",
      "Successfully reranked 10 combined documents\n",
      "Generating integrated response...\n"
     ]
    },
    {
     "name": "stderr",
     "output_type": "stream",
     "text": [
      " 82%|████████▏ | 206/250 [22:06<04:28,  6.11s/it]"
     ]
    },
    {
     "name": "stdout",
     "output_type": "stream",
     "text": [
      "🍩 https://wandb.ai/s-kishore/sft_dataset_creation/r/call/01941511-80ed-76f3-a025-84fc4e122e4c\n",
      "Processing query: What topics does Professor Charles Haycook cover in his lectures?\n",
      "Retrieving course information and reviews...\n",
      "Processing query: What topics does Professor Charles Haycook cover in his lectures?\n",
      "Retrieving relevant course information...\n",
      "Cross-encoder reranking...\n",
      "Successfully reranked 10 documents\n",
      "Retrieving\n",
      "Reranking\n",
      "Combining and reranking all documents...\n",
      "Successfully reranked 10 combined documents\n",
      "Generating integrated response...\n"
     ]
    },
    {
     "name": "stderr",
     "output_type": "stream",
     "text": [
      " 83%|████████▎ | 207/250 [22:10<04:00,  5.59s/it]"
     ]
    },
    {
     "name": "stdout",
     "output_type": "stream",
     "text": [
      "🍩 https://wandb.ai/s-kishore/sft_dataset_creation/r/call/01941511-874f-74e2-9619-0775555b70c7\n",
      "Processing query: Has the Database Management course been taught before? And if so, what were the overall opinions shared by the students who attended?\n",
      "Retrieving course information and reviews...\n",
      "Processing query: Has the Database Management course been taught before? And if so, what were the overall opinions shared by the students who attended?\n",
      "Retrieving relevant course information...\n",
      "Cross-encoder reranking...\n",
      "Successfully reranked 10 documents\n",
      "Retrieving\n",
      "Reranking\n",
      "Combining and reranking all documents...\n",
      "Successfully reranked 10 combined documents\n",
      "Generating integrated response...\n"
     ]
    },
    {
     "name": "stderr",
     "output_type": "stream",
     "text": [
      " 83%|████████▎ | 208/250 [22:19<04:36,  6.59s/it]"
     ]
    },
    {
     "name": "stdout",
     "output_type": "stream",
     "text": [
      "🍩 https://wandb.ai/s-kishore/sft_dataset_creation/r/call/01941511-985f-7c32-b52f-bcf566bc3926\n",
      "Processing query: Has the Natural Language Processing course been delivered before? If it has, what kind of feedback did the students give?\n",
      "Retrieving course information and reviews...\n",
      "Processing query: Has the Natural Language Processing course been delivered before? If it has, what kind of feedback did the students give?\n",
      "Retrieving relevant course information...\n",
      "Cross-encoder reranking...\n",
      "Successfully reranked 10 documents\n",
      "Retrieving\n",
      "Reranking\n",
      "Combining and reranking all documents...\n",
      "Successfully reranked 10 combined documents\n",
      "Generating integrated response...\n"
     ]
    },
    {
     "name": "stderr",
     "output_type": "stream",
     "text": [
      " 84%|████████▎ | 209/250 [22:28<04:59,  7.31s/it]"
     ]
    },
    {
     "name": "stdout",
     "output_type": "stream",
     "text": [
      "🍩 https://wandb.ai/s-kishore/sft_dataset_creation/r/call/01941511-bb48-7f83-8e14-ef008a8afc53\n",
      "Processing query: Are there certain classes one must take before starting a Compilers course?\n",
      "Retrieving course information and reviews...\n",
      "Processing query: Are there certain classes one must take before starting a Compilers course?\n",
      "Retrieving relevant course information...\n",
      "Cross-encoder reranking...\n",
      "Successfully reranked 10 documents\n",
      "Retrieving\n",
      "Reranking\n",
      "Combining and reranking all documents...\n",
      "Successfully reranked 10 combined documents\n",
      "Generating integrated response...\n"
     ]
    },
    {
     "name": "stderr",
     "output_type": "stream",
     "text": [
      " 84%|████████▍ | 210/250 [22:33<04:23,  6.58s/it]"
     ]
    },
    {
     "name": "stdout",
     "output_type": "stream",
     "text": [
      "🍩 https://wandb.ai/s-kishore/sft_dataset_creation/r/call/01941511-de68-7a70-bfe2-5cb53531c5ea\n",
      "Processing query: Which educator is giving the lectures for the Information Retrieval course?\n",
      "Retrieving course information and reviews...\n",
      "Processing query: Which educator is giving the lectures for the Information Retrieval course?\n",
      "Retrieving relevant course information...\n",
      "Cross-encoder reranking...\n",
      "Successfully reranked 10 documents\n",
      "Retrieving\n",
      "Reranking\n",
      "Combining and reranking all documents...\n",
      "Successfully reranked 10 combined documents\n",
      "Generating integrated response...\n"
     ]
    },
    {
     "name": "stderr",
     "output_type": "stream",
     "text": [
      " 84%|████████▍ | 211/250 [22:37<03:41,  5.67s/it]"
     ]
    },
    {
     "name": "stdout",
     "output_type": "stream",
     "text": [
      "🍩 https://wandb.ai/s-kishore/sft_dataset_creation/r/call/01941511-f15e-7dc0-a78b-22bebf054927\n",
      "Processing query: Could you evaluate the Computer/Human Interaction course using the information given in the reviews?\n",
      "Retrieving course information and reviews...\n",
      "Processing query: Could you evaluate the Computer/Human Interaction course using the information given in the reviews?\n",
      "Retrieving relevant course information...\n",
      "Cross-encoder reranking...\n",
      "Successfully reranked 10 documents\n",
      "Retrieving\n",
      "Reranking\n",
      "Combining and reranking all documents...\n",
      "Successfully reranked 10 combined documents\n",
      "Generating integrated response...\n"
     ]
    },
    {
     "name": "stderr",
     "output_type": "stream",
     "text": [
      " 85%|████████▍ | 212/250 [22:51<05:12,  8.22s/it]"
     ]
    },
    {
     "name": "stdout",
     "output_type": "stream",
     "text": [
      "🍩 https://wandb.ai/s-kishore/sft_dataset_creation/r/call/01941511-ff44-7770-aceb-45d4e09401ce\n",
      "Processing query: What courses are included in Professor Cross, Brian’s curriculum?\n",
      "Retrieving course information and reviews...\n",
      "Processing query: What courses are included in Professor Cross, Brian’s curriculum?\n",
      "Retrieving relevant course information...\n",
      "Cross-encoder reranking...\n",
      "Successfully reranked 10 documents\n",
      "Retrieving\n",
      "Reranking\n",
      "Combining and reranking all documents...\n",
      "Successfully reranked 10 combined documents\n",
      "Generating integrated response...\n"
     ]
    },
    {
     "name": "stderr",
     "output_type": "stream",
     "text": [
      " 85%|████████▌ | 213/250 [22:59<04:59,  8.10s/it]"
     ]
    },
    {
     "name": "stdout",
     "output_type": "stream",
     "text": [
      "🍩 https://wandb.ai/s-kishore/sft_dataset_creation/r/call/01941512-3693-7730-840a-af9d1148db57\n",
      "Processing query: In what courses does Professor Smith, David, hold his lectures?\n",
      "Retrieving course information and reviews...\n",
      "Processing query: In what courses does Professor Smith, David, hold his lectures?\n",
      "Retrieving relevant course information...\n",
      "Cross-encoder reranking...\n",
      "Successfully reranked 10 documents\n",
      "Retrieving\n",
      "Reranking\n",
      "Combining and reranking all documents...\n",
      "Successfully reranked 10 combined documents\n",
      "Generating integrated response...\n"
     ]
    },
    {
     "name": "stderr",
     "output_type": "stream",
     "text": [
      " 86%|████████▌ | 214/250 [23:02<03:58,  6.64s/it]"
     ]
    },
    {
     "name": "stdout",
     "output_type": "stream",
     "text": [
      "🍩 https://wandb.ai/s-kishore/sft_dataset_creation/r/call/01941512-5538-7671-bd9d-3de24aedd49a\n",
      "Processing query: Could you provide insights into how Professor Bockmon grades assignments?\n",
      "Retrieving course information and reviews...\n",
      "Processing query: Could you provide insights into how Professor Bockmon grades assignments?\n",
      "Retrieving relevant course information...\n",
      "Cross-encoder reranking...\n",
      "Successfully reranked 10 documents\n",
      "Retrieving\n",
      "Reranking\n",
      "Combining and reranking all documents...\n",
      "Successfully reranked 10 combined documents\n",
      "Generating integrated response...\n"
     ]
    },
    {
     "name": "stderr",
     "output_type": "stream",
     "text": [
      " 86%|████████▌ | 215/250 [23:06<03:24,  5.83s/it]"
     ]
    },
    {
     "name": "stdout",
     "output_type": "stream",
     "text": [
      "🍩 https://wandb.ai/s-kishore/sft_dataset_creation/r/call/01941512-61c5-7423-b7af-3b1ecc262ea1\n",
      "Processing query: Professor Li, Tianshi teaches several subjects, could you list them?\n",
      "Retrieving course information and reviews...\n",
      "Processing query: Professor Li, Tianshi teaches several subjects, could you list them?\n",
      "Retrieving relevant course information...\n",
      "Cross-encoder reranking...\n",
      "Successfully reranked 10 documents\n",
      "Retrieving\n",
      "Reranking\n",
      "Combining and reranking all documents...\n",
      "Successfully reranked 10 combined documents\n",
      "Generating integrated response...\n"
     ]
    },
    {
     "name": "stderr",
     "output_type": "stream",
     "text": [
      " 86%|████████▋ | 216/250 [23:11<03:13,  5.68s/it]"
     ]
    },
    {
     "name": "stdout",
     "output_type": "stream",
     "text": [
      "🍩 https://wandb.ai/s-kishore/sft_dataset_creation/r/call/01941512-712e-77d3-98d7-ff8ae1574659\n",
      "Processing query: Can you tell me who leads the Object-Oriented Design session?\n",
      "Retrieving course information and reviews...\n",
      "Processing query: Can you tell me who leads the Object-Oriented Design session?\n",
      "Retrieving relevant course information...\n",
      "Cross-encoder reranking...\n",
      "Successfully reranked 10 documents\n",
      "Retrieving\n",
      "Reranking\n",
      "Combining and reranking all documents...\n",
      "Successfully reranked 10 combined documents\n",
      "Generating integrated response...\n"
     ]
    },
    {
     "name": "stderr",
     "output_type": "stream",
     "text": [
      " 87%|████████▋ | 217/250 [23:18<03:14,  5.90s/it]"
     ]
    },
    {
     "name": "stdout",
     "output_type": "stream",
     "text": [
      "🍩 https://wandb.ai/s-kishore/sft_dataset_creation/r/call/01941512-860d-7432-852f-042a021706a9\n",
      "Processing query: What is the perceived difficulty of taking the Algorithms class?\n",
      "Retrieving course information and reviews...\n",
      "Processing query: What is the perceived difficulty of taking the Algorithms class?\n",
      "Retrieving relevant course information...\n",
      "Cross-encoder reranking...\n",
      "Successfully reranked 10 documents\n",
      "Retrieving\n",
      "Reranking\n",
      "Combining and reranking all documents...\n",
      "Successfully reranked 10 combined documents\n",
      "Generating integrated response...\n"
     ]
    },
    {
     "name": "stderr",
     "output_type": "stream",
     "text": [
      " 87%|████████▋ | 218/250 [23:24<03:12,  6.02s/it]"
     ]
    },
    {
     "name": "stdout",
     "output_type": "stream",
     "text": [
      "🍩 https://wandb.ai/s-kishore/sft_dataset_creation/r/call/01941512-9f0d-7001-8e7e-03cb099ac080\n",
      "Processing query: Could you give an overview of the grading policies implemented by Professor Sushmita and Shanu?\n",
      "Retrieving course information and reviews...\n",
      "Processing query: Could you give an overview of the grading policies implemented by Professor Sushmita and Shanu?\n",
      "Retrieving relevant course information...\n",
      "Cross-encoder reranking...\n",
      "Successfully reranked 10 documents\n",
      "Retrieving\n",
      "Reranking\n",
      "Combining and reranking all documents...\n",
      "Successfully reranked 10 combined documents\n",
      "Generating integrated response...\n"
     ]
    },
    {
     "name": "stderr",
     "output_type": "stream",
     "text": [
      " 88%|████████▊ | 219/250 [23:31<03:14,  6.29s/it]"
     ]
    },
    {
     "name": "stdout",
     "output_type": "stream",
     "text": [
      "🍩 https://wandb.ai/s-kishore/sft_dataset_creation/r/call/01941512-b7b0-7d62-9d7c-d32a1267047b\n",
      "Processing query: Is there a way to pursue education without having to sit for exams?\n",
      "Retrieving course information and reviews...\n",
      "Processing query: Is there a way to pursue education without having to sit for exams?\n",
      "Retrieving relevant course information...\n",
      "Cross-encoder reranking...\n",
      "Successfully reranked 10 documents\n",
      "Retrieving\n",
      "Reranking\n",
      "Combining and reranking all documents...\n",
      "Successfully reranked 10 combined documents\n",
      "Generating integrated response...\n"
     ]
    },
    {
     "name": "stderr",
     "output_type": "stream",
     "text": [
      " 88%|████████▊ | 220/250 [23:37<03:03,  6.11s/it]"
     ]
    },
    {
     "name": "stdout",
     "output_type": "stream",
     "text": [
      "🍩 https://wandb.ai/s-kishore/sft_dataset_creation/r/call/01941512-d2ad-7943-8130-ae9680d1a2a5\n",
      "Processing query: Professor Winslow, Raimond's method for evaluating assignments and awarding grades - any information would be appreciated.\n",
      "Retrieving course information and reviews...\n",
      "Processing query: Professor Winslow, Raimond's method for evaluating assignments and awarding grades - any information would be appreciated.\n",
      "Retrieving relevant course information...\n",
      "Cross-encoder reranking...\n",
      "Successfully reranked 10 documents\n",
      "Retrieving\n",
      "Reranking\n",
      "Combining and reranking all documents...\n",
      "Successfully reranked 10 combined documents\n",
      "Generating integrated response...\n"
     ]
    },
    {
     "name": "stderr",
     "output_type": "stream",
     "text": [
      " 88%|████████▊ | 221/250 [23:43<03:02,  6.31s/it]"
     ]
    },
    {
     "name": "stdout",
     "output_type": "stream",
     "text": [
      "🍩 https://wandb.ai/s-kishore/sft_dataset_creation/r/call/01941512-e8f0-70d0-ae64-e5d5e1d80763\n",
      "Processing query: Which subjects will be taught during the Spring 2025 session?\n",
      "Retrieving course information and reviews...\n",
      "Processing query: Which subjects will be taught during the Spring 2025 session?\n",
      "Retrieving relevant course information...\n",
      "Cross-encoder reranking...\n",
      "Successfully reranked 10 documents\n",
      "Retrieving\n",
      "Reranking\n",
      "Combining and reranking all documents...\n",
      "Successfully reranked 10 combined documents\n",
      "Generating integrated response...\n"
     ]
    },
    {
     "name": "stderr",
     "output_type": "stream",
     "text": [
      " 89%|████████▉ | 222/250 [23:49<02:50,  6.08s/it]"
     ]
    },
    {
     "name": "stdout",
     "output_type": "stream",
     "text": [
      "🍩 https://wandb.ai/s-kishore/sft_dataset_creation/r/call/01941513-0363-7db0-aaf2-5582a53dd454\n",
      "Processing query: Which subjects is Professor Aida Sharif Rohani currently instructing?\n",
      "Retrieving course information and reviews...\n",
      "Processing query: Which subjects is Professor Aida Sharif Rohani currently instructing?\n",
      "Retrieving relevant course information...\n",
      "Cross-encoder reranking...\n",
      "Successfully reranked 10 documents\n",
      "Retrieving\n",
      "Reranking\n",
      "Combining and reranking all documents...\n",
      "Successfully reranked 10 combined documents\n",
      "Generating integrated response...\n"
     ]
    },
    {
     "name": "stderr",
     "output_type": "stream",
     "text": [
      " 89%|████████▉ | 223/250 [24:00<03:22,  7.48s/it]"
     ]
    },
    {
     "name": "stdout",
     "output_type": "stream",
     "text": [
      "🍩 https://wandb.ai/s-kishore/sft_dataset_creation/r/call/01941513-1912-7811-b20a-fdaa38b3a408\n",
      "Processing query: Which academic programs does Professor Shesh, Amit offer?\n",
      "Retrieving course information and reviews...\n",
      "Processing query: Which academic programs does Professor Shesh, Amit offer?\n",
      "Retrieving relevant course information...\n",
      "Cross-encoder reranking...\n",
      "Successfully reranked 10 documents\n",
      "Retrieving\n",
      "Reranking\n",
      "Combining and reranking all documents...\n",
      "Successfully reranked 10 combined documents\n",
      "Generating integrated response...\n"
     ]
    },
    {
     "name": "stderr",
     "output_type": "stream",
     "text": [
      " 90%|████████▉ | 224/250 [24:04<02:53,  6.67s/it]"
     ]
    },
    {
     "name": "stdout",
     "output_type": "stream",
     "text": [
      "🍩 https://wandb.ai/s-kishore/sft_dataset_creation/r/call/01941513-4316-7f41-865e-516a58fc8c61\n",
      "Processing query: In what way does Aditya exemplify Professor Mishra's grading approach?\n",
      "Retrieving course information and reviews...\n",
      "Processing query: In what way does Aditya exemplify Professor Mishra's grading approach?\n",
      "Retrieving relevant course information...\n",
      "Cross-encoder reranking...\n",
      "Successfully reranked 10 documents\n",
      "Retrieving\n",
      "Reranking\n",
      "Combining and reranking all documents...\n",
      "Successfully reranked 10 combined documents\n",
      "Generating integrated response...\n"
     ]
    },
    {
     "name": "stderr",
     "output_type": "stream",
     "text": [
      " 90%|█████████ | 225/250 [24:10<02:34,  6.18s/it]"
     ]
    },
    {
     "name": "stdout",
     "output_type": "stream",
     "text": [
      "🍩 https://wandb.ai/s-kishore/sft_dataset_creation/r/call/01941513-55af-7513-9835-86f0236a6784\n",
      "Processing query: Does Discrete Structures require any specific previous studies?\n",
      "Retrieving course information and reviews...\n",
      "Processing query: Does Discrete Structures require any specific previous studies?\n",
      "Retrieving relevant course information...\n",
      "Cross-encoder reranking...\n",
      "Successfully reranked 10 documents\n",
      "Retrieving\n",
      "Reranking\n",
      "Combining and reranking all documents...\n",
      "Successfully reranked 10 combined documents\n",
      "Generating integrated response...\n"
     ]
    },
    {
     "name": "stderr",
     "output_type": "stream",
     "text": [
      " 90%|█████████ | 226/250 [24:13<02:07,  5.30s/it]"
     ]
    },
    {
     "name": "stdout",
     "output_type": "stream",
     "text": [
      "🍩 https://wandb.ai/s-kishore/sft_dataset_creation/r/call/01941513-6952-7371-a304-ce989cec8cd0\n",
      "Processing query: What kind of grading system does Professor Shesh, Amit use?\n",
      "Retrieving course information and reviews...\n",
      "Processing query: What kind of grading system does Professor Shesh, Amit use?\n",
      "Retrieving relevant course information...\n",
      "Cross-encoder reranking...\n",
      "Successfully reranked 10 documents\n",
      "Retrieving\n",
      "Reranking\n",
      "Combining and reranking all documents...\n",
      "Successfully reranked 10 combined documents\n",
      "Generating integrated response...\n"
     ]
    },
    {
     "name": "stderr",
     "output_type": "stream",
     "text": [
      " 91%|█████████ | 227/250 [24:16<01:45,  4.58s/it]"
     ]
    },
    {
     "name": "stdout",
     "output_type": "stream",
     "text": [
      "🍩 https://wandb.ai/s-kishore/sft_dataset_creation/r/call/01941513-7605-7931-aa5b-3a891e7cfaab\n",
      "Processing query: How can I ensure I meet the prerequisites for Fundamentals of Cloud Computing?\n",
      "Retrieving course information and reviews...\n",
      "Processing query: How can I ensure I meet the prerequisites for Fundamentals of Cloud Computing?\n",
      "Retrieving relevant course information...\n",
      "Cross-encoder reranking...\n",
      "Successfully reranked 10 documents\n",
      "Retrieving\n",
      "Reranking\n",
      "Combining and reranking all documents...\n",
      "Successfully reranked 10 combined documents\n",
      "Generating integrated response...\n"
     ]
    },
    {
     "name": "stderr",
     "output_type": "stream",
     "text": [
      " 91%|█████████ | 228/250 [24:21<01:45,  4.80s/it]"
     ]
    },
    {
     "name": "stdout",
     "output_type": "stream",
     "text": [
      "🍩 https://wandb.ai/s-kishore/sft_dataset_creation/r/call/01941513-8163-7c61-8c33-10db8722a36b\n",
      "Processing query: What are the scheduled periods for the class on the Foundations of Artificial Intelligence?\n",
      "Retrieving course information and reviews...\n",
      "Processing query: What are the scheduled periods for the class on the Foundations of Artificial Intelligence?\n",
      "Retrieving relevant course information...\n",
      "Cross-encoder reranking...\n",
      "Successfully reranked 10 documents\n",
      "Retrieving\n",
      "Reranking\n",
      "Combining and reranking all documents...\n",
      "Successfully reranked 10 combined documents\n",
      "Generating integrated response...\n"
     ]
    },
    {
     "name": "stderr",
     "output_type": "stream",
     "text": [
      " 92%|█████████▏| 229/250 [24:43<03:26,  9.83s/it]"
     ]
    },
    {
     "name": "stdout",
     "output_type": "stream",
     "text": [
      "🍩 https://wandb.ai/s-kishore/sft_dataset_creation/r/call/01941513-9616-7180-aeea-1665d2ef558d\n",
      "Processing query: Is there a list of necessary courses that must be finished before beginning the study of Information Retrieval?\n",
      "Retrieving course information and reviews...\n",
      "Processing query: Is there a list of necessary courses that must be finished before beginning the study of Information Retrieval?\n",
      "Retrieving relevant course information...\n",
      "Cross-encoder reranking...\n",
      "Successfully reranked 10 documents\n",
      "Retrieving\n",
      "Reranking\n",
      "Combining and reranking all documents...\n",
      "Successfully reranked 10 combined documents\n",
      "Generating integrated response...\n"
     ]
    },
    {
     "name": "stderr",
     "output_type": "stream",
     "text": [
      " 92%|█████████▏| 230/250 [24:47<02:46,  8.35s/it]"
     ]
    },
    {
     "name": "stdout",
     "output_type": "stream",
     "text": [
      "🍩 https://wandb.ai/s-kishore/sft_dataset_creation/r/call/01941513-ea58-7020-9a0a-85061bbfe209\n",
      "Processing query: Have there been instances where the Fundamentals of Cloud Computing course was offered? If yes, what are the reviews or feedback from participants?\n",
      "Retrieving course information and reviews...\n",
      "Processing query: Have there been instances where the Fundamentals of Cloud Computing course was offered? If yes, what are the reviews or feedback from participants?\n",
      "Retrieving relevant course information...\n",
      "Cross-encoder reranking...\n",
      "Successfully reranked 10 documents\n",
      "Retrieving\n",
      "Reranking\n",
      "Combining and reranking all documents...\n",
      "Successfully reranked 10 combined documents\n",
      "Generating integrated response...\n"
     ]
    },
    {
     "name": "stderr",
     "output_type": "stream",
     "text": [
      " 92%|█████████▏| 231/250 [24:56<02:41,  8.50s/it]"
     ]
    },
    {
     "name": "stdout",
     "output_type": "stream",
     "text": [
      "🍩 https://wandb.ai/s-kishore/sft_dataset_creation/r/call/01941513-fd76-7872-bb1b-6f497e79edca\n",
      "Processing query: Is there a set of prerequisites required for learning about Reinforcement Learning?\n",
      "Retrieving course information and reviews...\n",
      "Processing query: Is there a set of prerequisites required for learning about Reinforcement Learning?\n",
      "Retrieving relevant course information...\n",
      "Cross-encoder reranking...\n",
      "Successfully reranked 10 documents\n",
      "Retrieving\n",
      "Reranking\n",
      "Combining and reranking all documents...\n",
      "Successfully reranked 10 combined documents\n",
      "Generating integrated response...\n"
     ]
    },
    {
     "name": "stderr",
     "output_type": "stream",
     "text": [
      " 93%|█████████▎| 232/250 [25:21<03:59, 13.33s/it]"
     ]
    },
    {
     "name": "stdout",
     "output_type": "stream",
     "text": [
      "🍩 https://wandb.ai/s-kishore/sft_dataset_creation/r/call/01941514-201c-7da1-8254-970b0c3c70d8\n",
      "Processing query: Do you consider the Natural Language Processing course to be challenging?\n",
      "Retrieving course information and reviews...\n",
      "Processing query: Do you consider the Natural Language Processing course to be challenging?\n",
      "Retrieving relevant course information...\n",
      "Cross-encoder reranking...\n",
      "Successfully reranked 10 documents\n",
      "Retrieving\n",
      "Reranking\n",
      "Combining and reranking all documents...\n",
      "Successfully reranked 10 combined documents\n",
      "Generating integrated response...\n"
     ]
    },
    {
     "name": "stderr",
     "output_type": "stream",
     "text": [
      " 93%|█████████▎| 233/250 [25:25<02:59, 10.57s/it]"
     ]
    },
    {
     "name": "stdout",
     "output_type": "stream",
     "text": [
      "🍩 https://wandb.ai/s-kishore/sft_dataset_creation/r/call/01941514-802d-77a2-8dea-a3338d43bfed\n",
      "Processing query: Could you tell me which instructor is teaching the class on Natural Language Processing?\n",
      "Retrieving course information and reviews...\n",
      "Processing query: Could you tell me which instructor is teaching the class on Natural Language Processing?\n",
      "Retrieving relevant course information...\n",
      "Cross-encoder reranking...\n",
      "Successfully reranked 10 documents\n",
      "Retrieving\n",
      "Reranking\n",
      "Combining and reranking all documents...\n",
      "Successfully reranked 10 combined documents\n",
      "Generating integrated response...\n"
     ]
    },
    {
     "name": "stderr",
     "output_type": "stream",
     "text": [
      " 94%|█████████▎| 234/250 [25:27<02:08,  8.05s/it]"
     ]
    },
    {
     "name": "stdout",
     "output_type": "stream",
     "text": [
      "🍩 https://wandb.ai/s-kishore/sft_dataset_creation/r/call/01941514-9044-7032-b618-e85b73ebda03\n",
      "Processing query: Professor Alikhani, Malihe is known for her expertise. Could you tell me about the courses she currently teaches?\n",
      "Retrieving course information and reviews...\n",
      "Processing query: Professor Alikhani, Malihe is known for her expertise. Could you tell me about the courses she currently teaches?\n",
      "Retrieving relevant course information...\n",
      "Cross-encoder reranking...\n",
      "Successfully reranked 10 documents\n",
      "Retrieving\n",
      "Reranking\n",
      "Combining and reranking all documents...\n",
      "Successfully reranked 10 combined documents\n",
      "Generating integrated response...\n"
     ]
    },
    {
     "name": "stderr",
     "output_type": "stream",
     "text": [
      " 94%|█████████▍| 235/250 [25:32<01:44,  6.95s/it]"
     ]
    },
    {
     "name": "stdout",
     "output_type": "stream",
     "text": [
      "🍩 https://wandb.ai/s-kishore/sft_dataset_creation/r/call/01941514-98d1-7850-9b6b-fe120b452db1\n",
      "Processing query: What's Professor Shesh, Amit's reputation for grading like?\n",
      "Retrieving course information and reviews...\n",
      "Processing query: What's Professor Shesh, Amit's reputation for grading like?\n",
      "Retrieving relevant course information...\n",
      "Cross-encoder reranking...\n",
      "Successfully reranked 10 documents\n",
      "Retrieving\n",
      "Reranking\n",
      "Combining and reranking all documents...\n",
      "Successfully reranked 10 combined documents\n",
      "Generating integrated response...\n"
     ]
    },
    {
     "name": "stderr",
     "output_type": "stream",
     "text": [
      " 94%|█████████▍| 236/250 [25:35<01:23,  5.98s/it]"
     ]
    },
    {
     "name": "stdout",
     "output_type": "stream",
     "text": [
      "🍩 https://wandb.ai/s-kishore/sft_dataset_creation/r/call/01941514-a9f6-7083-a751-4df673865163\n",
      "Processing query: Could you provide insights into how Professor Schedlbauer, Martin evaluates student performance?\n",
      "Retrieving course information and reviews...\n",
      "Processing query: Could you provide insights into how Professor Schedlbauer, Martin evaluates student performance?\n",
      "Retrieving relevant course information...\n",
      "Cross-encoder reranking...\n",
      "Successfully reranked 10 documents\n",
      "Retrieving\n",
      "Reranking\n",
      "Combining and reranking all documents...\n",
      "Successfully reranked 10 combined documents\n",
      "Generating integrated response...\n"
     ]
    },
    {
     "name": "stderr",
     "output_type": "stream",
     "text": [
      " 95%|█████████▍| 237/250 [25:41<01:17,  5.94s/it]"
     ]
    },
    {
     "name": "stdout",
     "output_type": "stream",
     "text": [
      "🍩 https://wandb.ai/s-kishore/sft_dataset_creation/r/call/01941514-b862-70c1-b80b-daa42106e33c\n",
      "Processing query: Which professor is giving the lectures for the course called 'Fundamentals of Cloud Computing'?\n",
      "Retrieving course information and reviews...\n",
      "Processing query: Which professor is giving the lectures for the course called 'Fundamentals of Cloud Computing'?\n",
      "Retrieving relevant course information...\n",
      "Cross-encoder reranking...\n",
      "Successfully reranked 10 documents\n",
      "Retrieving\n",
      "Reranking\n",
      "Combining and reranking all documents...\n",
      "Successfully reranked 10 combined documents\n",
      "Generating integrated response...\n"
     ]
    },
    {
     "name": "stderr",
     "output_type": "stream",
     "text": [
      " 95%|█████████▌| 238/250 [25:43<00:56,  4.75s/it]"
     ]
    },
    {
     "name": "stdout",
     "output_type": "stream",
     "text": [
      "🍩 https://wandb.ai/s-kishore/sft_dataset_creation/r/call/01941514-cf3e-7a33-b652-a5cd9330a838\n",
      "Processing query: What subjects are Professor Gene Cooperman's students studying under his guidance?\n",
      "Retrieving course information and reviews...\n",
      "Processing query: What subjects are Professor Gene Cooperman's students studying under his guidance?\n",
      "Retrieving relevant course information...\n",
      "Cross-encoder reranking...\n",
      "Successfully reranked 10 documents\n",
      "Retrieving\n",
      "Reranking\n",
      "Combining and reranking all documents...\n",
      "Successfully reranked 10 combined documents\n",
      "Generating integrated response...\n"
     ]
    },
    {
     "name": "stderr",
     "output_type": "stream",
     "text": [
      " 96%|█████████▌| 239/250 [25:49<00:56,  5.16s/it]"
     ]
    },
    {
     "name": "stdout",
     "output_type": "stream",
     "text": [
      "🍩 https://wandb.ai/s-kishore/sft_dataset_creation/r/call/01941514-d6eb-7461-95bd-6bb6eb244bb1\n",
      "Processing query: Has the 'Deep Learning' course been conducted earlier? If yes, what kind of feedback did the students give?\n",
      "Retrieving course information and reviews...\n",
      "Processing query: Has the 'Deep Learning' course been conducted earlier? If yes, what kind of feedback did the students give?\n",
      "Retrieving relevant course information...\n",
      "Cross-encoder reranking...\n",
      "Successfully reranked 10 documents\n",
      "Retrieving\n",
      "Reranking\n",
      "Combining and reranking all documents...\n",
      "Successfully reranked 10 combined documents\n",
      "Generating integrated response...\n"
     ]
    },
    {
     "name": "stderr",
     "output_type": "stream",
     "text": [
      " 96%|█████████▌| 240/250 [25:59<01:06,  6.66s/it]"
     ]
    },
    {
     "name": "stdout",
     "output_type": "stream",
     "text": [
      "🍩 https://wandb.ai/s-kishore/sft_dataset_creation/r/call/01941514-eed4-7353-9c42-1ceeec755be7\n",
      "Processing query: When do the classes for Web Development start?\n",
      "Retrieving course information and reviews...\n",
      "Processing query: When do the classes for Web Development start?\n",
      "Retrieving relevant course information...\n",
      "Cross-encoder reranking...\n",
      "Successfully reranked 10 documents\n",
      "Retrieving\n",
      "Reranking\n",
      "Combining and reranking all documents...\n",
      "Successfully reranked 10 combined documents\n",
      "Generating integrated response...\n"
     ]
    },
    {
     "name": "stderr",
     "output_type": "stream",
     "text": [
      " 96%|█████████▋| 241/250 [26:04<00:54,  6.08s/it]"
     ]
    },
    {
     "name": "stdout",
     "output_type": "stream",
     "text": [
      "🍩 https://wandb.ai/s-kishore/sft_dataset_creation/r/call/01941515-1681-7a00-91d6-aec7bcace002\n",
      "Processing query: Could you inform me if 'Foundations of Software Engineering' was ever given as a course? If so, what were the student evaluations like?\n",
      "Retrieving course information and reviews...\n",
      "Processing query: Could you inform me if 'Foundations of Software Engineering' was ever given as a course? If so, what were the student evaluations like?\n",
      "Retrieving relevant course information...\n",
      "Cross-encoder reranking...\n",
      "Successfully reranked 10 documents\n",
      "Retrieving\n",
      "Reranking\n",
      "Combining and reranking all documents...\n",
      "Successfully reranked 10 combined documents\n",
      "Generating integrated response...\n"
     ]
    },
    {
     "name": "stderr",
     "output_type": "stream",
     "text": [
      " 97%|█████████▋| 242/250 [26:11<00:51,  6.42s/it]"
     ]
    },
    {
     "name": "stdout",
     "output_type": "stream",
     "text": [
      "🍩 https://wandb.ai/s-kishore/sft_dataset_creation/r/call/01941515-28fc-7910-bc0d-ae22720e691f\n",
      "Processing query: What kind of background knowledge is essential before taking up Machine Learning?\n",
      "Retrieving course information and reviews...\n",
      "Processing query: What kind of background knowledge is essential before taking up Machine Learning?\n",
      "Retrieving relevant course information...\n",
      "Cross-encoder reranking...\n",
      "Successfully reranked 10 documents\n",
      "Retrieving\n",
      "Reranking\n",
      "Combining and reranking all documents...\n",
      "Successfully reranked 10 combined documents\n",
      "Generating integrated response...\n"
     ]
    },
    {
     "name": "stderr",
     "output_type": "stream",
     "text": [
      " 97%|█████████▋| 243/250 [26:16<00:40,  5.75s/it]"
     ]
    },
    {
     "name": "stdout",
     "output_type": "stream",
     "text": [
      "🍩 https://wandb.ai/s-kishore/sft_dataset_creation/r/call/01941515-451a-7cf1-a64b-f1448f21ca75\n",
      "Processing query: How arduous is the process of learning from the Foundations of Software Engineering course?\n",
      "Retrieving course information and reviews...\n",
      "Processing query: How arduous is the process of learning from the Foundations of Software Engineering course?\n",
      "Retrieving relevant course information...\n",
      "Cross-encoder reranking...\n",
      "Successfully reranked 10 documents\n",
      "Retrieving\n",
      "Reranking\n",
      "Combining and reranking all documents...\n",
      "Successfully reranked 10 combined documents\n",
      "Generating integrated response...\n"
     ]
    },
    {
     "name": "stderr",
     "output_type": "stream",
     "text": [
      " 98%|█████████▊| 244/250 [26:23<00:36,  6.16s/it]"
     ]
    },
    {
     "name": "stdout",
     "output_type": "stream",
     "text": [
      "🍩 https://wandb.ai/s-kishore/sft_dataset_creation/r/call/01941515-557f-7001-b724-4375ae7746be\n",
      "Processing query: What classes are included in Professor David Albanese's curriculum?\n",
      "Retrieving course information and reviews...\n",
      "Processing query: What classes are included in Professor David Albanese's curriculum?\n",
      "Retrieving relevant course information...\n",
      "Cross-encoder reranking...\n",
      "Successfully reranked 10 documents\n",
      "Retrieving\n",
      "Reranking\n",
      "Combining and reranking all documents...\n",
      "Successfully reranked 10 combined documents\n",
      "Generating integrated response...\n"
     ]
    },
    {
     "name": "stderr",
     "output_type": "stream",
     "text": [
      " 98%|█████████▊| 245/250 [26:27<00:28,  5.70s/it]"
     ]
    },
    {
     "name": "stdout",
     "output_type": "stream",
     "text": [
      "🍩 https://wandb.ai/s-kishore/sft_dataset_creation/r/call/01941515-714b-7602-bb51-7807d4f6e60c\n",
      "Processing query: In what manner does Professor Aibin and Michal evaluate student performance?\n",
      "Retrieving course information and reviews...\n",
      "Processing query: In what manner does Professor Aibin and Michal evaluate student performance?\n",
      "Retrieving relevant course information...\n",
      "Cross-encoder reranking...\n",
      "Successfully reranked 10 documents\n",
      "Retrieving\n",
      "Reranking\n",
      "Combining and reranking all documents...\n",
      "Successfully reranked 10 combined documents\n",
      "Generating integrated response...\n"
     ]
    },
    {
     "name": "stderr",
     "output_type": "stream",
     "text": [
      " 98%|█████████▊| 246/250 [26:38<00:29,  7.30s/it]"
     ]
    },
    {
     "name": "stdout",
     "output_type": "stream",
     "text": [
      "🍩 https://wandb.ai/s-kishore/sft_dataset_creation/r/call/01941515-8356-7223-a1c2-db083d209554\n",
      "Processing query: Which academic tracks include courses focused on computer systems?\n",
      "Retrieving course information and reviews...\n",
      "Processing query: Which academic tracks include courses focused on computer systems?\n",
      "Retrieving relevant course information...\n",
      "Cross-encoder reranking...\n",
      "Successfully reranked 10 documents\n",
      "Retrieving\n",
      "Reranking\n",
      "Combining and reranking all documents...\n",
      "Successfully reranked 10 combined documents\n",
      "Generating integrated response...\n"
     ]
    },
    {
     "name": "stderr",
     "output_type": "stream",
     "text": [
      " 99%|█████████▉| 247/250 [26:43<00:19,  6.45s/it]"
     ]
    },
    {
     "name": "stdout",
     "output_type": "stream",
     "text": [
      "🍩 https://wandb.ai/s-kishore/sft_dataset_creation/r/call/01941515-ae83-7c43-abc8-57121f790414\n",
      "Processing query: Could you share with me the courses that Professor Tan Cheng has scheduled?\n",
      "Retrieving course information and reviews...\n",
      "Processing query: Could you share with me the courses that Professor Tan Cheng has scheduled?\n",
      "Retrieving relevant course information...\n",
      "Cross-encoder reranking...\n",
      "Successfully reranked 10 documents\n",
      "Retrieving\n",
      "Reranking\n",
      "Combining and reranking all documents...\n",
      "Successfully reranked 10 combined documents\n",
      "Generating integrated response...\n"
     ]
    },
    {
     "name": "stderr",
     "output_type": "stream",
     "text": [
      " 99%|█████████▉| 248/250 [26:52<00:14,  7.16s/it]"
     ]
    },
    {
     "name": "stdout",
     "output_type": "stream",
     "text": [
      "🍩 https://wandb.ai/s-kishore/sft_dataset_creation/r/call/01941515-bff6-7540-a514-c8e13f989a23\n",
      "Processing query: Which educator is responsible for the Database Management seminar?\n",
      "Retrieving course information and reviews...\n",
      "Processing query: Which educator is responsible for the Database Management seminar?\n",
      "Retrieving relevant course information...\n",
      "Cross-encoder reranking...\n",
      "Successfully reranked 10 documents\n",
      "Retrieving\n",
      "Reranking\n",
      "Combining and reranking all documents...\n",
      "Successfully reranked 10 combined documents\n",
      "Generating integrated response...\n"
     ]
    },
    {
     "name": "stderr",
     "output_type": "stream",
     "text": [
      "100%|█████████▉| 249/250 [26:57<00:06,  6.64s/it]"
     ]
    },
    {
     "name": "stdout",
     "output_type": "stream",
     "text": [
      "🍩 https://wandb.ai/s-kishore/sft_dataset_creation/r/call/01941515-e260-7b53-bb65-84f15175e32d\n",
      "Processing query: Could you share the list of courses Professor Rachlin, John is delivering?\n",
      "Retrieving course information and reviews...\n",
      "Processing query: Could you share the list of courses Professor Rachlin, John is delivering?\n",
      "Retrieving relevant course information...\n",
      "Cross-encoder reranking...\n",
      "Successfully reranked 10 documents\n",
      "Retrieving\n",
      "Reranking\n",
      "Combining and reranking all documents...\n",
      "Successfully reranked 10 combined documents\n",
      "Generating integrated response...\n"
     ]
    },
    {
     "name": "stderr",
     "output_type": "stream",
     "text": [
      "100%|██████████| 250/250 [27:03<00:00,  6.49s/it]"
     ]
    },
    {
     "name": "stdout",
     "output_type": "stream",
     "text": [
      "🍩 https://wandb.ai/s-kishore/sft_dataset_creation/r/call/01941515-f78f-7740-a013-d7dc4a4d0e97\n"
     ]
    },
    {
     "name": "stderr",
     "output_type": "stream",
     "text": [
      "\n"
     ]
    }
   ],
   "source": [
    "from tqdm import tqdm\n",
    "\n",
    "contexts = []\n",
    "responses = []\n",
    "\n",
    "for query in tqdm(random_questions):\n",
    "    context, response = integrated_rag(query,config['course_k'],config['review_k'],config['final_k'])\n",
    "    \n",
    "    contexts.append(context)\n",
    "    responses.append(response)"
   ]
  },
  {
   "cell_type": "code",
   "execution_count": 18,
   "id": "dd5d3de1-056e-4a99-9977-d87de2306ffe",
   "metadata": {},
   "outputs": [],
   "source": [
    "sft_df = pd.DataFrame()\n",
    "sft_df[\"question\"] = random_questions\n",
    "sft_df[\"context\"] = contexts\n",
    "sft_df[\"response\"] = responses"
   ]
  },
  {
   "cell_type": "code",
   "execution_count": 19,
   "id": "ba1e31cf-3fcc-4315-a356-5fda481bed72",
   "metadata": {},
   "outputs": [
    {
     "data": {
      "text/html": [
       "<div>\n",
       "<style scoped>\n",
       "    .dataframe tbody tr th:only-of-type {\n",
       "        vertical-align: middle;\n",
       "    }\n",
       "\n",
       "    .dataframe tbody tr th {\n",
       "        vertical-align: top;\n",
       "    }\n",
       "\n",
       "    .dataframe thead th {\n",
       "        text-align: right;\n",
       "    }\n",
       "</style>\n",
       "<table border=\"1\" class=\"dataframe\">\n",
       "  <thead>\n",
       "    <tr style=\"text-align: right;\">\n",
       "      <th></th>\n",
       "      <th>question</th>\n",
       "      <th>context</th>\n",
       "      <th>response</th>\n",
       "    </tr>\n",
       "  </thead>\n",
       "  <tbody>\n",
       "    <tr>\n",
       "      <th>0</th>\n",
       "      <td>What must I learn before I can effectively stu...</td>\n",
       "      <td>[[STUDENT REVIEW] Metadata:\\n    CRN: 31274, C...</td>\n",
       "      <td>Based on the student feedback, it seems that h...</td>\n",
       "    </tr>\n",
       "    <tr>\n",
       "      <th>1</th>\n",
       "      <td>How does Professor Alikhani's grading system i...</td>\n",
       "      <td>[[COURSE INFO] === course metadata ===\\ncourse...</td>\n",
       "      <td>Based on the student review provided, Professo...</td>\n",
       "    </tr>\n",
       "    <tr>\n",
       "      <th>2</th>\n",
       "      <td>What criteria does Professor Fuentes-Cabrera u...</td>\n",
       "      <td>[[COURSE INFO] === course metadata ===\\ncourse...</td>\n",
       "      <td>Based on the provided context, there is no spe...</td>\n",
       "    </tr>\n",
       "    <tr>\n",
       "      <th>3</th>\n",
       "      <td>What are the regular class hours for the Mobil...</td>\n",
       "      <td>[[COURSE INFO] === course metadata ===\\ncourse...</td>\n",
       "      <td>The regular class hours for the Mobile Applica...</td>\n",
       "    </tr>\n",
       "    <tr>\n",
       "      <th>4</th>\n",
       "      <td>Could you elaborate on Professor Das, Maitraye...</td>\n",
       "      <td>[[COURSE INFO] === course metadata ===\\ncourse...</td>\n",
       "      <td>Based on the available reviews, Professor Mait...</td>\n",
       "    </tr>\n",
       "    <tr>\n",
       "      <th>...</th>\n",
       "      <td>...</td>\n",
       "      <td>...</td>\n",
       "      <td>...</td>\n",
       "    </tr>\n",
       "    <tr>\n",
       "      <th>245</th>\n",
       "      <td>In what manner does Professor Aibin and Michal...</td>\n",
       "      <td>[[COURSE INFO] === course metadata ===\\ncourse...</td>\n",
       "      <td>Based on the course descriptions provided, Pro...</td>\n",
       "    </tr>\n",
       "    <tr>\n",
       "      <th>246</th>\n",
       "      <td>Which academic tracks include courses focused ...</td>\n",
       "      <td>[[STUDENT REVIEW] Metadata:\\n    CRN: 36913, C...</td>\n",
       "      <td>Based on the information provided, there isn't...</td>\n",
       "    </tr>\n",
       "    <tr>\n",
       "      <th>247</th>\n",
       "      <td>Could you share with me the courses that Profe...</td>\n",
       "      <td>[[STUDENT REVIEW] Metadata:\\n    CRN: 31172, C...</td>\n",
       "      <td>Based on the information provided, Professor T...</td>\n",
       "    </tr>\n",
       "    <tr>\n",
       "      <th>248</th>\n",
       "      <td>Which educator is responsible for the Database...</td>\n",
       "      <td>[[STUDENT REVIEW] Metadata:\\n    CRN: 39614, C...</td>\n",
       "      <td>Based on the reviews provided, there are multi...</td>\n",
       "    </tr>\n",
       "    <tr>\n",
       "      <th>249</th>\n",
       "      <td>Could you share the list of courses Professor ...</td>\n",
       "      <td>[[COURSE INFO] === course metadata ===\\ncourse...</td>\n",
       "      <td>Based on the information provided, Professor R...</td>\n",
       "    </tr>\n",
       "  </tbody>\n",
       "</table>\n",
       "<p>250 rows × 3 columns</p>\n",
       "</div>"
      ],
      "text/plain": [
       "                                              question  \\\n",
       "0    What must I learn before I can effectively stu...   \n",
       "1    How does Professor Alikhani's grading system i...   \n",
       "2    What criteria does Professor Fuentes-Cabrera u...   \n",
       "3    What are the regular class hours for the Mobil...   \n",
       "4    Could you elaborate on Professor Das, Maitraye...   \n",
       "..                                                 ...   \n",
       "245  In what manner does Professor Aibin and Michal...   \n",
       "246  Which academic tracks include courses focused ...   \n",
       "247  Could you share with me the courses that Profe...   \n",
       "248  Which educator is responsible for the Database...   \n",
       "249  Could you share the list of courses Professor ...   \n",
       "\n",
       "                                               context  \\\n",
       "0    [[STUDENT REVIEW] Metadata:\\n    CRN: 31274, C...   \n",
       "1    [[COURSE INFO] === course metadata ===\\ncourse...   \n",
       "2    [[COURSE INFO] === course metadata ===\\ncourse...   \n",
       "3    [[COURSE INFO] === course metadata ===\\ncourse...   \n",
       "4    [[COURSE INFO] === course metadata ===\\ncourse...   \n",
       "..                                                 ...   \n",
       "245  [[COURSE INFO] === course metadata ===\\ncourse...   \n",
       "246  [[STUDENT REVIEW] Metadata:\\n    CRN: 36913, C...   \n",
       "247  [[STUDENT REVIEW] Metadata:\\n    CRN: 31172, C...   \n",
       "248  [[STUDENT REVIEW] Metadata:\\n    CRN: 39614, C...   \n",
       "249  [[COURSE INFO] === course metadata ===\\ncourse...   \n",
       "\n",
       "                                              response  \n",
       "0    Based on the student feedback, it seems that h...  \n",
       "1    Based on the student review provided, Professo...  \n",
       "2    Based on the provided context, there is no spe...  \n",
       "3    The regular class hours for the Mobile Applica...  \n",
       "4    Based on the available reviews, Professor Mait...  \n",
       "..                                                 ...  \n",
       "245  Based on the course descriptions provided, Pro...  \n",
       "246  Based on the information provided, there isn't...  \n",
       "247  Based on the information provided, Professor T...  \n",
       "248  Based on the reviews provided, there are multi...  \n",
       "249  Based on the information provided, Professor R...  \n",
       "\n",
       "[250 rows x 3 columns]"
      ]
     },
     "execution_count": 19,
     "metadata": {},
     "output_type": "execute_result"
    }
   ],
   "source": [
    "sft_df"
   ]
  },
  {
   "cell_type": "code",
   "execution_count": 23,
   "id": "b1a595b9-8be3-4fe2-b99d-f4c7541b6880",
   "metadata": {},
   "outputs": [],
   "source": [
    "from datasets import Dataset\n",
    "\n",
    "sft_dataset = Dataset.from_pandas(sft_df)"
   ]
  },
  {
   "cell_type": "code",
   "execution_count": 26,
   "id": "a45ba036-e5a7-4608-9eaa-d14275b0d16e",
   "metadata": {},
   "outputs": [
    {
     "data": {
      "application/vnd.jupyter.widget-view+json": {
       "model_id": "14beb82640324c0a84fccd651b0ca42d",
       "version_major": 2,
       "version_minor": 0
      },
      "text/plain": [
       "Pushing dataset shards to the dataset hub:   0%|          | 0/1 [00:00<?, ?it/s]"
      ]
     },
     "metadata": {},
     "output_type": "display_data"
    },
    {
     "data": {
      "application/vnd.jupyter.widget-view+json": {
       "model_id": "1d40725ea15f484abb77e3284ccf49f7",
       "version_major": 2,
       "version_minor": 0
      },
      "text/plain": [
       "Creating parquet from Arrow format:   0%|          | 0/1 [00:00<?, ?ba/s]"
      ]
     },
     "metadata": {},
     "output_type": "display_data"
    }
   ],
   "source": [
    "repo_id = \"kishore-s-15/curriculum_compass_sft_dataset\" \n",
    "\n",
    "sft_dataset.push_to_hub(repo_id)"
   ]
  },
  {
   "cell_type": "code",
   "execution_count": null,
   "id": "a2a6a519-426d-4718-a1f9-3e2b4a082c27",
   "metadata": {},
   "outputs": [],
   "source": []
  }
 ],
 "metadata": {
  "kernelspec": {
   "display_name": "Python 3 (ipykernel)",
   "language": "python",
   "name": "python3"
  },
  "language_info": {
   "codemirror_mode": {
    "name": "ipython",
    "version": 3
   },
   "file_extension": ".py",
   "mimetype": "text/x-python",
   "name": "python",
   "nbconvert_exporter": "python",
   "pygments_lexer": "ipython3",
   "version": "3.10.14"
  }
 },
 "nbformat": 4,
 "nbformat_minor": 5
}
