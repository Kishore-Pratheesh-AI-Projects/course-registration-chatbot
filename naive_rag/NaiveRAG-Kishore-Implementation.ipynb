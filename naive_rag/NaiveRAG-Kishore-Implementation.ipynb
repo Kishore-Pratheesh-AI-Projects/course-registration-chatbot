{
 "cells": [
  {
   "cell_type": "code",
   "execution_count": 1,
   "id": "3ffeff46-10c7-426c-95f8-a5230e61346a",
   "metadata": {},
   "outputs": [],
   "source": [
    "from pathlib import Path\n",
    "\n",
    "import pandas as pd"
   ]
  },
  {
   "cell_type": "code",
   "execution_count": 2,
   "id": "6bc5529a-fa8a-41ee-8234-19f9489cd472",
   "metadata": {},
   "outputs": [],
   "source": [
    "DATA_DIR = Path().cwd().parent / \"data_pipeline\" / \"notebooks\" / \"data\"\n",
    "REVIEWS_DATA_FILE = DATA_DIR / \"reviews.csv\""
   ]
  },
  {
   "cell_type": "code",
   "execution_count": 3,
   "id": "00c612ce-4a0e-4917-b969-75d271648d60",
   "metadata": {},
   "outputs": [
    {
     "data": {
      "text/html": [
       "<div>\n",
       "<style scoped>\n",
       "    .dataframe tbody tr th:only-of-type {\n",
       "        vertical-align: middle;\n",
       "    }\n",
       "\n",
       "    .dataframe tbody tr th {\n",
       "        vertical-align: top;\n",
       "    }\n",
       "\n",
       "    .dataframe thead th {\n",
       "        text-align: right;\n",
       "    }\n",
       "</style>\n",
       "<table border=\"1\" class=\"dataframe\">\n",
       "  <thead>\n",
       "    <tr style=\"text-align: right;\">\n",
       "      <th></th>\n",
       "      <th>CRN</th>\n",
       "      <th>Course Name</th>\n",
       "      <th>Instructor</th>\n",
       "      <th>Subject</th>\n",
       "      <th>Course Number</th>\n",
       "      <th>Question</th>\n",
       "      <th>Review</th>\n",
       "    </tr>\n",
       "  </thead>\n",
       "  <tbody>\n",
       "    <tr>\n",
       "      <th>0</th>\n",
       "      <td>35056</td>\n",
       "      <td>Data Str, Algo App in CmpSys (Spring 2024)</td>\n",
       "      <td>Valcourt, Scott</td>\n",
       "      <td>CS</td>\n",
       "      <td>5008</td>\n",
       "      <td>What were the strengths of this course and/or ...</td>\n",
       "      <td>Timing and Canvas are Organized.</td>\n",
       "    </tr>\n",
       "    <tr>\n",
       "      <th>1</th>\n",
       "      <td>35056</td>\n",
       "      <td>Data Str, Algo App in CmpSys (Spring 2024)</td>\n",
       "      <td>Valcourt, Scott</td>\n",
       "      <td>CS</td>\n",
       "      <td>5008</td>\n",
       "      <td>What were the strengths of this course and/or ...</td>\n",
       "      <td>very responsive professor</td>\n",
       "    </tr>\n",
       "    <tr>\n",
       "      <th>2</th>\n",
       "      <td>35056</td>\n",
       "      <td>Data Str, Algo App in CmpSys (Spring 2024)</td>\n",
       "      <td>Valcourt, Scott</td>\n",
       "      <td>CS</td>\n",
       "      <td>5008</td>\n",
       "      <td>What were the strengths of this course and/or ...</td>\n",
       "      <td>Passionate, knowledgeable, extremely accommoda...</td>\n",
       "    </tr>\n",
       "    <tr>\n",
       "      <th>3</th>\n",
       "      <td>35056</td>\n",
       "      <td>Data Str, Algo App in CmpSys (Spring 2024)</td>\n",
       "      <td>Valcourt, Scott</td>\n",
       "      <td>CS</td>\n",
       "      <td>5008</td>\n",
       "      <td>What were the strengths of this course and/or ...</td>\n",
       "      <td>Scott was a pleasure to have as a professor! I...</td>\n",
       "    </tr>\n",
       "    <tr>\n",
       "      <th>4</th>\n",
       "      <td>35056</td>\n",
       "      <td>Data Str, Algo App in CmpSys (Spring 2024)</td>\n",
       "      <td>Valcourt, Scott</td>\n",
       "      <td>CS</td>\n",
       "      <td>5008</td>\n",
       "      <td>What were the strengths of this course and/or ...</td>\n",
       "      <td>Assignments (homework, labs), and live lecture...</td>\n",
       "    </tr>\n",
       "    <tr>\n",
       "      <th>...</th>\n",
       "      <td>...</td>\n",
       "      <td>...</td>\n",
       "      <td>...</td>\n",
       "      <td>...</td>\n",
       "      <td>...</td>\n",
       "      <td>...</td>\n",
       "      <td>...</td>\n",
       "    </tr>\n",
       "    <tr>\n",
       "      <th>12657</th>\n",
       "      <td>35062</td>\n",
       "      <td>Object-Oriented Design (Spring 2024)</td>\n",
       "      <td>Domino, Molly</td>\n",
       "      <td>CS</td>\n",
       "      <td>5004</td>\n",
       "      <td>What I could have done to make this course bet...</td>\n",
       "      <td>Studied more before class so that I could foll...</td>\n",
       "    </tr>\n",
       "    <tr>\n",
       "      <th>12658</th>\n",
       "      <td>35062</td>\n",
       "      <td>Object-Oriented Design (Spring 2024)</td>\n",
       "      <td>Domino, Molly</td>\n",
       "      <td>CS</td>\n",
       "      <td>5004</td>\n",
       "      <td>What I could have done to make this course bet...</td>\n",
       "      <td>watch vedios and books ahead may be better.</td>\n",
       "    </tr>\n",
       "    <tr>\n",
       "      <th>12659</th>\n",
       "      <td>35062</td>\n",
       "      <td>Object-Oriented Design (Spring 2024)</td>\n",
       "      <td>Domino, Molly</td>\n",
       "      <td>CS</td>\n",
       "      <td>5004</td>\n",
       "      <td>What I could have done to make this course bet...</td>\n",
       "      <td>I can utilize the additional resources provide...</td>\n",
       "    </tr>\n",
       "    <tr>\n",
       "      <th>12660</th>\n",
       "      <td>35062</td>\n",
       "      <td>Object-Oriented Design (Spring 2024)</td>\n",
       "      <td>Domino, Molly</td>\n",
       "      <td>CS</td>\n",
       "      <td>5004</td>\n",
       "      <td>What I could have done to make this course bet...</td>\n",
       "      <td>Spent more time outside of course hours review...</td>\n",
       "    </tr>\n",
       "    <tr>\n",
       "      <th>12661</th>\n",
       "      <td>35062</td>\n",
       "      <td>Object-Oriented Design (Spring 2024)</td>\n",
       "      <td>Domino, Molly</td>\n",
       "      <td>CS</td>\n",
       "      <td>5004</td>\n",
       "      <td>What I could have done to make this course bet...</td>\n",
       "      <td>do some reading for reference materials.</td>\n",
       "    </tr>\n",
       "  </tbody>\n",
       "</table>\n",
       "<p>12662 rows × 7 columns</p>\n",
       "</div>"
      ],
      "text/plain": [
       "         CRN                                 Course Name       Instructor  \\\n",
       "0      35056  Data Str, Algo App in CmpSys (Spring 2024)  Valcourt, Scott   \n",
       "1      35056  Data Str, Algo App in CmpSys (Spring 2024)  Valcourt, Scott   \n",
       "2      35056  Data Str, Algo App in CmpSys (Spring 2024)  Valcourt, Scott   \n",
       "3      35056  Data Str, Algo App in CmpSys (Spring 2024)  Valcourt, Scott   \n",
       "4      35056  Data Str, Algo App in CmpSys (Spring 2024)  Valcourt, Scott   \n",
       "...      ...                                         ...              ...   \n",
       "12657  35062        Object-Oriented Design (Spring 2024)    Domino, Molly   \n",
       "12658  35062        Object-Oriented Design (Spring 2024)    Domino, Molly   \n",
       "12659  35062        Object-Oriented Design (Spring 2024)    Domino, Molly   \n",
       "12660  35062        Object-Oriented Design (Spring 2024)    Domino, Molly   \n",
       "12661  35062        Object-Oriented Design (Spring 2024)    Domino, Molly   \n",
       "\n",
       "      Subject  Course Number  \\\n",
       "0          CS           5008   \n",
       "1          CS           5008   \n",
       "2          CS           5008   \n",
       "3          CS           5008   \n",
       "4          CS           5008   \n",
       "...       ...            ...   \n",
       "12657      CS           5004   \n",
       "12658      CS           5004   \n",
       "12659      CS           5004   \n",
       "12660      CS           5004   \n",
       "12661      CS           5004   \n",
       "\n",
       "                                                Question  \\\n",
       "0      What were the strengths of this course and/or ...   \n",
       "1      What were the strengths of this course and/or ...   \n",
       "2      What were the strengths of this course and/or ...   \n",
       "3      What were the strengths of this course and/or ...   \n",
       "4      What were the strengths of this course and/or ...   \n",
       "...                                                  ...   \n",
       "12657  What I could have done to make this course bet...   \n",
       "12658  What I could have done to make this course bet...   \n",
       "12659  What I could have done to make this course bet...   \n",
       "12660  What I could have done to make this course bet...   \n",
       "12661  What I could have done to make this course bet...   \n",
       "\n",
       "                                                  Review  \n",
       "0                       Timing and Canvas are Organized.  \n",
       "1                              very responsive professor  \n",
       "2      Passionate, knowledgeable, extremely accommoda...  \n",
       "3      Scott was a pleasure to have as a professor! I...  \n",
       "4      Assignments (homework, labs), and live lecture...  \n",
       "...                                                  ...  \n",
       "12657  Studied more before class so that I could foll...  \n",
       "12658        watch vedios and books ahead may be better.  \n",
       "12659  I can utilize the additional resources provide...  \n",
       "12660  Spent more time outside of course hours review...  \n",
       "12661           do some reading for reference materials.  \n",
       "\n",
       "[12662 rows x 7 columns]"
      ]
     },
     "execution_count": 3,
     "metadata": {},
     "output_type": "execute_result"
    }
   ],
   "source": [
    "reviews_df = pd.read_csv(REVIEWS_DATA_FILE)\n",
    "reviews_df"
   ]
  },
  {
   "cell_type": "code",
   "execution_count": 4,
   "id": "6920f02a-29ce-404e-815d-98421f048ed2",
   "metadata": {},
   "outputs": [
    {
     "data": {
      "text/plain": [
       "CRN                                                          35056\n",
       "Course Name             Data Str, Algo App in CmpSys (Spring 2024)\n",
       "Instructor                                         Valcourt, Scott\n",
       "Subject                                                         CS\n",
       "Course Number                                                 5008\n",
       "Question         What were the strengths of this course and/or ...\n",
       "Review                            Timing and Canvas are Organized.\n",
       "Name: 0, dtype: object"
      ]
     },
     "execution_count": 4,
     "metadata": {},
     "output_type": "execute_result"
    }
   ],
   "source": [
    "reviews_df.iloc[0, :]"
   ]
  },
  {
   "cell_type": "code",
   "execution_count": 5,
   "id": "9f4e2f91-696d-4e43-b5f1-2da18c127ecb",
   "metadata": {},
   "outputs": [],
   "source": [
    "def stringify_review_instance(row: pd.Series) -> str:\n",
    "    template = f\"\"\"Metadata:\n",
    "    CRN: {row['CRN']}, Course Name: {row['Course Name']}, Instructor: {row['Instructor']},\n",
    "    Course Number: {row['Subject']}{row['Course Number']}\n",
    "\n",
    "    Question:\n",
    "    {row['Question']}\n",
    "\n",
    "    Review:\n",
    "    {row['Review']}\n",
    "    \"\"\"\n",
    "\n",
    "    return template"
   ]
  },
  {
   "cell_type": "code",
   "execution_count": 6,
   "id": "f53b98b2-a546-4bae-b151-fd5500974496",
   "metadata": {},
   "outputs": [
    {
     "data": {
      "text/plain": [
       "0        Metadata:\\n    CRN: 35056, Course Name: Data S...\n",
       "1        Metadata:\\n    CRN: 35056, Course Name: Data S...\n",
       "2        Metadata:\\n    CRN: 35056, Course Name: Data S...\n",
       "3        Metadata:\\n    CRN: 35056, Course Name: Data S...\n",
       "4        Metadata:\\n    CRN: 35056, Course Name: Data S...\n",
       "                               ...                        \n",
       "12657    Metadata:\\n    CRN: 35062, Course Name: Object...\n",
       "12658    Metadata:\\n    CRN: 35062, Course Name: Object...\n",
       "12659    Metadata:\\n    CRN: 35062, Course Name: Object...\n",
       "12660    Metadata:\\n    CRN: 35062, Course Name: Object...\n",
       "12661    Metadata:\\n    CRN: 35062, Course Name: Object...\n",
       "Length: 12662, dtype: object"
      ]
     },
     "execution_count": 6,
     "metadata": {},
     "output_type": "execute_result"
    }
   ],
   "source": [
    "stringified_reviews = reviews_df.apply(stringify_review_instance, axis=1)\n",
    "stringified_reviews"
   ]
  },
  {
   "cell_type": "code",
   "execution_count": 7,
   "id": "30f46c47-e293-4d17-b4ab-59c22d6a8549",
   "metadata": {},
   "outputs": [
    {
     "data": {
      "text/plain": [
       "'Metadata:\\n    CRN: 35056, Course Name: Data Str, Algo App in CmpSys (Spring 2024), Instructor: Valcourt, Scott,\\n    Course Number: CS5008\\n\\n    Question:\\n    What were the strengths of this course and/or this instructor?\\n\\n    Review:\\n    Timing and Canvas are Organized.\\n    '"
      ]
     },
     "execution_count": 7,
     "metadata": {},
     "output_type": "execute_result"
    }
   ],
   "source": [
    "stringified_reviews[0]"
   ]
  },
  {
   "cell_type": "code",
   "execution_count": 8,
   "id": "cb0217a1-7242-46e6-bab3-1b0b2437a3dd",
   "metadata": {},
   "outputs": [],
   "source": [
    "from time import time\n",
    "\n",
    "import numpy as np\n",
    "import pandas as pd\n",
    "\n",
    "import chromadb\n",
    "from sentence_transformers import SentenceTransformer\n",
    "from sklearn.metrics.pairwise import cosine_similarity"
   ]
  },
  {
   "cell_type": "code",
   "execution_count": 9,
   "id": "8c4b53fe-7d26-4d2e-ad0b-856b8c76f48f",
   "metadata": {},
   "outputs": [
    {
     "name": "stderr",
     "output_type": "stream",
     "text": [
      "/home/sampath.ki/emnlp/conda_env/lib/python3.10/site-packages/huggingface_hub/file_download.py:797: FutureWarning: `resume_download` is deprecated and will be removed in version 1.0.0. Downloads always resume when possible. If you want to force a new download, use `force_download=True`.\n",
      "  warnings.warn(\n"
     ]
    },
    {
     "name": "stdout",
     "output_type": "stream",
     "text": [
      "Took 43.27331733703613 secs.\n"
     ]
    }
   ],
   "source": [
    "# Step 1: Prepare Corpus\n",
    "# Convert Series to list\n",
    "stringified_reviews_list = stringified_reviews.tolist()\n",
    "\n",
    "start_time = time()\n",
    "# Step 2: Embed Texts\n",
    "embedding_model = SentenceTransformer('all-MiniLM-L6-v2')\n",
    "embeddings = embedding_model.encode(stringified_reviews_list)\n",
    "end_time = time()\n",
    "print(f\"Took {end_time - start_time} secs.\")"
   ]
  },
  {
   "cell_type": "code",
   "execution_count": 10,
   "id": "f2478bb3-7287-470e-8cef-b70d67a2a3e1",
   "metadata": {},
   "outputs": [
    {
     "name": "stderr",
     "output_type": "stream",
     "text": [
      "12662it [21:34,  9.78it/s]\n"
     ]
    }
   ],
   "source": [
    "from tqdm import tqdm\n",
    "\n",
    "client = chromadb.PersistentClient(path=\"./chromadb\")\n",
    "\n",
    "# Create a collection\n",
    "collection = client.get_or_create_collection(\"naive_rag_embeddings\")\n",
    "\n",
    "# Add texts and embeddings to ChromaDB\n",
    "for idx, (review, embedding) in tqdm(enumerate(zip(stringified_reviews_list, embeddings))):\n",
    "    collection.add(\n",
    "        documents=[review],\n",
    "        metadatas=[{\"index\": idx}],\n",
    "        ids=[str(idx)],\n",
    "        embeddings=[embedding.tolist()]\n",
    "    )"
   ]
  },
  {
   "cell_type": "code",
   "execution_count": 20,
   "id": "3c79e85c-8260-44eb-9b2b-34f1e5f18a89",
   "metadata": {},
   "outputs": [
    {
     "name": "stderr",
     "output_type": "stream",
     "text": [
      "Special tokens have been added in the vocabulary, make sure the associated word embeddings are fine-tuned or trained.\n"
     ]
    },
    {
     "name": "stdout",
     "output_type": "stream",
     "text": [
      "Retrieving\n",
      "Generating Response\n",
      "Algorithms taught by Professor Raj Venkat is challenging but rewarding. While it covers a lot of material quickly, it provides an excellent opportunity to understand complex algorithms thoroughly. The course is well-structured, making it easier to follow along with lectures and assignments. However, the pace can be intense at times, so staying focused is key. Overall, it offers significant value for anyone looking to deepen their understanding of algorithms and prepare for technical interviews.\n"
     ]
    }
   ],
   "source": [
    "from transformers import AutoModelForCausalLM, AutoTokenizer\n",
    "\n",
    "# Step 2: Load Qwen-2.5-1.5B-Instruct Model\n",
    "model_name = \"Qwen/Qwen2.5-1.5B-Instruct\"\n",
    "model = AutoModelForCausalLM.from_pretrained(\n",
    "    model_name,\n",
    "    torch_dtype=\"auto\",\n",
    "    device_map=\"auto\"\n",
    ")\n",
    "tokenizer = AutoTokenizer.from_pretrained(model_name)\n",
    "\n",
    "# Step 3: RAG Pipeline\n",
    "class RAGPipeline:\n",
    "    SYSTEM_INSTRUCTION = \"\"\"You are Course Compass, a chatbot dedicated to assisting Northeastern University graduate students with course registration each semester. You have access to the latest information on available graduate courses, faculty profiles, and summarized student feedback from previous semesters.\n",
    " \n",
    "    Your goals are:\n",
    "    1. To provide accurate, up-to-date information without speculating. If you lack information about a course or question, clearly communicate that to the student.\n",
    "    2. To maintain a positive, professional tone. If past student feedback includes criticism, you should still respond diplomatically, focusing on constructive or neutral aspects.\n",
    "    3. To be concise and relevant in your responses, helping students make informed decisions about their course choices.\n",
    "     \n",
    "    Avoid negative or speculative responses, and prioritize factual information over assumption.\n",
    "    \n",
    "    The response should:\n",
    "    1. Highlight the main topics and unique aspects of the course content.\n",
    "    2. Summarize the instructor's teaching style and notable strengths or weaknesses.\n",
    "    3. Clearly address potential benefits and challenges of the course, providing a straightforward recommendation as needed.\n",
    "    Ensure the answer is direct, informative, and relevant to the question.\n",
    "     \n",
    "    Answer the questions comprehensively using the reviews from the context by summarizing them to help the student.\"\"\"\n",
    "    \n",
    "    def __init__(self, embedding_model, collection, model, tokenizer):\n",
    "        self.embedding_model = embedding_model\n",
    "        self.collection = collection\n",
    "        self.model = model\n",
    "        self.tokenizer = tokenizer\n",
    "\n",
    "    def retrieve(self, query, top_k=50):\n",
    "        # Embed the query\n",
    "        query_embedding = self.embedding_model.encode([query])[0]\n",
    "        \n",
    "        # Search in ChromaDB\n",
    "        results = self.collection.query(\n",
    "            query_embeddings=[query_embedding.tolist()],\n",
    "            n_results=top_k\n",
    "        )\n",
    "        return results[\"documents\"]\n",
    "\n",
    "    def generate_response(self, query, retrieved_docs):\n",
    "        # Flatten the list of retrieved documents\n",
    "        flattened_docs = [doc for sublist in retrieved_docs for doc in sublist]\n",
    "        context = \"\\n\".join(flattened_docs)\n",
    "        \n",
    "        # Prepare messages\n",
    "        messages = [\n",
    "            {\"role\": \"system\", \"content\": self.SYSTEM_INSTRUCTION},\n",
    "            {\"role\": \"user\", \"content\": f\"Context:\\n{context}\\n\\nQuery: {query}\\n\\nAnswer:\"}\n",
    "        ]\n",
    "        \n",
    "        # Tokenize and generate\n",
    "        text = self.tokenizer.apply_chat_template(\n",
    "            messages,\n",
    "            tokenize=False,\n",
    "            add_generation_prompt=True\n",
    "        )\n",
    "        model_inputs = self.tokenizer([text], return_tensors=\"pt\").to(self.model.device)\n",
    "        generated_ids = self.model.generate(\n",
    "            **model_inputs,\n",
    "            max_new_tokens=4098\n",
    "        )\n",
    "        # Remove input tokens from output to isolate generated text\n",
    "        generated_ids = [\n",
    "            output_ids[len(input_ids):] for input_ids, output_ids in zip(model_inputs.input_ids, generated_ids)\n",
    "        ]\n",
    "        return self.tokenizer.batch_decode(generated_ids, skip_special_tokens=True)[0]\n",
    "\n",
    "\n",
    "    def __call__(self, query, top_k=50):\n",
    "        print(\"Retrieving\")\n",
    "        # Step 1: Retrieve relevant documents\n",
    "        retrieved_docs = self.retrieve(query, top_k)\n",
    "\n",
    "        print(\"Generating Response\")\n",
    "        # Step 2: Generate a response\n",
    "        return self.generate_response(query, retrieved_docs)\n",
    "\n",
    "# Step 4: Use the RAG Pipeline\n",
    "rag_pipeline = RAGPipeline(embedding_model, collection, model, tokenizer)\n",
    "\n",
    "# Example Query\n",
    "query = \"How difficult is Algorithms under Prof. Raj Venkat?\"\n",
    "response = rag_pipeline(query, top_k=3)\n",
    "print(response)"
   ]
  },
  {
   "cell_type": "code",
   "execution_count": null,
   "id": "64638e02-1e62-4645-9b37-ec3aee92c4af",
   "metadata": {},
   "outputs": [],
   "source": []
  }
 ],
 "metadata": {
  "kernelspec": {
   "display_name": "Python 3 (ipykernel)",
   "language": "python",
   "name": "python3"
  },
  "language_info": {
   "codemirror_mode": {
    "name": "ipython",
    "version": 3
   },
   "file_extension": ".py",
   "mimetype": "text/x-python",
   "name": "python",
   "nbconvert_exporter": "python",
   "pygments_lexer": "ipython3",
   "version": "3.10.14"
  }
 },
 "nbformat": 4,
 "nbformat_minor": 5
}
