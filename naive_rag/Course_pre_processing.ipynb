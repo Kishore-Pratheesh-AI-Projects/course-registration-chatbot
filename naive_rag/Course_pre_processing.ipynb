{
 "cells": [
  {
   "cell_type": "code",
   "execution_count": 2,
   "metadata": {},
   "outputs": [],
   "source": [
    "import pandas as pd"
   ]
  },
  {
   "cell_type": "code",
   "execution_count": 7,
   "metadata": {},
   "outputs": [],
   "source": [
    "df = pd.read_csv('/Users/pratheeshjp/Documents/course-registration-chatbot/data_pipeline/notebooks/data/courses.csv')"
   ]
  },
  {
   "cell_type": "code",
   "execution_count": 10,
   "metadata": {},
   "outputs": [
    {
     "name": "stdout",
     "output_type": "stream",
     "text": [
      "     CRN Campus Description                           Course Title  \\\n",
      "0  34154             Online  Computer Science and Its Applications   \n",
      "1  32828             Boston                        Lab for CS 1100   \n",
      "2  32829             Boston                        Lab for CS 1100   \n",
      "3  32830             Boston                        Lab for CS 1100   \n",
      "4  34155             Online                     First Year Seminar   \n",
      "\n",
      "  Subject Course       Faculty Name  \\\n",
      "0         CS1100   Lieberherr, Karl   \n",
      "1         CS1101   Lieberherr, Karl   \n",
      "2         CS1101   Lieberherr, Karl   \n",
      "3         CS1101   Lieberherr, Karl   \n",
      "4         CS1200  Wassinger, Claire   \n",
      "\n",
      "                                  Course Description         Term  Begin Time  \\\n",
      "0  Introduces students to the field of computer s...  Spring 2025         NaN   \n",
      "1  Accompanies CS 1100. Involves experiments and ...  Spring 2025       800.0   \n",
      "2  Accompanies CS 1100. Involves experiments and ...  Spring 2025       915.0   \n",
      "3  Accompanies CS 1100. Involves experiments and ...  Spring 2025      1030.0   \n",
      "4  Seeks to support students in their transition ...  Spring 2025         NaN   \n",
      "\n",
      "   End Time    Days Prerequisites  \n",
      "0       NaN     NaN            []  \n",
      "1     905.0  Friday            []  \n",
      "2    1020.0  Friday            []  \n",
      "3    1135.0  Friday            []  \n",
      "4       NaN     NaN            []  \n"
     ]
    }
   ],
   "source": [
    "print(df.head())"
   ]
  },
  {
   "cell_type": "code",
   "execution_count": 20,
   "metadata": {},
   "outputs": [
    {
     "data": {
      "text/plain": [
       "(500, 11)"
      ]
     },
     "execution_count": 20,
     "metadata": {},
     "output_type": "execute_result"
    }
   ],
   "source": [
    "df.shape"
   ]
  },
  {
   "cell_type": "code",
   "execution_count": 32,
   "metadata": {},
   "outputs": [],
   "source": [
    "import pandas as pd\n",
    "\n",
    "def clean_time(time_val):\n",
    "    if pd.isna(time_val) or time_val == '' or time_val == 0:\n",
    "        return None\n",
    "    return str(int(time_val)).zfill(4) \n",
    "\n",
    "\n",
    "def format_time(time_str):\n",
    "    if not time_str or len(time_str) != 4:\n",
    "        return None\n",
    "    hours = int(time_str[:2])\n",
    "    minutes = time_str[2:]\n",
    "    period = \"AM\" if hours < 12 else \"PM\"\n",
    "    if hours > 12:\n",
    "        hours -= 12\n",
    "    elif hours == 0:\n",
    "        hours = 12\n",
    "    return f\"{hours}:{minutes} {period}\"\n",
    "\n",
    "\n",
    "\n",
    "def course_to_sentence(row):\n",
    "    crn = str(row.get('CRN', ''))\n",
    "    campus = row.get('Campus Description', '')\n",
    "    title = row.get('Course Title', '')\n",
    "    subject_course = row.get('Subject Course', '')\n",
    "    faculty = row.get('Faculty Name', '')\n",
    "    description = row.get('Course Description', '')\n",
    "    term = row.get('Term', '')\n",
    "\n",
    "    begin_time = clean_time(row.get('Begin Time', ''))\n",
    "    end_time = clean_time(row.get('End Time', ''))\n",
    "    days = row.get('Days', '')\n",
    "    prerequisites = row.get('Prerequisites', '[]')\n",
    "\n",
    "\n",
    "    sentence_parts = [f\"{subject_course} (CRN: {crn}), {title},\"]\n",
    "    \n",
    "\n",
    "    if campus.lower() == 'online':\n",
    "        sentence_parts.append(\"is an online course\")\n",
    "    elif campus.lower() == 'no campus, no room needed':\n",
    "        sentence_parts.append(\"is a self-paced course\")\n",
    "    else:\n",
    "        sentence_parts.append(f\"is offered at {campus}\")\n",
    "    \n",
    "    \n",
    "    sentence_parts.append(f\"for {term}\")\n",
    "    \n",
    "\n",
    "    if begin_time and end_time and days:\n",
    "        formatted_begin = format_time(begin_time)\n",
    "        formatted_end = format_time(end_time)\n",
    "        schedule = f\"with classes scheduled {days} from {formatted_begin} to {formatted_end}\"\n",
    "        sentence_parts.append(schedule)\n",
    "    \n",
    "\n",
    "    if faculty:\n",
    "        sentence_parts.append(f\"taught by Professor {faculty}\")\n",
    "    \n",
    "\n",
    "    sentence = \" \".join(sentence_parts) + \".\"\n",
    "    \n",
    "\n",
    "    if description:\n",
    "        description = ' '.join(str(description).split())\n",
    "        sentence += f\" {description}\"\n",
    "    \n",
    "  \n",
    "    if prerequisites == '[]' or not prerequisites or prerequisites.strip() == '':\n",
    "        sentence += \" This course is open to all students with no prerequisites required.\"\n",
    "    else:\n",
    "        prereqs = prerequisites.strip('[]').replace(\"'\", \"\").replace('\"', '')\n",
    "        if prereqs:\n",
    "            sentence += f\" Prerequisites for this course: {prereqs}.\"\n",
    "    \n",
    "   \n",
    "    return ' '.join(sentence.split())\n",
    "\n",
    "def process_course_data(file_path):\n",
    "    \"\"\"Process entire course dataset and convert to sentences.\"\"\"\n",
    "    df = pd.read_csv(file_path)\n",
    "    return [course_to_sentence(row) for _, row in df.iterrows()]\n",
    "\n",
    "\n"
   ]
  },
  {
   "cell_type": "code",
   "execution_count": 33,
   "metadata": {},
   "outputs": [],
   "source": [
    "course_sentences = process_course_data('/Users/pratheeshjp/Documents/course-registration-chatbot/data_pipeline/notebooks/data/courses.csv')"
   ]
  },
  {
   "cell_type": "code",
   "execution_count": 40,
   "metadata": {},
   "outputs": [
    {
     "name": "stdout",
     "output_type": "stream",
     "text": [
      "CS6965 (CRN: 38204), Co-op Work Experience Abroad, is a self-paced course for Spring 2025 taught by Professor Celestine, Thea. Provides eligible students with an opportunity for work experience abroad. May be repeated without limit. This course is open to all students with no prerequisites required.\n"
     ]
    }
   ],
   "source": [
    "print(course_sentences[400])"
   ]
  },
  {
   "cell_type": "code",
   "execution_count": null,
   "metadata": {},
   "outputs": [],
   "source": []
  }
 ],
 "metadata": {
  "kernelspec": {
   "display_name": "env",
   "language": "python",
   "name": "python3"
  },
  "language_info": {
   "codemirror_mode": {
    "name": "ipython",
    "version": 3
   },
   "file_extension": ".py",
   "mimetype": "text/x-python",
   "name": "python",
   "nbconvert_exporter": "python",
   "pygments_lexer": "ipython3",
   "version": "3.12.4"
  }
 },
 "nbformat": 4,
 "nbformat_minor": 2
}
