{
 "cells": [
  {
   "cell_type": "code",
   "execution_count": 1,
   "id": "3ffeff46-10c7-426c-95f8-a5230e61346a",
   "metadata": {},
   "outputs": [],
   "source": [
    "from pathlib import Path\n",
    "\n",
    "import pandas as pd"
   ]
  },
  {
   "cell_type": "code",
   "execution_count": 2,
   "id": "6bc5529a-fa8a-41ee-8234-19f9489cd472",
   "metadata": {},
   "outputs": [],
   "source": [
    "DATA_DIR = Path().cwd().parent / \"data_pipeline\" / \"notebooks\" / \"data\"\n",
    "REVIEWS_DATA_FILE = DATA_DIR / \"reviews.csv\""
   ]
  },
  {
   "cell_type": "code",
   "execution_count": 3,
   "id": "00c612ce-4a0e-4917-b969-75d271648d60",
   "metadata": {},
   "outputs": [
    {
     "data": {
      "text/html": [
       "<div>\n",
       "<style scoped>\n",
       "    .dataframe tbody tr th:only-of-type {\n",
       "        vertical-align: middle;\n",
       "    }\n",
       "\n",
       "    .dataframe tbody tr th {\n",
       "        vertical-align: top;\n",
       "    }\n",
       "\n",
       "    .dataframe thead th {\n",
       "        text-align: right;\n",
       "    }\n",
       "</style>\n",
       "<table border=\"1\" class=\"dataframe\">\n",
       "  <thead>\n",
       "    <tr style=\"text-align: right;\">\n",
       "      <th></th>\n",
       "      <th>CRN</th>\n",
       "      <th>Course Name</th>\n",
       "      <th>Instructor</th>\n",
       "      <th>Subject</th>\n",
       "      <th>Course Number</th>\n",
       "      <th>Question</th>\n",
       "      <th>Review</th>\n",
       "    </tr>\n",
       "  </thead>\n",
       "  <tbody>\n",
       "    <tr>\n",
       "      <th>0</th>\n",
       "      <td>35056</td>\n",
       "      <td>Data Str, Algo App in CmpSys (Spring 2024)</td>\n",
       "      <td>Valcourt, Scott</td>\n",
       "      <td>CS</td>\n",
       "      <td>5008</td>\n",
       "      <td>What were the strengths of this course and/or ...</td>\n",
       "      <td>Timing and Canvas are Organized.</td>\n",
       "    </tr>\n",
       "    <tr>\n",
       "      <th>1</th>\n",
       "      <td>35056</td>\n",
       "      <td>Data Str, Algo App in CmpSys (Spring 2024)</td>\n",
       "      <td>Valcourt, Scott</td>\n",
       "      <td>CS</td>\n",
       "      <td>5008</td>\n",
       "      <td>What were the strengths of this course and/or ...</td>\n",
       "      <td>very responsive professor</td>\n",
       "    </tr>\n",
       "    <tr>\n",
       "      <th>2</th>\n",
       "      <td>35056</td>\n",
       "      <td>Data Str, Algo App in CmpSys (Spring 2024)</td>\n",
       "      <td>Valcourt, Scott</td>\n",
       "      <td>CS</td>\n",
       "      <td>5008</td>\n",
       "      <td>What were the strengths of this course and/or ...</td>\n",
       "      <td>Passionate, knowledgeable, extremely accommoda...</td>\n",
       "    </tr>\n",
       "    <tr>\n",
       "      <th>3</th>\n",
       "      <td>35056</td>\n",
       "      <td>Data Str, Algo App in CmpSys (Spring 2024)</td>\n",
       "      <td>Valcourt, Scott</td>\n",
       "      <td>CS</td>\n",
       "      <td>5008</td>\n",
       "      <td>What were the strengths of this course and/or ...</td>\n",
       "      <td>Scott was a pleasure to have as a professor! I...</td>\n",
       "    </tr>\n",
       "    <tr>\n",
       "      <th>4</th>\n",
       "      <td>35056</td>\n",
       "      <td>Data Str, Algo App in CmpSys (Spring 2024)</td>\n",
       "      <td>Valcourt, Scott</td>\n",
       "      <td>CS</td>\n",
       "      <td>5008</td>\n",
       "      <td>What were the strengths of this course and/or ...</td>\n",
       "      <td>Assignments (homework, labs), and live lecture...</td>\n",
       "    </tr>\n",
       "    <tr>\n",
       "      <th>...</th>\n",
       "      <td>...</td>\n",
       "      <td>...</td>\n",
       "      <td>...</td>\n",
       "      <td>...</td>\n",
       "      <td>...</td>\n",
       "      <td>...</td>\n",
       "      <td>...</td>\n",
       "    </tr>\n",
       "    <tr>\n",
       "      <th>12657</th>\n",
       "      <td>35062</td>\n",
       "      <td>Object-Oriented Design (Spring 2024)</td>\n",
       "      <td>Domino, Molly</td>\n",
       "      <td>CS</td>\n",
       "      <td>5004</td>\n",
       "      <td>What I could have done to make this course bet...</td>\n",
       "      <td>Studied more before class so that I could foll...</td>\n",
       "    </tr>\n",
       "    <tr>\n",
       "      <th>12658</th>\n",
       "      <td>35062</td>\n",
       "      <td>Object-Oriented Design (Spring 2024)</td>\n",
       "      <td>Domino, Molly</td>\n",
       "      <td>CS</td>\n",
       "      <td>5004</td>\n",
       "      <td>What I could have done to make this course bet...</td>\n",
       "      <td>watch vedios and books ahead may be better.</td>\n",
       "    </tr>\n",
       "    <tr>\n",
       "      <th>12659</th>\n",
       "      <td>35062</td>\n",
       "      <td>Object-Oriented Design (Spring 2024)</td>\n",
       "      <td>Domino, Molly</td>\n",
       "      <td>CS</td>\n",
       "      <td>5004</td>\n",
       "      <td>What I could have done to make this course bet...</td>\n",
       "      <td>I can utilize the additional resources provide...</td>\n",
       "    </tr>\n",
       "    <tr>\n",
       "      <th>12660</th>\n",
       "      <td>35062</td>\n",
       "      <td>Object-Oriented Design (Spring 2024)</td>\n",
       "      <td>Domino, Molly</td>\n",
       "      <td>CS</td>\n",
       "      <td>5004</td>\n",
       "      <td>What I could have done to make this course bet...</td>\n",
       "      <td>Spent more time outside of course hours review...</td>\n",
       "    </tr>\n",
       "    <tr>\n",
       "      <th>12661</th>\n",
       "      <td>35062</td>\n",
       "      <td>Object-Oriented Design (Spring 2024)</td>\n",
       "      <td>Domino, Molly</td>\n",
       "      <td>CS</td>\n",
       "      <td>5004</td>\n",
       "      <td>What I could have done to make this course bet...</td>\n",
       "      <td>do some reading for reference materials.</td>\n",
       "    </tr>\n",
       "  </tbody>\n",
       "</table>\n",
       "<p>12662 rows × 7 columns</p>\n",
       "</div>"
      ],
      "text/plain": [
       "         CRN                                 Course Name       Instructor  \\\n",
       "0      35056  Data Str, Algo App in CmpSys (Spring 2024)  Valcourt, Scott   \n",
       "1      35056  Data Str, Algo App in CmpSys (Spring 2024)  Valcourt, Scott   \n",
       "2      35056  Data Str, Algo App in CmpSys (Spring 2024)  Valcourt, Scott   \n",
       "3      35056  Data Str, Algo App in CmpSys (Spring 2024)  Valcourt, Scott   \n",
       "4      35056  Data Str, Algo App in CmpSys (Spring 2024)  Valcourt, Scott   \n",
       "...      ...                                         ...              ...   \n",
       "12657  35062        Object-Oriented Design (Spring 2024)    Domino, Molly   \n",
       "12658  35062        Object-Oriented Design (Spring 2024)    Domino, Molly   \n",
       "12659  35062        Object-Oriented Design (Spring 2024)    Domino, Molly   \n",
       "12660  35062        Object-Oriented Design (Spring 2024)    Domino, Molly   \n",
       "12661  35062        Object-Oriented Design (Spring 2024)    Domino, Molly   \n",
       "\n",
       "      Subject  Course Number  \\\n",
       "0          CS           5008   \n",
       "1          CS           5008   \n",
       "2          CS           5008   \n",
       "3          CS           5008   \n",
       "4          CS           5008   \n",
       "...       ...            ...   \n",
       "12657      CS           5004   \n",
       "12658      CS           5004   \n",
       "12659      CS           5004   \n",
       "12660      CS           5004   \n",
       "12661      CS           5004   \n",
       "\n",
       "                                                Question  \\\n",
       "0      What were the strengths of this course and/or ...   \n",
       "1      What were the strengths of this course and/or ...   \n",
       "2      What were the strengths of this course and/or ...   \n",
       "3      What were the strengths of this course and/or ...   \n",
       "4      What were the strengths of this course and/or ...   \n",
       "...                                                  ...   \n",
       "12657  What I could have done to make this course bet...   \n",
       "12658  What I could have done to make this course bet...   \n",
       "12659  What I could have done to make this course bet...   \n",
       "12660  What I could have done to make this course bet...   \n",
       "12661  What I could have done to make this course bet...   \n",
       "\n",
       "                                                  Review  \n",
       "0                       Timing and Canvas are Organized.  \n",
       "1                              very responsive professor  \n",
       "2      Passionate, knowledgeable, extremely accommoda...  \n",
       "3      Scott was a pleasure to have as a professor! I...  \n",
       "4      Assignments (homework, labs), and live lecture...  \n",
       "...                                                  ...  \n",
       "12657  Studied more before class so that I could foll...  \n",
       "12658        watch vedios and books ahead may be better.  \n",
       "12659  I can utilize the additional resources provide...  \n",
       "12660  Spent more time outside of course hours review...  \n",
       "12661           do some reading for reference materials.  \n",
       "\n",
       "[12662 rows x 7 columns]"
      ]
     },
     "execution_count": 3,
     "metadata": {},
     "output_type": "execute_result"
    }
   ],
   "source": [
    "reviews_df = pd.read_csv(REVIEWS_DATA_FILE)\n",
    "reviews_df"
   ]
  },
  {
   "cell_type": "code",
   "execution_count": 4,
   "id": "6920f02a-29ce-404e-815d-98421f048ed2",
   "metadata": {},
   "outputs": [
    {
     "data": {
      "text/plain": [
       "CRN                                                          35056\n",
       "Course Name             Data Str, Algo App in CmpSys (Spring 2024)\n",
       "Instructor                                         Valcourt, Scott\n",
       "Subject                                                         CS\n",
       "Course Number                                                 5008\n",
       "Question         What were the strengths of this course and/or ...\n",
       "Review                            Timing and Canvas are Organized.\n",
       "Name: 0, dtype: object"
      ]
     },
     "execution_count": 4,
     "metadata": {},
     "output_type": "execute_result"
    }
   ],
   "source": [
    "reviews_df.iloc[0, :]"
   ]
  },
  {
   "cell_type": "code",
   "execution_count": 5,
   "id": "9f4e2f91-696d-4e43-b5f1-2da18c127ecb",
   "metadata": {},
   "outputs": [],
   "source": [
    "def stringify_review_instance(row: pd.Series) -> str:\n",
    "    template = f\"\"\"Metadata:\n",
    "    CRN: {row['CRN']}, Course Name: {row['Course Name']}, Instructor: {row['Instructor']},\n",
    "    Course Number: {row['Subject']}{row['Course Number']}\n",
    "\n",
    "    Question:\n",
    "    {row['Question']}\n",
    "\n",
    "    Review:\n",
    "    {row['Review']}\n",
    "    \"\"\"\n",
    "\n",
    "    return template"
   ]
  },
  {
   "cell_type": "code",
   "execution_count": 6,
   "id": "f53b98b2-a546-4bae-b151-fd5500974496",
   "metadata": {},
   "outputs": [
    {
     "data": {
      "text/plain": [
       "0        Metadata:\\n    CRN: 35056, Course Name: Data S...\n",
       "1        Metadata:\\n    CRN: 35056, Course Name: Data S...\n",
       "2        Metadata:\\n    CRN: 35056, Course Name: Data S...\n",
       "3        Metadata:\\n    CRN: 35056, Course Name: Data S...\n",
       "4        Metadata:\\n    CRN: 35056, Course Name: Data S...\n",
       "                               ...                        \n",
       "12657    Metadata:\\n    CRN: 35062, Course Name: Object...\n",
       "12658    Metadata:\\n    CRN: 35062, Course Name: Object...\n",
       "12659    Metadata:\\n    CRN: 35062, Course Name: Object...\n",
       "12660    Metadata:\\n    CRN: 35062, Course Name: Object...\n",
       "12661    Metadata:\\n    CRN: 35062, Course Name: Object...\n",
       "Length: 12662, dtype: object"
      ]
     },
     "execution_count": 6,
     "metadata": {},
     "output_type": "execute_result"
    }
   ],
   "source": [
    "stringified_reviews = reviews_df.apply(stringify_review_instance, axis=1)\n",
    "stringified_reviews"
   ]
  },
  {
   "cell_type": "code",
   "execution_count": 7,
   "id": "30f46c47-e293-4d17-b4ab-59c22d6a8549",
   "metadata": {},
   "outputs": [
    {
     "data": {
      "text/plain": [
       "'Metadata:\\n    CRN: 35056, Course Name: Data Str, Algo App in CmpSys (Spring 2024), Instructor: Valcourt, Scott,\\n    Course Number: CS5008\\n\\n    Question:\\n    What were the strengths of this course and/or this instructor?\\n\\n    Review:\\n    Timing and Canvas are Organized.\\n    '"
      ]
     },
     "execution_count": 7,
     "metadata": {},
     "output_type": "execute_result"
    }
   ],
   "source": [
    "stringified_reviews[0]"
   ]
  },
  {
   "cell_type": "code",
   "execution_count": 8,
   "id": "cb0217a1-7242-46e6-bab3-1b0b2437a3dd",
   "metadata": {},
   "outputs": [],
   "source": [
    "import pandas as pd\n",
    "import numpy as np\n",
    "from sklearn.metrics.pairwise import cosine_similarity\n",
    "import chromadb\n",
    "from chromadb.config import Settings\n",
    "from sentence_transformers import SentenceTransformer"
   ]
  },
  {
   "cell_type": "code",
   "execution_count": 9,
   "id": "8c4b53fe-7d26-4d2e-ad0b-856b8c76f48f",
   "metadata": {},
   "outputs": [
    {
     "name": "stderr",
     "output_type": "stream",
     "text": [
      "\n",
      "KeyboardInterrupt\n",
      "\n"
     ]
    }
   ],
   "source": [
    "# Step 1: Prepare Corpus\n",
    "# Convert Series to list\n",
    "stringified_reviews_list = stringified_reviews.tolist()\n",
    "\n",
    "# Step 2: Embed Texts\n",
    "embedding_model = SentenceTransformer('all-MiniLM-L6-v2')\n",
    "embeddings = embedding_model.encode(stringified_reviews_list)\n",
    "\n",
    "# Step 3: Compute Cosine Similarity Matrix\n",
    "similarity_matrix = cosine_similarity(embeddings)\n",
    "\n",
    "# Step 4: Identify Near-Duplicates\n",
    "threshold = 0.9  # Similarity threshold for duplicates\n",
    "to_remove = set()\n",
    "\n",
    "for i in range(len(similarity_matrix)):\n",
    "    for j in range(i + 1, len(similarity_matrix)):\n",
    "        if similarity_matrix[i, j] > threshold:\n",
    "            to_remove.add(j)  # Mark the later document as a duplicate\n",
    "\n",
    "# Remove duplicates from text_list and embeddings\n",
    "filtered_reviews = [text for idx, text in enumerate(stringified_reviews_list) if idx not in to_remove]\n",
    "filtered_embeddings = [emb for idx, emb in enumerate(embeddings) if idx not in to_remove]\n",
    "\n",
    "# Step 5: Store in ChromaDB\n",
    "# Initialize Chroma client\n",
    "client = chromadb.Client()\n",
    "\n",
    "# Create a collection\n",
    "collection = client.get_or_create_collection(\"text_embeddings_rag\")\n",
    "\n",
    "\n",
    "# Add texts and embeddings to ChromaDB\n",
    "for idx, (review, embedding) in enumerate(zip(filtered_reviews, filtered_embeddings)):\n",
    "    collection.add(\n",
    "        documents=[review],\n",
    "        metadatas=[{\"index\": idx}],\n",
    "        ids=[str(idx)],\n",
    "        embeddings=[embedding.tolist()]\n",
    "    )\n",
    "\n",
    "# Step 6: Verify the Collection\n",
    "print(f\"Original Texts: {len(stringified_reviews_list)}\")\n",
    "print(f\"Filtered Texts (After Deduplication): {len(filtered_texts)}\")"
   ]
  },
  {
   "cell_type": "code",
   "execution_count": null,
   "id": "f2478bb3-7287-470e-8cef-b70d67a2a3e1",
   "metadata": {},
   "outputs": [],
   "source": []
  }
 ],
 "metadata": {
  "kernelspec": {
   "display_name": "Python 3 (ipykernel)",
   "language": "python",
   "name": "python3"
  },
  "language_info": {
   "codemirror_mode": {
    "name": "ipython",
    "version": 3
   },
   "file_extension": ".py",
   "mimetype": "text/x-python",
   "name": "python",
   "nbconvert_exporter": "python",
   "pygments_lexer": "ipython3",
   "version": "3.10.12"
  }
 },
 "nbformat": 4,
 "nbformat_minor": 5
}
